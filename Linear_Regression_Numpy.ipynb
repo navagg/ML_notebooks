{
 "cells": [
  {
   "cell_type": "code",
   "execution_count": 5,
   "metadata": {
    "id": "RPSG1GH-Q2OO"
   },
   "outputs": [],
   "source": [
    "import numpy as np \n",
    "\n",
    "import matplotlib.pyplot as plt "
   ]
  },
  {
   "cell_type": "code",
   "execution_count": 6,
   "metadata": {
    "id": "dOnTJ3c8Q7U9"
   },
   "outputs": [],
   "source": [
    "class Linear_Regression: \n",
    "    def __init__(self, X, Y): \n",
    "        self.X = X \n",
    "        self.Y = Y \n",
    "        self.b = [0, 0] \n",
    "      \n",
    "    def update_coeffs(self, learning_rate): \n",
    "        Y_pred = self.predict() \n",
    "        Y = self.Y \n",
    "        m = len(Y) \n",
    "        self.b[0] = self.b[0] - (learning_rate * ((1/m) *\n",
    "                                np.sum(Y_pred - Y))) \n",
    "  \n",
    "        self.b[1] = self.b[1] - (learning_rate * ((1/m) *\n",
    "                                np.sum((Y_pred - Y) * self.X))) \n",
    "  \n",
    "    def predict(self, X=[]): \n",
    "        Y_pred = np.array([]) \n",
    "        if not X: X = self.X \n",
    "        b = self.b \n",
    "        for x in X: \n",
    "            Y_pred = np.append(Y_pred, b[0] + (b[1] * x)) \n",
    "  \n",
    "        return Y_pred \n",
    "      \n",
    "    def get_current_accuracy(self, Y_pred): \n",
    "        p, e = Y_pred, self.Y \n",
    "        n = len(Y_pred) \n",
    "        return 1-sum( \n",
    "            [ \n",
    "                abs(p[i]-e[i])/e[i] \n",
    "                for i in range(n) \n",
    "                if e[i] != 0] \n",
    "        )/n \n",
    "    #def predict(self, b, yi): \n",
    "  \n",
    "    def compute_cost(self, Y_pred): \n",
    "        m = len(self.Y) \n",
    "        J = (1 / 2*m) * (np.sum(Y_pred - self.Y)**2) \n",
    "        return J \n",
    "  \n",
    "    def plot_best_fit(self, Y_pred, fig): \n",
    "                f = plt.figure(fig) \n",
    "                plt.scatter(self.X, self.Y, color='b') \n",
    "                plt.plot(self.X, Y_pred, color='g') \n",
    "                f.show()"
   ]
  },
  {
   "cell_type": "code",
   "execution_count": 7,
   "metadata": {
    "id": "SqaISjuwQ-jc"
   },
   "outputs": [],
   "source": [
    "X = np.array([i for i in range(11)]) \n",
    "#Y = np.array([2*i for i in range(11)]) \n",
    "Y=np.array([0,2,5,7,9,11,13,15,17,19,21])"
   ]
  },
  {
   "cell_type": "code",
   "execution_count": 8,
   "metadata": {
    "colab": {
     "base_uri": "https://localhost:8080/"
    },
    "id": "rQKVc7JdRG9g",
    "outputId": "f0abbbc9-3256-403f-ffa3-bba3702d9358"
   },
   "outputs": [
    {
     "name": "stdout",
     "output_type": "stream",
     "text": [
      "[ 0  1  2  3  4  5  6  7  8  9 10] [ 0  2  5  7  9 11 13 15 17 19 21]\n"
     ]
    }
   ],
   "source": [
    "print (X,Y)"
   ]
  },
  {
   "cell_type": "code",
   "execution_count": 9,
   "metadata": {
    "id": "1FIlpjT-RJPf"
   },
   "outputs": [],
   "source": [
    "regressor = Linear_Regression(X, Y)"
   ]
  },
  {
   "cell_type": "code",
   "execution_count": 10,
   "metadata": {
    "id": "9AX2pLFKROsQ"
   },
   "outputs": [],
   "source": [
    "iterations = 0\n",
    "steps = 100\n",
    "learning_rate = 0.01\n",
    "costs = [] "
   ]
  },
  {
   "cell_type": "code",
   "execution_count": 13,
   "metadata": {
    "colab": {
     "base_uri": "https://localhost:8080/",
     "height": 265
    },
    "id": "RFbebiGKRS_8",
    "outputId": "c99054bd-4814-496d-8f5c-97de3817f848"
   },
   "outputs": [
    {
     "name": "stdout",
     "output_type": "stream",
     "text": [
      "[0, 0]\n"
     ]
    },
    {
     "name": "stderr",
     "output_type": "stream",
     "text": [
      "/var/folders/ng/cltdy0z56hj7fwjs2p3v1hg80000gn/T/ipykernel_906/1088047906.py:46: UserWarning: FigureCanvasAgg is non-interactive, and thus cannot be shown\n",
      "  f.show()\n"
     ]
    },
    {
     "data": {
      "image/png": "[encoded data removed]",
      "text/plain": [
       "<Figure size 640x480 with 1 Axes>"
      ]
     },
     "metadata": {},
     "output_type": "display_data"
    }
   ],
   "source": [
    "Y_pred = regressor.predict() \n",
    "regressor.plot_best_fit(Y_pred, 'Initial Best Fit Line')\n",
    "print(regressor.b)"
   ]
  },
  {
   "cell_type": "markdown",
   "metadata": {},
   "source": [
    "### Run the following Cell Multiple Times to see how paramters are changing and how accuracy is improving"
   ]
  },
  {
   "cell_type": "code",
   "execution_count": 15,
   "metadata": {
    "colab": {
     "base_uri": "https://localhost:8080/",
     "height": 473
    },
    "id": "L3g20KoXRWuc",
    "outputId": "9b7943b8-90b1-482e-9f4f-2be9be1182c1"
   },
   "outputs": [
    {
     "name": "stdout",
     "output_type": "stream",
     "text": [
      "[0.17782727272727272, 1.230590909090909]\n",
      "Current accuracy is : 0.41579920788244096\n"
     ]
    },
    {
     "name": "stderr",
     "output_type": "stream",
     "text": [
      "/var/folders/ng/cltdy0z56hj7fwjs2p3v1hg80000gn/T/ipykernel_906/1088047906.py:46: UserWarning: FigureCanvasAgg is non-interactive, and thus cannot be shown\n",
      "  f.show()\n"
     ]
    },
    {
     "data": {
      "image/png": "[encoded data removed]",
      "text/plain": [
       "<Figure size 640x480 with 1 Axes>"
      ]
     },
     "metadata": {},
     "output_type": "display_data"
    }
   ],
   "source": [
    "Y_pred = regressor.predict() \n",
    "cost = regressor.compute_cost(Y_pred) \n",
    "costs.append(cost) \n",
    "regressor.update_coeffs(learning_rate)\n",
    "print(regressor.b)\n",
    "regressor.plot_best_fit(Y_pred, 'Best Fit Line')\n",
    "n= regressor.get_current_accuracy(Y_pred)\n",
    "\n",
    "print(\"Current accuracy is :\",n ) \n"
   ]
  },
  {
   "cell_type": "code",
   "execution_count": 22,
   "metadata": {
    "colab": {
     "base_uri": "https://localhost:8080/",
     "height": 265
    },
    "id": "Yth4ljFIRmKs",
    "outputId": "0d790350-5541-4f1f-8e5b-b895905bdd07"
   },
   "outputs": [
    {
     "name": "stderr",
     "output_type": "stream",
     "text": [
      "C:\\ProgramData\\Anaconda3\\lib\\site-packages\\ipykernel_launcher.py:46: UserWarning: Matplotlib is currently using module://ipykernel.pylab.backend_inline, which is a non-GUI backend, so cannot show the figure.\n"
     ]
    },
    {
     "data": {
      "image/png": "[encoded data removed]",
      "text/plain": [
       "<Figure size 432x288 with 1 Axes>"
      ]
     },
     "metadata": {
      "needs_background": "light"
     },
     "output_type": "display_data"
    }
   ],
   "source": [
    "n#final best-fit line \n",
    "regressor.plot_best_fit(Y_pred, 'Final Best Fit Line') \n",
    "  \n"
   ]
  },
  {
   "cell_type": "code",
   "execution_count": null,
   "metadata": {
    "id": "vqkVHRVUR8fc"
   },
   "outputs": [],
   "source": []
  }
 ],
 "metadata": {
  "colab": {
   "provenance": []
  },
  "kernelspec": {
   "display_name": "Python 3 (ipykernel)",
   "language": "python",
   "name": "python3"
  },
  "language_info": {
   "codemirror_mode": {
    "name": "ipython",
    "version": 3
   },
   "file_extension": ".py",
   "mimetype": "text/x-python",
   "name": "python",
   "nbconvert_exporter": "python",
   "pygments_lexer": "ipython3",
   "version": "3.12.2"
  }
 },
 "nbformat": 4,
 "nbformat_minor": 4
}
