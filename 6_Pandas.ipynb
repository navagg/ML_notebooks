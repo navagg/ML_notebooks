{
 "cells": [
  {
   "cell_type": "markdown",
   "metadata": {},
   "source": [
    "## This Notebook is used to understand Pandas module \n",
    "Dr. Naveen Aggarwal"
   ]
  },
  {
   "cell_type": "code",
   "execution_count": 1,
   "metadata": {},
   "outputs": [],
   "source": [
    "import numpy as np\n",
    "import pandas as pd"
   ]
  },
  {
   "cell_type": "markdown",
   "metadata": {},
   "source": [
    "### Creating Structured Array using np array"
   ]
  },
  {
   "cell_type": "code",
   "execution_count": 3,
   "metadata": {},
   "outputs": [
    {
     "name": "stdout",
     "output_type": "stream",
     "text": [
      "[(1, 1.) (1, 1.) (1, 1.)]\n",
      "[1 1 1]\n",
      "[1. 1. 1.]\n"
     ]
    }
   ],
   "source": [
    "# A structured array\n",
    "# Structured arrays allow users to manipulate the data by named fields: \n",
    "#in the example below, a structured array of three tuples is created. \n",
    "#The first element of each tuple will be called ‘foo’ and will be of type int, \n",
    "#while the second element will be named ‘bar’ and will be a float.\n",
    "my_array = np.ones(3, dtype=([('foo', int), ('bar', float)]))\n",
    "# Print the structured array\n",
    "print(my_array)\n",
    "print(my_array['foo'])\n",
    "print(my_array['bar'])"
   ]
  },
  {
   "cell_type": "code",
   "execution_count": 4,
   "metadata": {},
   "outputs": [
    {
     "name": "stdout",
     "output_type": "stream",
     "text": [
      "[(1, 1.) (1, 1.) (1, 1.)]\n",
      "1\n",
      "[1. 1. 1.]\n"
     ]
    }
   ],
   "source": [
    "# A record array\n",
    "my_array2 = my_array.view(np.recarray)\n",
    "# Print the record array\n",
    "print(my_array2)\n",
    "print(my_array2.foo[0])\n",
    "print(my_array2.bar)"
   ]
  },
  {
   "cell_type": "markdown",
   "metadata": {},
   "source": [
    "### Creating Dataframe from np array"
   ]
  },
  {
   "cell_type": "code",
   "execution_count": 5,
   "metadata": {},
   "outputs": [
    {
     "name": "stdout",
     "output_type": "stream",
     "text": [
      "     Col1 Col2\n",
      "Row1    1    2\n",
      "Row2    3    4\n"
     ]
    }
   ],
   "source": [
    "data = np.array([['','Col1','Col2'],\n",
    "                 ['Row1',1,2],\n",
    "                ['Row2',3,4]])\n",
    "                \n",
    "print(pd.DataFrame(data=data[1:,1:],\n",
    "                  index=data[1:,0],\n",
    "                  columns=data[0,1:]))"
   ]
  },
  {
   "cell_type": "markdown",
   "metadata": {},
   "source": [
    "### Creating a DataFrame by passing a dict of objects that can be converted to series-like.\n"
   ]
  },
  {
   "cell_type": "code",
   "execution_count": 6,
   "metadata": {},
   "outputs": [
    {
     "name": "stdout",
     "output_type": "stream",
     "text": [
      "     A          B    C  D    E\n",
      "0  1.0 2013-01-02  1.0  3  foo\n",
      "1  1.0 2013-01-02  1.0  3  foo\n",
      "2  1.0 2013-01-02  1.0  3  foo\n",
      "3  1.0 2013-01-02  1.0  3  foo\n",
      "4  1.0 2013-01-02  1.0  3  foo\n"
     ]
    },
    {
     "data": {
      "text/plain": [
       "A           float64\n",
       "B    datetime64[ns]\n",
       "C           float32\n",
       "D             int32\n",
       "E            object\n",
       "dtype: object"
      ]
     },
     "execution_count": 6,
     "metadata": {},
     "output_type": "execute_result"
    }
   ],
   "source": [
    "df2 = pd.DataFrame({ 'A' : 1.,\n",
    "   ...:              'B' : pd.Timestamp('20130102'),\n",
    "   ...:              'C' : pd.Series(1,index=range(5),dtype='float32'),\n",
    "   ...:              'D' : np.array([3] * 5,dtype='int32'),\n",
    "   ...:              'E' : 'foo' })\n",
    "print(df2)\n",
    "df2.dtypes"
   ]
  },
  {
   "cell_type": "markdown",
   "metadata": {},
   "source": [
    "### Creating Dataframes from array, dictionary and series"
   ]
  },
  {
   "cell_type": "code",
   "execution_count": 7,
   "metadata": {},
   "outputs": [
    {
     "name": "stdout",
     "output_type": "stream",
     "text": [
      "Data Frame From Array\n",
      "    0  1  2\n",
      "0  1  2  3\n",
      "1  4  5  6\n"
     ]
    }
   ],
   "source": [
    "# Take a 2D array as input to your DataFrame \n",
    "my_2darray = np.array([[1, 2, 3], [4, 5, 6]])\n",
    "print(\"Data Frame From Array\\n\", pd.DataFrame(my_2darray))"
   ]
  },
  {
   "cell_type": "code",
   "execution_count": 8,
   "metadata": {},
   "outputs": [
    {
     "name": "stdout",
     "output_type": "stream",
     "text": [
      "Data Frame From Dictionary\n",
      "    A  B  3\n",
      "0  1  1  2\n",
      "1  3  2  4\n"
     ]
    }
   ],
   "source": [
    "# Take a dictionary as input to your DataFrame \n",
    "my_dict = {'A': ['1', '3'], 'B': ['1', '2'], 3: ['2', '4']}\n",
    "print(\"Data Frame From Dictionary\\n\",pd.DataFrame(my_dict))"
   ]
  },
  {
   "cell_type": "code",
   "execution_count": 9,
   "metadata": {},
   "outputs": [
    {
     "name": "stdout",
     "output_type": "stream",
     "text": [
      "Data Frame From another dataframe\n",
      "    A\n",
      "0  4\n",
      "1  5\n",
      "2  6\n",
      "3  7\n"
     ]
    }
   ],
   "source": [
    "# Take a DataFrame as input to your DataFrame \n",
    "my_df = pd.DataFrame(data=[4,5,6,7], index=range(0,4), columns=['A'])\n",
    "print(\"Data Frame From another dataframe\\n\",pd.DataFrame(my_df))"
   ]
  },
  {
   "cell_type": "code",
   "execution_count": 10,
   "metadata": {},
   "outputs": [
    {
     "name": "stdout",
     "output_type": "stream",
     "text": [
      "Data Frame From Series\n",
      "                         0\n",
      "India           New Delhi\n",
      "United Kingdom     London\n"
     ]
    }
   ],
   "source": [
    "# Take a Series as input to your DataFrame\n",
    "my_series = pd.Series({\"United Kingdom\":\"London\", \"India\":\"New Delhi\"})\n",
    "print(\"Data Frame From Series\\n\",pd.DataFrame(my_series))"
   ]
  },
  {
   "cell_type": "markdown",
   "metadata": {},
   "source": [
    "### Shape and Length Property"
   ]
  },
  {
   "cell_type": "code",
   "execution_count": 11,
   "metadata": {},
   "outputs": [
    {
     "name": "stdout",
     "output_type": "stream",
     "text": [
      "3\n",
      "(2, 3)\n",
      "2\n"
     ]
    }
   ],
   "source": [
    "df = pd.DataFrame(np.array([[1, 2, 3], [4, 5, 6]]))\n",
    "\n",
    "# Use the `shape` property\n",
    "print(df.shape[1])\n",
    "print(df.shape)\n",
    "# Or use the `len()` function with the `index` property\n",
    "print(len(df.index))"
   ]
  },
  {
   "cell_type": "code",
   "execution_count": 12,
   "metadata": {},
   "outputs": [
    {
     "data": {
      "text/plain": [
       "[0, 1, 2]"
      ]
     },
     "execution_count": 12,
     "metadata": {},
     "output_type": "execute_result"
    }
   ],
   "source": [
    "list(df.columns.values)"
   ]
  },
  {
   "cell_type": "markdown",
   "metadata": {},
   "source": [
    "### Accesing elements of the dataframe"
   ]
  },
  {
   "cell_type": "code",
   "execution_count": 13,
   "metadata": {},
   "outputs": [
    {
     "name": "stdout",
     "output_type": "stream",
     "text": [
      "   A  B  C\n",
      "0  1  2  3\n",
      "1  4  5  6\n",
      "2  7  8  9\n",
      "1\n",
      "2\n",
      "6\n",
      "9\n",
      "4\n"
     ]
    }
   ],
   "source": [
    "df = pd.DataFrame(data=[[1,2,3],[4,5,6],[7,8,9]], columns=['A', 'B','C'])\n",
    "print(df)\n",
    "\n",
    "# Using `iloc[]`\n",
    "print(df.iloc[0][0])\n",
    "\n",
    "# Using `loc[]`\n",
    "print(df.loc[0]['B'])\n",
    "\n",
    "# Using `at[]`\n",
    "print(df.at[1,'C'])\n",
    "\n",
    "# Using `iat[]`\n",
    "print(df.iat[2,2])\n",
    "\n",
    "# Using `get_value(index, column)`\n",
    "print(df.get_value(1, 'A'))"
   ]
  },
  {
   "cell_type": "markdown",
   "metadata": {},
   "source": [
    "### Adding and Accesing an index to dataframe"
   ]
  },
  {
   "cell_type": "code",
   "execution_count": 2,
   "metadata": {},
   "outputs": [
    {
     "name": "stdout",
     "output_type": "stream",
     "text": [
      "   48  49  50\n",
      "2   1   2   3\n",
      "A   4   5   6\n",
      "4   7   8   9\n"
     ]
    }
   ],
   "source": [
    "df = pd.DataFrame(data=np.array([[1, 2, 3], \n",
    "                                 [4, 5, 6], \n",
    "                                 [7, 8, 9]]), \n",
    "                  index= [2, 'A', 4], \n",
    "                  columns=[48, 49, 50])\n",
    "\n",
    "print(df)"
   ]
  },
  {
   "cell_type": "code",
   "execution_count": 58,
   "metadata": {},
   "outputs": [
    {
     "name": "stdout",
     "output_type": "stream",
     "text": [
      "Accesing you loc\n",
      " 48    1\n",
      "49    2\n",
      "50    3\n",
      "Name: 2, dtype: int32\n",
      "Accessing you iloc\n",
      " 48    7\n",
      "49    8\n",
      "50    9\n",
      "Name: 4, dtype: int32\n",
      "Accesing you ix\n",
      " 48    7\n",
      "49    8\n",
      "50    9\n",
      "Name: 4, dtype: int32\n"
     ]
    },
    {
     "name": "stderr",
     "output_type": "stream",
     "text": [
      "D:\\ProgramData\\Anaconda\\lib\\site-packages\\ipykernel_launcher.py:8: DeprecationWarning: \n",
      ".ix is deprecated. Please use\n",
      ".loc for label based indexing or\n",
      ".iloc for positional indexing\n",
      "\n",
      "See the documentation here:\n",
      "http://pandas.pydata.org/pandas-docs/stable/indexing.html#ix-indexer-is-deprecated\n",
      "  \n"
     ]
    }
   ],
   "source": [
    "# Pass `2` to `loc`\n",
    "print(\"Accesing you loc\\n\",df.loc[2])\n",
    "\n",
    "# Pass `2` to `iloc`\n",
    "print(\"Accessing you iloc\\n\",df.iloc[2])\n",
    "\n",
    "# Pass `2` to `ix`\n",
    "print(\"Accesing you ix\\n\",df.ix[2])"
   ]
  },
  {
   "cell_type": "markdown",
   "metadata": {},
   "source": [
    "### Adding a row to data frame"
   ]
  },
  {
   "cell_type": "code",
   "execution_count": 15,
   "metadata": {},
   "outputs": [
    {
     "name": "stdout",
     "output_type": "stream",
     "text": [
      "      48  49  50\n",
      "2.0   60  50  40\n",
      "12.6   4   5   6\n",
      "4.8    7   8   9\n",
      "      48  49  50\n",
      "2.0   11  12  13\n",
      "12.6   4   5   6\n",
      "4.8    7   8   9\n"
     ]
    },
    {
     "name": "stderr",
     "output_type": "stream",
     "text": [
      "D:\\ProgramData\\Anaconda\\lib\\site-packages\\ipykernel_launcher.py:9: DeprecationWarning: \n",
      ".ix is deprecated. Please use\n",
      ".loc for label based indexing or\n",
      ".iloc for positional indexing\n",
      "\n",
      "See the documentation here:\n",
      "http://pandas.pydata.org/pandas-docs/stable/indexing.html#ix-indexer-is-deprecated\n",
      "  if __name__ == '__main__':\n"
     ]
    }
   ],
   "source": [
    "df = pd.DataFrame(data=np.array([[1, 2, 3], \n",
    "                                 [4, 5, 6], \n",
    "                                 [7, 8, 9]]), \n",
    "                  index= [2, 12.6, 4.8], \n",
    "                  columns=[48, 49, 50])\n",
    "\n",
    "# There's no index labeled `2`, \n",
    "#so you will change the index at position `2`\n",
    "df.ix[2] = [60, 50, 40]\n",
    "print(df)\n",
    "\n",
    "# This will make an index labeled `2` \n",
    "#and add the new values\n",
    "df.loc[2] = [11, 12, 13]\n",
    "print(df)"
   ]
  },
  {
   "cell_type": "markdown",
   "metadata": {},
   "source": [
    "### Adding a Column to data frame"
   ]
  },
  {
   "cell_type": "code",
   "execution_count": 17,
   "metadata": {},
   "outputs": [
    {
     "name": "stdout",
     "output_type": "stream",
     "text": [
      "   A  B  C\n",
      "0  1  2  3\n",
      "1  4  5  6\n",
      "2  7  8  9\n",
      "After Adding the Column\n",
      "    A  B  C  D\n",
      "0  1  2  3  0\n",
      "1  4  5  6  1\n",
      "2  7  8  9  2\n"
     ]
    }
   ],
   "source": [
    "df = pd.DataFrame(data=np.array([[1, 2, 3], \n",
    "                                 [4, 5, 6], \n",
    "                                 [7, 8, 9]]), \n",
    "                  columns=['A', 'B', 'C'])\n",
    "\n",
    "print(df)\n",
    "\n",
    "# Use `.index`\n",
    "df['D'] = df.index\n",
    "\n",
    "# Print `df`\n",
    "print(\"After Adding the Column\\n\", df)"
   ]
  },
  {
   "cell_type": "markdown",
   "metadata": {},
   "source": [
    "### Another way of adding column"
   ]
  },
  {
   "cell_type": "code",
   "execution_count": 61,
   "metadata": {},
   "outputs": [
    {
     "name": "stdout",
     "output_type": "stream",
     "text": [
      "After Adding another Column\n",
      "    A  B  C  D   E\n",
      "0  1  2  3  0  11\n",
      "1  4  5  6  1  12\n",
      "2  7  8  9  2  13\n",
      "After Adding another Column\n",
      "    A  B  C  D   E  3\n",
      "0  1  2  3  0  11  5\n",
      "1  4  5  6  1  12  6\n",
      "2  7  8  9  2  13  7\n"
     ]
    }
   ],
   "source": [
    "df['E']=[11,12,13]\n",
    "\n",
    "# Print `df`\n",
    "print(\"After Adding another Column\\n\", df)\n",
    "\n",
    "df.loc[:, 3] = pd.Series(['5', '6', '7'], index=df.index)\n",
    "# Print `df`\n",
    "print(\"After Adding another Column\\n\", df)\n"
   ]
  },
  {
   "cell_type": "markdown",
   "metadata": {},
   "source": [
    "### Resetting the index"
   ]
  },
  {
   "cell_type": "code",
   "execution_count": 18,
   "metadata": {},
   "outputs": [
    {
     "name": "stdout",
     "output_type": "stream",
     "text": [
      "   A  B  C\n",
      "0  1  2  3\n",
      "1  4  5  6\n",
      "2  7  8  9\n",
      "   A  B  C\n",
      "0  1  2  3\n",
      "1  4  5  6\n",
      "2  7  8  9\n",
      "   A  B  C\n",
      "0  1  2  3\n",
      "1  4  5  6\n",
      "2  7  8  9\n"
     ]
    }
   ],
   "source": [
    "# Check out the weird index of your dataframe\n",
    "df = pd.DataFrame(data=np.array([[1, 2, 3], \n",
    "                                 [4, 5, 6], \n",
    "                                 [7, 8, 9]]), \n",
    "                  columns=['A', 'B', 'C'])\n",
    "\n",
    "print(df)\n",
    "\n",
    "# Use `reset_index()` to reset the values\n",
    "print(df.reset_index(level=0, drop=True))\n",
    "\n",
    "# Use `reset_index()` to reset the values\n",
    "df.reset_index(level=0, inplace=False)\n",
    "print(df)\n"
   ]
  },
  {
   "cell_type": "markdown",
   "metadata": {},
   "source": [
    "### Deleting the Column"
   ]
  },
  {
   "cell_type": "code",
   "execution_count": 66,
   "metadata": {},
   "outputs": [
    {
     "name": "stdout",
     "output_type": "stream",
     "text": [
      "      A  B  C\n",
      "2.5   1  2  3\n",
      "12.6  4  5  6\n",
      "4.8   7  8  9\n",
      "After Droping the Column \n",
      "       B  C\n",
      "2.5   2  3\n",
      "12.6  5  6\n",
      "4.8   8  9\n",
      "After Dropping another Column\n",
      "      B\n",
      "2.5   2\n",
      "12.6  5\n",
      "4.8   8\n"
     ]
    }
   ],
   "source": [
    "df = pd.DataFrame(data=np.array([[1, 2, 3], [4, 5, 6], [7, 8, 9]]), \n",
    "                  index= [2.5, 12.6, 4.8], \n",
    "                  columns=['A','B','C'])\n",
    "                  \n",
    "print(df)\n",
    "# Drop the column with label 'A'                  \n",
    "df.drop('A', axis=1, inplace=True)\n",
    "print(\"After Droping the Column \\n\",df)\n",
    "# Drop the column at position 2\n",
    "print(\"After Dropping another Column\")\n",
    "print(df.drop(df.columns[1], axis=1))"
   ]
  },
  {
   "cell_type": "markdown",
   "metadata": {},
   "source": [
    "### Deleting the Row"
   ]
  },
  {
   "cell_type": "code",
   "execution_count": 19,
   "metadata": {},
   "outputs": [
    {
     "name": "stdout",
     "output_type": "stream",
     "text": [
      "      48  49  50\n",
      "2.5    1   2   3\n",
      "12.6   4   5   6\n",
      "4.8    7   8   9\n",
      "4.8    7   8  10\n",
      "\n",
      "\n",
      "      48  49  50\n",
      "2.5    1   2   3\n",
      "12.6   4   5   6\n",
      "4.8    7   8  10\n",
      "\n",
      "Drop the index at position 1\n",
      "     48  49  50\n",
      "2.5   1   2   3\n",
      "4.8   7   8  10\n"
     ]
    }
   ],
   "source": [
    "df = pd.DataFrame(data=np.array([[1, 2, 3], \n",
    "                                 [4, 5, 6], \n",
    "                                 [7, 8, 9], \n",
    "                                 [7, 8, 10]]), \n",
    "                  index= [2.5, 12.6, 4.8, 4.8], \n",
    "                  columns=[48, 49, 50])\n",
    "                  \n",
    "\n",
    "# Check out your DataFrame `df`\n",
    "print(df)\n",
    "print(\"\\n\")\n",
    "# Drop the duplicates in `df`\n",
    "df=pd.DataFrame(data=df.drop_duplicates([48], keep='last'))\n",
    "print(df)\n",
    "\n",
    "print(\"\\nDrop the index at position 1\")\n",
    "print(df.drop(df.index[1]))\n"
   ]
  },
  {
   "cell_type": "markdown",
   "metadata": {},
   "source": [
    "### Renaming the Index or Coulmns of Dataframe"
   ]
  },
  {
   "cell_type": "code",
   "execution_count": 20,
   "metadata": {},
   "outputs": [
    {
     "name": "stdout",
     "output_type": "stream",
     "text": [
      "      48  49  50\n",
      "2.5    1   2   3\n",
      "12.6   4   5   6\n",
      "4.8    7   8   9\n",
      "4.8    7   8  10\n",
      "After Renaming the Columns\n",
      "       A  B   C\n",
      "2.5   1  2   3\n",
      "12.6  4  5   6\n",
      "4.8   7  8   9\n",
      "4.8   7  8  10\n",
      "After Renaming the Index\n",
      "       A  B   C\n",
      "a     1  2   3\n",
      "12.6  4  5   6\n",
      "4.8   7  8   9\n",
      "4.8   7  8  10\n"
     ]
    }
   ],
   "source": [
    "df = pd.DataFrame(data=np.array([[1, 2, 3], \n",
    "                                 [4, 5, 6], \n",
    "                                 [7, 8, 9], \n",
    "                                 [7, 8, 10]]), \n",
    "                  index= [2.5, 12.6, 4.8, 4.8], \n",
    "                  columns=[48, 49, 50])\n",
    "\n",
    "print(df)\n",
    "# Define the new names of your columns\n",
    "newcols = {\n",
    "    48: 'A', \n",
    "    49: 'B', \n",
    "    50: 'C'\n",
    "}\n",
    "\n",
    "# Use `rename()` to rename your columns\n",
    "df.rename(columns=newcols, inplace=True)\n",
    "\n",
    "print(\"After Renaming the Columns\\n\", df)\n",
    "\n",
    "# Rename your index\n",
    "df=pd.DataFrame(data=df.rename(index={2.5: 'a'}))\n",
    "\n",
    "print(\"After Renaming the Index\\n\", df)"
   ]
  },
  {
   "cell_type": "markdown",
   "metadata": {},
   "source": [
    "### Reading from CSV Files"
   ]
  },
  {
   "cell_type": "code",
   "execution_count": 21,
   "metadata": {},
   "outputs": [
    {
     "name": "stdout",
     "output_type": "stream",
     "text": [
      "     Comp  Circ  D.Circ  Rad.Ra  Pr.Axis.Ra  Max.L.Ra  Scat.Ra  Elong  \\\n",
      "0      95    48      83     178          72        10      162     42   \n",
      "1      91    41      84     141          57         9      149     45   \n",
      "2     104    50     106     209          66        10      207     32   \n",
      "3      93    41      82     159          63         9      144     46   \n",
      "4      85    44      70     205         103        52      149     45   \n",
      "5     107    57     106     172          50         6      255     26   \n",
      "6      97    43      73     173          65         6      153     42   \n",
      "7      90    43      66     157          65         9      137     48   \n",
      "8      86    34      62     140          61         7      122     54   \n",
      "9      93    44      98     197          62        11      183     36   \n",
      "10     86    36      70     143          61         9      133     50   \n",
      "11     90    34      66     136          55         6      123     54   \n",
      "12     88    46      74     171          68         6      152     43   \n",
      "13     89    42      85     144          58        10      152     44   \n",
      "14     94    49      79     203          71         5      174     37   \n",
      "15     96    55     103     201          65         9      204     32   \n",
      "16     89    36      51     109          52         6      118     57   \n",
      "17     99    41      77     197          69         6      177     36   \n",
      "18    104    54     100     186          61        10      216     31   \n",
      "19    101    56     100     215          69        10      208     32   \n",
      "20     84    47      75     153          64         6      154     43   \n",
      "21     84    37      53     121          59         5      123     55   \n",
      "22     94    43      64     173          69         7      150     43   \n",
      "23     87    39      70     148          61         7      143     46   \n",
      "24     99    53     105     219          66        11      204     32   \n",
      "25     85    45      80     154          64         9      147     45   \n",
      "26     83    36      54     119          57         6      128     53   \n",
      "27    107    54      98     203          65        11      218     31   \n",
      "28    102    45      85     193          64         6      192     33   \n",
      "29     80    38      63     129          55         7      146     46   \n",
      "..    ...   ...     ...     ...         ...       ...      ...    ...   \n",
      "816    90    48      85     157          64        11      161     43   \n",
      "817   104    53     108     204          64        11      220     31   \n",
      "818    95    43      96     202          65        10      189     35   \n",
      "819    93    42      98     192          63         9      185     36   \n",
      "820    87    38      71     123          53         8      137     49   \n",
      "821   104    56      96     231          74        11      220     30   \n",
      "822    95    41      82     170          65         9      145     46   \n",
      "823   105    54     105     213          67        10      200     33   \n",
      "824   106    55      96     196          60        12      221     30   \n",
      "825    86    39      84     149          57         8      156     43   \n",
      "826    95    49      92     193          62        10      178     37   \n",
      "827    99    57     100     177          54        13      224     30   \n",
      "828    89    42      66     125          53         7      131     51   \n",
      "829    95    49      82     139          56        11      159     43   \n",
      "830    97    37      70     173          66         7      151     43   \n",
      "831   100    47      70     185          70         7      162     40   \n",
      "832   108    49     109     204          61        11      212     31   \n",
      "833    92    46      83     154          56         6      160     41   \n",
      "834    82    36      51     114          53         4      135     50   \n",
      "835   111    58     105     183          51         6      265     26   \n",
      "836    87    45      66     139          58         8      140     47   \n",
      "837    94    46      77     169          60         8      158     42   \n",
      "838    95    43      76     142          57        10      151     44   \n",
      "839    90    44      72     157          64         8      137     48   \n",
      "840    93    34      66     140          56         7      130     51   \n",
      "841    93    39      87     183          64         8      169     40   \n",
      "842    89    46      84     163          66        11      159     43   \n",
      "843   106    54     101     222          67        12      222     30   \n",
      "844    86    36      78     146          58         7      135     50   \n",
      "845    85    36      66     123          55         5      120     56   \n",
      "\n",
      "     Pr.Axis.Rect  Max.L.Rect  Sc.Var.Maxis  Sc.Var.maxis  Ra.Gyr  Skew.Maxis  \\\n",
      "0              20         159           176           379     184          70   \n",
      "1              19         143           170           330     158          72   \n",
      "2              23         158           223           635     220          73   \n",
      "3              19         143           160           309     127          63   \n",
      "4              19         144           241           325     188         127   \n",
      "5              28         169           280           957     264          85   \n",
      "6              19         143           176           361     172          66   \n",
      "7              18         146           162           281     164          67   \n",
      "8              17         127           141           223     112          64   \n",
      "9              22         146           202           505     152          64   \n",
      "10             18         130           153           266     127          66   \n",
      "11             17         118           148           224     118          65   \n",
      "12             19         148           180           349     192          71   \n",
      "13             19         144           173           345     161          72   \n",
      "14             21         154           196           465     206          71   \n",
      "15             23         166           227           624     246          74   \n",
      "16             17         129           137           206     125          80   \n",
      "17             21         139           202           485     151          72   \n",
      "18             24         173           225           686     220          74   \n",
      "19             24         169           227           651     223          74   \n",
      "20             19         145           175           354     184          75   \n",
      "21             17         125           141           221     133          82   \n",
      "22             19         142           169           344     177          68   \n",
      "23             18         136           164           307     141          69   \n",
      "24             23         165           221           623     224          68   \n",
      "25             19         148           169           324     174          71   \n",
      "26             18         125           143           238     139          82   \n",
      "27             25         167           229           696     216          72   \n",
      "28             22         146           217           570     163          76   \n",
      "29             19         130           168           314     158          83   \n",
      "..            ...         ...           ...           ...     ...         ...   \n",
      "816            20         167           175           375     186          74   \n",
      "817            25         172           226           707     203          71   \n",
      "818            22         143           217           534     166          71   \n",
      "819            22         138           206           508     173          70   \n",
      "820            18         127           158           277     145          75   \n",
      "821            25         172           223           713     218          73   \n",
      "822            19         145           163           314     140          64   \n",
      "823            23         163           214           597     214          68   \n",
      "824            25         173           225           717     214          72   \n",
      "825            20         133           185           358     157          74   \n",
      "826            21         154           200           478     171          64   \n",
      "827            25         188           223           726     213          72   \n",
      "828            18         144           162           254     162          73   \n",
      "829            20         162           173           365     185          75   \n",
      "830            19         129           167           346     119          65   \n",
      "831            20         153           179           406     172          68   \n",
      "832            24         159           229           665     215          71   \n",
      "833            20         148           185           382     184          71   \n",
      "834            18         126           150           268     144          86   \n",
      "835            29         174           285          1018     255          85   \n",
      "836            18         148           168           294     175          73   \n",
      "837            20         148           181           373     181          67   \n",
      "838            19         149           173           339     159          71   \n",
      "839            18         144           159           283     171          65   \n",
      "840            18         120           151           251     114          62   \n",
      "841            20         134           200           422     149          72   \n",
      "842            20         159           173           368     176          72   \n",
      "843            25         173           228           721     200          70   \n",
      "844            18         124           155           270     148          66   \n",
      "845            17         128           140           212     131          73   \n",
      "\n",
      "     Skew.maxis  Kurt.maxis  Kurt.Maxis  Holl.Ra Class  \n",
      "0             6          16         187      197   van  \n",
      "1             9          14         189      199   van  \n",
      "2            14           9         188      196  saab  \n",
      "3             6          10         199      207   van  \n",
      "4             9          11         180      183   bus  \n",
      "5             5           9         181      183   bus  \n",
      "6            13           1         200      204   bus  \n",
      "7             3           3         193      202   van  \n",
      "8             2          14         200      208   van  \n",
      "9             4          14         195      204  saab  \n",
      "10            2          10         194      202   van  \n",
      "11            5          26         196      202  saab  \n",
      "12            5          11         189      195   bus  \n",
      "13            8          13         187      197   van  \n",
      "14            6           2         197      199   bus  \n",
      "15            6           2         186      194  opel  \n",
      "16            2          14         181      185   van  \n",
      "17            4          10         198      199   bus  \n",
      "18            5          11         185      195  saab  \n",
      "19            6           5         186      193  opel  \n",
      "20            0           3         185      192   bus  \n",
      "21            7           1         179      183   van  \n",
      "22            9           1         199      206   bus  \n",
      "23            1           2         192      199   bus  \n",
      "24            0           6         191      201  saab  \n",
      "25            1           4         188      199   van  \n",
      "26            6           3         179      183  saab  \n",
      "27            1          28         187      199  saab  \n",
      "28            6           7         195      193   bus  \n",
      "29            9          20         180      185  saab  \n",
      "..          ...         ...         ...      ...   ...  \n",
      "816           3          16         185      195   van  \n",
      "817          14          30         189      203  saab  \n",
      "818           6          27         190      197  opel  \n",
      "819          10          21         189      197  saab  \n",
      "820           0           9         181      186  saab  \n",
      "821           6          16         186      195  opel  \n",
      "822           4           8         199      207   van  \n",
      "823          10          20         190      198  opel  \n",
      "824           9          13         186      196  opel  \n",
      "825           0          23         183      190  opel  \n",
      "826           2           0         198      206  opel  \n",
      "827           4           7         185      198  opel  \n",
      "828          10          17         188      191   van  \n",
      "829           7          10         182      191   van  \n",
      "830           0          16         201      208   bus  \n",
      "831           9           6         200      205   bus  \n",
      "832          16          11         190      199  saab  \n",
      "833          10           5         186      191  saab  \n",
      "834          15           4         181      182  saab  \n",
      "835           4           8         181      183   bus  \n",
      "836           3          12         188      196   van  \n",
      "837          12           2         193      199  saab  \n",
      "838           2          23         187      200   van  \n",
      "839           9           4         196      203   van  \n",
      "840           5          29         201      207  opel  \n",
      "841           7          25         188      195  saab  \n",
      "842           1          20         186      197   van  \n",
      "843           3           4         187      201  saab  \n",
      "844           0          25         190      195  saab  \n",
      "845           1          18         186      190   van  \n",
      "\n",
      "[846 rows x 19 columns]\n"
     ]
    }
   ],
   "source": [
    "vehicle=pd.read_csv(\"D:\\onedrive\\Python\\dataset\\Vehicle.csv\")\n",
    "print(vehicle)"
   ]
  },
  {
   "cell_type": "markdown",
   "metadata": {},
   "source": [
    "### Displaying the top and bottom rows of the data"
   ]
  },
  {
   "cell_type": "code",
   "execution_count": 70,
   "metadata": {},
   "outputs": [
    {
     "data": {
      "text/html": [
       "<div>\n",
       "<style>\n",
       "    .dataframe thead tr:only-child th {\n",
       "        text-align: right;\n",
       "    }\n",
       "\n",
       "    .dataframe thead th {\n",
       "        text-align: left;\n",
       "    }\n",
       "\n",
       "    .dataframe tbody tr th {\n",
       "        vertical-align: top;\n",
       "    }\n",
       "</style>\n",
       "<table border=\"1\" class=\"dataframe\">\n",
       "  <thead>\n",
       "    <tr style=\"text-align: right;\">\n",
       "      <th></th>\n",
       "      <th>Comp</th>\n",
       "      <th>Circ</th>\n",
       "      <th>D.Circ</th>\n",
       "      <th>Rad.Ra</th>\n",
       "      <th>Pr.Axis.Ra</th>\n",
       "      <th>Max.L.Ra</th>\n",
       "      <th>Scat.Ra</th>\n",
       "      <th>Elong</th>\n",
       "      <th>Pr.Axis.Rect</th>\n",
       "      <th>Max.L.Rect</th>\n",
       "      <th>Sc.Var.Maxis</th>\n",
       "      <th>Sc.Var.maxis</th>\n",
       "      <th>Ra.Gyr</th>\n",
       "      <th>Skew.Maxis</th>\n",
       "      <th>Skew.maxis</th>\n",
       "      <th>Kurt.maxis</th>\n",
       "      <th>Kurt.Maxis</th>\n",
       "      <th>Holl.Ra</th>\n",
       "      <th>Class</th>\n",
       "    </tr>\n",
       "  </thead>\n",
       "  <tbody>\n",
       "    <tr>\n",
       "      <th>0</th>\n",
       "      <td>95</td>\n",
       "      <td>48</td>\n",
       "      <td>83</td>\n",
       "      <td>178</td>\n",
       "      <td>72</td>\n",
       "      <td>10</td>\n",
       "      <td>162</td>\n",
       "      <td>42</td>\n",
       "      <td>20</td>\n",
       "      <td>159</td>\n",
       "      <td>176</td>\n",
       "      <td>379</td>\n",
       "      <td>184</td>\n",
       "      <td>70</td>\n",
       "      <td>6</td>\n",
       "      <td>16</td>\n",
       "      <td>187</td>\n",
       "      <td>197</td>\n",
       "      <td>van</td>\n",
       "    </tr>\n",
       "    <tr>\n",
       "      <th>1</th>\n",
       "      <td>91</td>\n",
       "      <td>41</td>\n",
       "      <td>84</td>\n",
       "      <td>141</td>\n",
       "      <td>57</td>\n",
       "      <td>9</td>\n",
       "      <td>149</td>\n",
       "      <td>45</td>\n",
       "      <td>19</td>\n",
       "      <td>143</td>\n",
       "      <td>170</td>\n",
       "      <td>330</td>\n",
       "      <td>158</td>\n",
       "      <td>72</td>\n",
       "      <td>9</td>\n",
       "      <td>14</td>\n",
       "      <td>189</td>\n",
       "      <td>199</td>\n",
       "      <td>van</td>\n",
       "    </tr>\n",
       "    <tr>\n",
       "      <th>2</th>\n",
       "      <td>104</td>\n",
       "      <td>50</td>\n",
       "      <td>106</td>\n",
       "      <td>209</td>\n",
       "      <td>66</td>\n",
       "      <td>10</td>\n",
       "      <td>207</td>\n",
       "      <td>32</td>\n",
       "      <td>23</td>\n",
       "      <td>158</td>\n",
       "      <td>223</td>\n",
       "      <td>635</td>\n",
       "      <td>220</td>\n",
       "      <td>73</td>\n",
       "      <td>14</td>\n",
       "      <td>9</td>\n",
       "      <td>188</td>\n",
       "      <td>196</td>\n",
       "      <td>saab</td>\n",
       "    </tr>\n",
       "    <tr>\n",
       "      <th>3</th>\n",
       "      <td>93</td>\n",
       "      <td>41</td>\n",
       "      <td>82</td>\n",
       "      <td>159</td>\n",
       "      <td>63</td>\n",
       "      <td>9</td>\n",
       "      <td>144</td>\n",
       "      <td>46</td>\n",
       "      <td>19</td>\n",
       "      <td>143</td>\n",
       "      <td>160</td>\n",
       "      <td>309</td>\n",
       "      <td>127</td>\n",
       "      <td>63</td>\n",
       "      <td>6</td>\n",
       "      <td>10</td>\n",
       "      <td>199</td>\n",
       "      <td>207</td>\n",
       "      <td>van</td>\n",
       "    </tr>\n",
       "    <tr>\n",
       "      <th>4</th>\n",
       "      <td>85</td>\n",
       "      <td>44</td>\n",
       "      <td>70</td>\n",
       "      <td>205</td>\n",
       "      <td>103</td>\n",
       "      <td>52</td>\n",
       "      <td>149</td>\n",
       "      <td>45</td>\n",
       "      <td>19</td>\n",
       "      <td>144</td>\n",
       "      <td>241</td>\n",
       "      <td>325</td>\n",
       "      <td>188</td>\n",
       "      <td>127</td>\n",
       "      <td>9</td>\n",
       "      <td>11</td>\n",
       "      <td>180</td>\n",
       "      <td>183</td>\n",
       "      <td>bus</td>\n",
       "    </tr>\n",
       "    <tr>\n",
       "      <th>5</th>\n",
       "      <td>107</td>\n",
       "      <td>57</td>\n",
       "      <td>106</td>\n",
       "      <td>172</td>\n",
       "      <td>50</td>\n",
       "      <td>6</td>\n",
       "      <td>255</td>\n",
       "      <td>26</td>\n",
       "      <td>28</td>\n",
       "      <td>169</td>\n",
       "      <td>280</td>\n",
       "      <td>957</td>\n",
       "      <td>264</td>\n",
       "      <td>85</td>\n",
       "      <td>5</td>\n",
       "      <td>9</td>\n",
       "      <td>181</td>\n",
       "      <td>183</td>\n",
       "      <td>bus</td>\n",
       "    </tr>\n",
       "  </tbody>\n",
       "</table>\n",
       "</div>"
      ],
      "text/plain": [
       "   Comp  Circ  D.Circ  Rad.Ra  Pr.Axis.Ra  Max.L.Ra  Scat.Ra  Elong  \\\n",
       "0    95    48      83     178          72        10      162     42   \n",
       "1    91    41      84     141          57         9      149     45   \n",
       "2   104    50     106     209          66        10      207     32   \n",
       "3    93    41      82     159          63         9      144     46   \n",
       "4    85    44      70     205         103        52      149     45   \n",
       "5   107    57     106     172          50         6      255     26   \n",
       "\n",
       "   Pr.Axis.Rect  Max.L.Rect  Sc.Var.Maxis  Sc.Var.maxis  Ra.Gyr  Skew.Maxis  \\\n",
       "0            20         159           176           379     184          70   \n",
       "1            19         143           170           330     158          72   \n",
       "2            23         158           223           635     220          73   \n",
       "3            19         143           160           309     127          63   \n",
       "4            19         144           241           325     188         127   \n",
       "5            28         169           280           957     264          85   \n",
       "\n",
       "   Skew.maxis  Kurt.maxis  Kurt.Maxis  Holl.Ra Class  \n",
       "0           6          16         187      197   van  \n",
       "1           9          14         189      199   van  \n",
       "2          14           9         188      196  saab  \n",
       "3           6          10         199      207   van  \n",
       "4           9          11         180      183   bus  \n",
       "5           5           9         181      183   bus  "
      ]
     },
     "execution_count": 70,
     "metadata": {},
     "output_type": "execute_result"
    }
   ],
   "source": [
    "vehicle.head(6)"
   ]
  },
  {
   "cell_type": "code",
   "execution_count": 71,
   "metadata": {},
   "outputs": [
    {
     "data": {
      "text/html": [
       "<div>\n",
       "<style>\n",
       "    .dataframe thead tr:only-child th {\n",
       "        text-align: right;\n",
       "    }\n",
       "\n",
       "    .dataframe thead th {\n",
       "        text-align: left;\n",
       "    }\n",
       "\n",
       "    .dataframe tbody tr th {\n",
       "        vertical-align: top;\n",
       "    }\n",
       "</style>\n",
       "<table border=\"1\" class=\"dataframe\">\n",
       "  <thead>\n",
       "    <tr style=\"text-align: right;\">\n",
       "      <th></th>\n",
       "      <th>Comp</th>\n",
       "      <th>Circ</th>\n",
       "      <th>D.Circ</th>\n",
       "      <th>Rad.Ra</th>\n",
       "      <th>Pr.Axis.Ra</th>\n",
       "      <th>Max.L.Ra</th>\n",
       "      <th>Scat.Ra</th>\n",
       "      <th>Elong</th>\n",
       "      <th>Pr.Axis.Rect</th>\n",
       "      <th>Max.L.Rect</th>\n",
       "      <th>Sc.Var.Maxis</th>\n",
       "      <th>Sc.Var.maxis</th>\n",
       "      <th>Ra.Gyr</th>\n",
       "      <th>Skew.Maxis</th>\n",
       "      <th>Skew.maxis</th>\n",
       "      <th>Kurt.maxis</th>\n",
       "      <th>Kurt.Maxis</th>\n",
       "      <th>Holl.Ra</th>\n",
       "      <th>Class</th>\n",
       "    </tr>\n",
       "  </thead>\n",
       "  <tbody>\n",
       "    <tr>\n",
       "      <th>842</th>\n",
       "      <td>89</td>\n",
       "      <td>46</td>\n",
       "      <td>84</td>\n",
       "      <td>163</td>\n",
       "      <td>66</td>\n",
       "      <td>11</td>\n",
       "      <td>159</td>\n",
       "      <td>43</td>\n",
       "      <td>20</td>\n",
       "      <td>159</td>\n",
       "      <td>173</td>\n",
       "      <td>368</td>\n",
       "      <td>176</td>\n",
       "      <td>72</td>\n",
       "      <td>1</td>\n",
       "      <td>20</td>\n",
       "      <td>186</td>\n",
       "      <td>197</td>\n",
       "      <td>van</td>\n",
       "    </tr>\n",
       "    <tr>\n",
       "      <th>843</th>\n",
       "      <td>106</td>\n",
       "      <td>54</td>\n",
       "      <td>101</td>\n",
       "      <td>222</td>\n",
       "      <td>67</td>\n",
       "      <td>12</td>\n",
       "      <td>222</td>\n",
       "      <td>30</td>\n",
       "      <td>25</td>\n",
       "      <td>173</td>\n",
       "      <td>228</td>\n",
       "      <td>721</td>\n",
       "      <td>200</td>\n",
       "      <td>70</td>\n",
       "      <td>3</td>\n",
       "      <td>4</td>\n",
       "      <td>187</td>\n",
       "      <td>201</td>\n",
       "      <td>saab</td>\n",
       "    </tr>\n",
       "    <tr>\n",
       "      <th>844</th>\n",
       "      <td>86</td>\n",
       "      <td>36</td>\n",
       "      <td>78</td>\n",
       "      <td>146</td>\n",
       "      <td>58</td>\n",
       "      <td>7</td>\n",
       "      <td>135</td>\n",
       "      <td>50</td>\n",
       "      <td>18</td>\n",
       "      <td>124</td>\n",
       "      <td>155</td>\n",
       "      <td>270</td>\n",
       "      <td>148</td>\n",
       "      <td>66</td>\n",
       "      <td>0</td>\n",
       "      <td>25</td>\n",
       "      <td>190</td>\n",
       "      <td>195</td>\n",
       "      <td>saab</td>\n",
       "    </tr>\n",
       "    <tr>\n",
       "      <th>845</th>\n",
       "      <td>85</td>\n",
       "      <td>36</td>\n",
       "      <td>66</td>\n",
       "      <td>123</td>\n",
       "      <td>55</td>\n",
       "      <td>5</td>\n",
       "      <td>120</td>\n",
       "      <td>56</td>\n",
       "      <td>17</td>\n",
       "      <td>128</td>\n",
       "      <td>140</td>\n",
       "      <td>212</td>\n",
       "      <td>131</td>\n",
       "      <td>73</td>\n",
       "      <td>1</td>\n",
       "      <td>18</td>\n",
       "      <td>186</td>\n",
       "      <td>190</td>\n",
       "      <td>van</td>\n",
       "    </tr>\n",
       "  </tbody>\n",
       "</table>\n",
       "</div>"
      ],
      "text/plain": [
       "     Comp  Circ  D.Circ  Rad.Ra  Pr.Axis.Ra  Max.L.Ra  Scat.Ra  Elong  \\\n",
       "842    89    46      84     163          66        11      159     43   \n",
       "843   106    54     101     222          67        12      222     30   \n",
       "844    86    36      78     146          58         7      135     50   \n",
       "845    85    36      66     123          55         5      120     56   \n",
       "\n",
       "     Pr.Axis.Rect  Max.L.Rect  Sc.Var.Maxis  Sc.Var.maxis  Ra.Gyr  Skew.Maxis  \\\n",
       "842            20         159           173           368     176          72   \n",
       "843            25         173           228           721     200          70   \n",
       "844            18         124           155           270     148          66   \n",
       "845            17         128           140           212     131          73   \n",
       "\n",
       "     Skew.maxis  Kurt.maxis  Kurt.Maxis  Holl.Ra Class  \n",
       "842           1          20         186      197   van  \n",
       "843           3           4         187      201  saab  \n",
       "844           0          25         190      195  saab  \n",
       "845           1          18         186      190   van  "
      ]
     },
     "execution_count": 71,
     "metadata": {},
     "output_type": "execute_result"
    }
   ],
   "source": [
    "vehicle.tail(4)"
   ]
  },
  {
   "cell_type": "markdown",
   "metadata": {},
   "source": [
    "### Displaying underlying numpy data"
   ]
  },
  {
   "cell_type": "raw",
   "metadata": {},
   "source": [
    "vehicle.index"
   ]
  },
  {
   "cell_type": "code",
   "execution_count": 72,
   "metadata": {},
   "outputs": [
    {
     "data": {
      "text/plain": [
       "Index(['Comp', 'Circ', 'D.Circ', 'Rad.Ra', 'Pr.Axis.Ra', 'Max.L.Ra', 'Scat.Ra',\n",
       "       'Elong', 'Pr.Axis.Rect', 'Max.L.Rect', 'Sc.Var.Maxis', 'Sc.Var.maxis',\n",
       "       'Ra.Gyr', 'Skew.Maxis', 'Skew.maxis', 'Kurt.maxis', 'Kurt.Maxis',\n",
       "       'Holl.Ra', 'Class'],\n",
       "      dtype='object')"
      ]
     },
     "execution_count": 72,
     "metadata": {},
     "output_type": "execute_result"
    }
   ],
   "source": [
    "vehicle.columns"
   ]
  },
  {
   "cell_type": "code",
   "execution_count": 26,
   "metadata": {},
   "outputs": [
    {
     "data": {
      "text/plain": [
       "array([[95, 48, 83, ..., 187, 197, 'van'],\n",
       "       [91, 41, 84, ..., 189, 199, 'van'],\n",
       "       [104, 50, 106, ..., 188, 196, 'saab'],\n",
       "       ...,\n",
       "       [106, 54, 101, ..., 187, 201, 'saab'],\n",
       "       [86, 36, 78, ..., 190, 195, 'saab'],\n",
       "       [85, 36, 66, ..., 186, 190, 'van']], dtype=object)"
      ]
     },
     "execution_count": 26,
     "metadata": {},
     "output_type": "execute_result"
    }
   ],
   "source": [
    "vehicle.values"
   ]
  },
  {
   "cell_type": "markdown",
   "metadata": {},
   "source": [
    "### Describing the statistics of the data"
   ]
  },
  {
   "cell_type": "code",
   "execution_count": 73,
   "metadata": {},
   "outputs": [
    {
     "data": {
      "text/html": [
       "<div>\n",
       "<style>\n",
       "    .dataframe thead tr:only-child th {\n",
       "        text-align: right;\n",
       "    }\n",
       "\n",
       "    .dataframe thead th {\n",
       "        text-align: left;\n",
       "    }\n",
       "\n",
       "    .dataframe tbody tr th {\n",
       "        vertical-align: top;\n",
       "    }\n",
       "</style>\n",
       "<table border=\"1\" class=\"dataframe\">\n",
       "  <thead>\n",
       "    <tr style=\"text-align: right;\">\n",
       "      <th></th>\n",
       "      <th>Comp</th>\n",
       "      <th>Circ</th>\n",
       "      <th>D.Circ</th>\n",
       "      <th>Rad.Ra</th>\n",
       "      <th>Pr.Axis.Ra</th>\n",
       "      <th>Max.L.Ra</th>\n",
       "      <th>Scat.Ra</th>\n",
       "      <th>Elong</th>\n",
       "      <th>Pr.Axis.Rect</th>\n",
       "      <th>Max.L.Rect</th>\n",
       "      <th>Sc.Var.Maxis</th>\n",
       "      <th>Sc.Var.maxis</th>\n",
       "      <th>Ra.Gyr</th>\n",
       "      <th>Skew.Maxis</th>\n",
       "      <th>Skew.maxis</th>\n",
       "      <th>Kurt.maxis</th>\n",
       "      <th>Kurt.Maxis</th>\n",
       "      <th>Holl.Ra</th>\n",
       "    </tr>\n",
       "  </thead>\n",
       "  <tbody>\n",
       "    <tr>\n",
       "      <th>count</th>\n",
       "      <td>846.000000</td>\n",
       "      <td>846.000000</td>\n",
       "      <td>846.000000</td>\n",
       "      <td>846.000000</td>\n",
       "      <td>846.000000</td>\n",
       "      <td>846.000000</td>\n",
       "      <td>846.000000</td>\n",
       "      <td>846.000000</td>\n",
       "      <td>846.000000</td>\n",
       "      <td>846.000000</td>\n",
       "      <td>846.000000</td>\n",
       "      <td>846.000000</td>\n",
       "      <td>846.00000</td>\n",
       "      <td>846.000000</td>\n",
       "      <td>846.000000</td>\n",
       "      <td>846.000000</td>\n",
       "      <td>846.000000</td>\n",
       "      <td>846.000000</td>\n",
       "    </tr>\n",
       "    <tr>\n",
       "      <th>mean</th>\n",
       "      <td>93.678487</td>\n",
       "      <td>44.861702</td>\n",
       "      <td>82.088652</td>\n",
       "      <td>168.940898</td>\n",
       "      <td>61.693853</td>\n",
       "      <td>8.567376</td>\n",
       "      <td>168.839243</td>\n",
       "      <td>40.933806</td>\n",
       "      <td>20.582742</td>\n",
       "      <td>147.998818</td>\n",
       "      <td>188.625296</td>\n",
       "      <td>439.911348</td>\n",
       "      <td>174.70331</td>\n",
       "      <td>72.462175</td>\n",
       "      <td>6.377069</td>\n",
       "      <td>12.599291</td>\n",
       "      <td>188.932624</td>\n",
       "      <td>195.632388</td>\n",
       "    </tr>\n",
       "    <tr>\n",
       "      <th>std</th>\n",
       "      <td>8.234474</td>\n",
       "      <td>6.169866</td>\n",
       "      <td>15.771533</td>\n",
       "      <td>33.472183</td>\n",
       "      <td>7.888251</td>\n",
       "      <td>4.601217</td>\n",
       "      <td>33.244978</td>\n",
       "      <td>7.811560</td>\n",
       "      <td>2.592138</td>\n",
       "      <td>14.515652</td>\n",
       "      <td>31.394837</td>\n",
       "      <td>176.692614</td>\n",
       "      <td>32.54649</td>\n",
       "      <td>7.486974</td>\n",
       "      <td>4.918353</td>\n",
       "      <td>8.931240</td>\n",
       "      <td>6.163949</td>\n",
       "      <td>7.438797</td>\n",
       "    </tr>\n",
       "    <tr>\n",
       "      <th>min</th>\n",
       "      <td>73.000000</td>\n",
       "      <td>33.000000</td>\n",
       "      <td>40.000000</td>\n",
       "      <td>104.000000</td>\n",
       "      <td>47.000000</td>\n",
       "      <td>2.000000</td>\n",
       "      <td>112.000000</td>\n",
       "      <td>26.000000</td>\n",
       "      <td>17.000000</td>\n",
       "      <td>118.000000</td>\n",
       "      <td>130.000000</td>\n",
       "      <td>184.000000</td>\n",
       "      <td>109.00000</td>\n",
       "      <td>59.000000</td>\n",
       "      <td>0.000000</td>\n",
       "      <td>0.000000</td>\n",
       "      <td>176.000000</td>\n",
       "      <td>181.000000</td>\n",
       "    </tr>\n",
       "    <tr>\n",
       "      <th>25%</th>\n",
       "      <td>87.000000</td>\n",
       "      <td>40.000000</td>\n",
       "      <td>70.000000</td>\n",
       "      <td>141.000000</td>\n",
       "      <td>57.000000</td>\n",
       "      <td>7.000000</td>\n",
       "      <td>146.250000</td>\n",
       "      <td>33.000000</td>\n",
       "      <td>19.000000</td>\n",
       "      <td>137.000000</td>\n",
       "      <td>167.000000</td>\n",
       "      <td>318.250000</td>\n",
       "      <td>149.00000</td>\n",
       "      <td>67.000000</td>\n",
       "      <td>2.000000</td>\n",
       "      <td>5.000000</td>\n",
       "      <td>184.000000</td>\n",
       "      <td>190.250000</td>\n",
       "    </tr>\n",
       "    <tr>\n",
       "      <th>50%</th>\n",
       "      <td>93.000000</td>\n",
       "      <td>44.000000</td>\n",
       "      <td>80.000000</td>\n",
       "      <td>167.000000</td>\n",
       "      <td>61.000000</td>\n",
       "      <td>8.000000</td>\n",
       "      <td>157.000000</td>\n",
       "      <td>43.000000</td>\n",
       "      <td>20.000000</td>\n",
       "      <td>146.000000</td>\n",
       "      <td>178.500000</td>\n",
       "      <td>364.000000</td>\n",
       "      <td>173.00000</td>\n",
       "      <td>71.500000</td>\n",
       "      <td>6.000000</td>\n",
       "      <td>11.000000</td>\n",
       "      <td>188.000000</td>\n",
       "      <td>197.000000</td>\n",
       "    </tr>\n",
       "    <tr>\n",
       "      <th>75%</th>\n",
       "      <td>100.000000</td>\n",
       "      <td>49.000000</td>\n",
       "      <td>98.000000</td>\n",
       "      <td>195.000000</td>\n",
       "      <td>65.000000</td>\n",
       "      <td>10.000000</td>\n",
       "      <td>198.000000</td>\n",
       "      <td>46.000000</td>\n",
       "      <td>23.000000</td>\n",
       "      <td>159.000000</td>\n",
       "      <td>217.000000</td>\n",
       "      <td>587.000000</td>\n",
       "      <td>198.00000</td>\n",
       "      <td>75.000000</td>\n",
       "      <td>9.000000</td>\n",
       "      <td>19.000000</td>\n",
       "      <td>193.000000</td>\n",
       "      <td>201.000000</td>\n",
       "    </tr>\n",
       "    <tr>\n",
       "      <th>max</th>\n",
       "      <td>119.000000</td>\n",
       "      <td>59.000000</td>\n",
       "      <td>112.000000</td>\n",
       "      <td>333.000000</td>\n",
       "      <td>138.000000</td>\n",
       "      <td>55.000000</td>\n",
       "      <td>265.000000</td>\n",
       "      <td>61.000000</td>\n",
       "      <td>29.000000</td>\n",
       "      <td>188.000000</td>\n",
       "      <td>320.000000</td>\n",
       "      <td>1018.000000</td>\n",
       "      <td>268.00000</td>\n",
       "      <td>135.000000</td>\n",
       "      <td>22.000000</td>\n",
       "      <td>41.000000</td>\n",
       "      <td>206.000000</td>\n",
       "      <td>211.000000</td>\n",
       "    </tr>\n",
       "  </tbody>\n",
       "</table>\n",
       "</div>"
      ],
      "text/plain": [
       "             Comp        Circ      D.Circ      Rad.Ra  Pr.Axis.Ra    Max.L.Ra  \\\n",
       "count  846.000000  846.000000  846.000000  846.000000  846.000000  846.000000   \n",
       "mean    93.678487   44.861702   82.088652  168.940898   61.693853    8.567376   \n",
       "std      8.234474    6.169866   15.771533   33.472183    7.888251    4.601217   \n",
       "min     73.000000   33.000000   40.000000  104.000000   47.000000    2.000000   \n",
       "25%     87.000000   40.000000   70.000000  141.000000   57.000000    7.000000   \n",
       "50%     93.000000   44.000000   80.000000  167.000000   61.000000    8.000000   \n",
       "75%    100.000000   49.000000   98.000000  195.000000   65.000000   10.000000   \n",
       "max    119.000000   59.000000  112.000000  333.000000  138.000000   55.000000   \n",
       "\n",
       "          Scat.Ra       Elong  Pr.Axis.Rect  Max.L.Rect  Sc.Var.Maxis  \\\n",
       "count  846.000000  846.000000    846.000000  846.000000    846.000000   \n",
       "mean   168.839243   40.933806     20.582742  147.998818    188.625296   \n",
       "std     33.244978    7.811560      2.592138   14.515652     31.394837   \n",
       "min    112.000000   26.000000     17.000000  118.000000    130.000000   \n",
       "25%    146.250000   33.000000     19.000000  137.000000    167.000000   \n",
       "50%    157.000000   43.000000     20.000000  146.000000    178.500000   \n",
       "75%    198.000000   46.000000     23.000000  159.000000    217.000000   \n",
       "max    265.000000   61.000000     29.000000  188.000000    320.000000   \n",
       "\n",
       "       Sc.Var.maxis     Ra.Gyr  Skew.Maxis  Skew.maxis  Kurt.maxis  \\\n",
       "count    846.000000  846.00000  846.000000  846.000000  846.000000   \n",
       "mean     439.911348  174.70331   72.462175    6.377069   12.599291   \n",
       "std      176.692614   32.54649    7.486974    4.918353    8.931240   \n",
       "min      184.000000  109.00000   59.000000    0.000000    0.000000   \n",
       "25%      318.250000  149.00000   67.000000    2.000000    5.000000   \n",
       "50%      364.000000  173.00000   71.500000    6.000000   11.000000   \n",
       "75%      587.000000  198.00000   75.000000    9.000000   19.000000   \n",
       "max     1018.000000  268.00000  135.000000   22.000000   41.000000   \n",
       "\n",
       "       Kurt.Maxis     Holl.Ra  \n",
       "count  846.000000  846.000000  \n",
       "mean   188.932624  195.632388  \n",
       "std      6.163949    7.438797  \n",
       "min    176.000000  181.000000  \n",
       "25%    184.000000  190.250000  \n",
       "50%    188.000000  197.000000  \n",
       "75%    193.000000  201.000000  \n",
       "max    206.000000  211.000000  "
      ]
     },
     "execution_count": 73,
     "metadata": {},
     "output_type": "execute_result"
    }
   ],
   "source": [
    "vehicle.describe()"
   ]
  },
  {
   "cell_type": "markdown",
   "metadata": {},
   "source": [
    "### Basic Operations on data"
   ]
  },
  {
   "cell_type": "code",
   "execution_count": 22,
   "metadata": {},
   "outputs": [
    {
     "data": {
      "text/html": [
       "<div>\n",
       "<style>\n",
       "    .dataframe thead tr:only-child th {\n",
       "        text-align: right;\n",
       "    }\n",
       "\n",
       "    .dataframe thead th {\n",
       "        text-align: left;\n",
       "    }\n",
       "\n",
       "    .dataframe tbody tr th {\n",
       "        vertical-align: top;\n",
       "    }\n",
       "</style>\n",
       "<table border=\"1\" class=\"dataframe\">\n",
       "  <thead>\n",
       "    <tr style=\"text-align: right;\">\n",
       "      <th></th>\n",
       "      <th>a</th>\n",
       "      <th>12.6</th>\n",
       "      <th>4.8</th>\n",
       "      <th>4.8</th>\n",
       "    </tr>\n",
       "  </thead>\n",
       "  <tbody>\n",
       "    <tr>\n",
       "      <th>A</th>\n",
       "      <td>1</td>\n",
       "      <td>4</td>\n",
       "      <td>7</td>\n",
       "      <td>7</td>\n",
       "    </tr>\n",
       "    <tr>\n",
       "      <th>B</th>\n",
       "      <td>2</td>\n",
       "      <td>5</td>\n",
       "      <td>8</td>\n",
       "      <td>8</td>\n",
       "    </tr>\n",
       "    <tr>\n",
       "      <th>C</th>\n",
       "      <td>3</td>\n",
       "      <td>6</td>\n",
       "      <td>9</td>\n",
       "      <td>10</td>\n",
       "    </tr>\n",
       "  </tbody>\n",
       "</table>\n",
       "</div>"
      ],
      "text/plain": [
       "   a  12.6  4.8  4.8\n",
       "A  1     4    7    7\n",
       "B  2     5    8    8\n",
       "C  3     6    9   10"
      ]
     },
     "execution_count": 22,
     "metadata": {},
     "output_type": "execute_result"
    }
   ],
   "source": [
    "df.T # Transpose of data"
   ]
  },
  {
   "cell_type": "code",
   "execution_count": 75,
   "metadata": {},
   "outputs": [
    {
     "data": {
      "text/html": [
       "<div>\n",
       "<style>\n",
       "    .dataframe thead tr:only-child th {\n",
       "        text-align: right;\n",
       "    }\n",
       "\n",
       "    .dataframe thead th {\n",
       "        text-align: left;\n",
       "    }\n",
       "\n",
       "    .dataframe tbody tr th {\n",
       "        vertical-align: top;\n",
       "    }\n",
       "</style>\n",
       "<table border=\"1\" class=\"dataframe\">\n",
       "  <thead>\n",
       "    <tr style=\"text-align: right;\">\n",
       "      <th></th>\n",
       "      <th>C</th>\n",
       "      <th>B</th>\n",
       "      <th>A</th>\n",
       "    </tr>\n",
       "  </thead>\n",
       "  <tbody>\n",
       "    <tr>\n",
       "      <th>a</th>\n",
       "      <td>3</td>\n",
       "      <td>2</td>\n",
       "      <td>1</td>\n",
       "    </tr>\n",
       "    <tr>\n",
       "      <th>12.6</th>\n",
       "      <td>6</td>\n",
       "      <td>5</td>\n",
       "      <td>4</td>\n",
       "    </tr>\n",
       "    <tr>\n",
       "      <th>4.8</th>\n",
       "      <td>9</td>\n",
       "      <td>8</td>\n",
       "      <td>7</td>\n",
       "    </tr>\n",
       "    <tr>\n",
       "      <th>4.8</th>\n",
       "      <td>10</td>\n",
       "      <td>8</td>\n",
       "      <td>7</td>\n",
       "    </tr>\n",
       "  </tbody>\n",
       "</table>\n",
       "</div>"
      ],
      "text/plain": [
       "       C  B  A\n",
       "a      3  2  1\n",
       "12.6   6  5  4\n",
       "4.8    9  8  7\n",
       "4.8   10  8  7"
      ]
     },
     "execution_count": 75,
     "metadata": {},
     "output_type": "execute_result"
    }
   ],
   "source": [
    "df.sort_index(axis=1, ascending=False)  #Sorting of Columns"
   ]
  },
  {
   "cell_type": "code",
   "execution_count": 76,
   "metadata": {},
   "outputs": [
    {
     "data": {
      "text/html": [
       "<div>\n",
       "<style>\n",
       "    .dataframe thead tr:only-child th {\n",
       "        text-align: right;\n",
       "    }\n",
       "\n",
       "    .dataframe thead th {\n",
       "        text-align: left;\n",
       "    }\n",
       "\n",
       "    .dataframe tbody tr th {\n",
       "        vertical-align: top;\n",
       "    }\n",
       "</style>\n",
       "<table border=\"1\" class=\"dataframe\">\n",
       "  <thead>\n",
       "    <tr style=\"text-align: right;\">\n",
       "      <th></th>\n",
       "      <th>A</th>\n",
       "      <th>B</th>\n",
       "      <th>C</th>\n",
       "    </tr>\n",
       "  </thead>\n",
       "  <tbody>\n",
       "    <tr>\n",
       "      <th>a</th>\n",
       "      <td>1</td>\n",
       "      <td>2</td>\n",
       "      <td>3</td>\n",
       "    </tr>\n",
       "    <tr>\n",
       "      <th>12.6</th>\n",
       "      <td>4</td>\n",
       "      <td>5</td>\n",
       "      <td>6</td>\n",
       "    </tr>\n",
       "    <tr>\n",
       "      <th>4.8</th>\n",
       "      <td>7</td>\n",
       "      <td>8</td>\n",
       "      <td>9</td>\n",
       "    </tr>\n",
       "    <tr>\n",
       "      <th>4.8</th>\n",
       "      <td>7</td>\n",
       "      <td>8</td>\n",
       "      <td>10</td>\n",
       "    </tr>\n",
       "  </tbody>\n",
       "</table>\n",
       "</div>"
      ],
      "text/plain": [
       "      A  B   C\n",
       "a     1  2   3\n",
       "12.6  4  5   6\n",
       "4.8   7  8   9\n",
       "4.8   7  8  10"
      ]
     },
     "execution_count": 76,
     "metadata": {},
     "output_type": "execute_result"
    }
   ],
   "source": [
    "df.sort_values(by='B') #Sorting of rows by Column"
   ]
  },
  {
   "cell_type": "markdown",
   "metadata": {},
   "source": [
    "### Selecting the Data"
   ]
  },
  {
   "cell_type": "markdown",
   "metadata": {},
   "source": [
    "#Selecting a single column, which yields a Series, equivalent to df.A\n",
    "print(df['A'])\n",
    "print(\"\\n Same As Above\\n\",df.A)\n"
   ]
  },
  {
   "cell_type": "markdown",
   "metadata": {},
   "source": [
    "### Selecting via [], which slices the rows."
   ]
  },
  {
   "cell_type": "code",
   "execution_count": 23,
   "metadata": {},
   "outputs": [
    {
     "data": {
      "text/html": [
       "<div>\n",
       "<style>\n",
       "    .dataframe thead tr:only-child th {\n",
       "        text-align: right;\n",
       "    }\n",
       "\n",
       "    .dataframe thead th {\n",
       "        text-align: left;\n",
       "    }\n",
       "\n",
       "    .dataframe tbody tr th {\n",
       "        vertical-align: top;\n",
       "    }\n",
       "</style>\n",
       "<table border=\"1\" class=\"dataframe\">\n",
       "  <thead>\n",
       "    <tr style=\"text-align: right;\">\n",
       "      <th></th>\n",
       "      <th>Comp</th>\n",
       "      <th>Circ</th>\n",
       "      <th>D.Circ</th>\n",
       "      <th>Rad.Ra</th>\n",
       "      <th>Pr.Axis.Ra</th>\n",
       "      <th>Max.L.Ra</th>\n",
       "      <th>Scat.Ra</th>\n",
       "      <th>Elong</th>\n",
       "      <th>Pr.Axis.Rect</th>\n",
       "      <th>Max.L.Rect</th>\n",
       "      <th>Sc.Var.Maxis</th>\n",
       "      <th>Sc.Var.maxis</th>\n",
       "      <th>Ra.Gyr</th>\n",
       "      <th>Skew.Maxis</th>\n",
       "      <th>Skew.maxis</th>\n",
       "      <th>Kurt.maxis</th>\n",
       "      <th>Kurt.Maxis</th>\n",
       "      <th>Holl.Ra</th>\n",
       "      <th>Class</th>\n",
       "    </tr>\n",
       "  </thead>\n",
       "  <tbody>\n",
       "    <tr>\n",
       "      <th>0</th>\n",
       "      <td>95</td>\n",
       "      <td>48</td>\n",
       "      <td>83</td>\n",
       "      <td>178</td>\n",
       "      <td>72</td>\n",
       "      <td>10</td>\n",
       "      <td>162</td>\n",
       "      <td>42</td>\n",
       "      <td>20</td>\n",
       "      <td>159</td>\n",
       "      <td>176</td>\n",
       "      <td>379</td>\n",
       "      <td>184</td>\n",
       "      <td>70</td>\n",
       "      <td>6</td>\n",
       "      <td>16</td>\n",
       "      <td>187</td>\n",
       "      <td>197</td>\n",
       "      <td>van</td>\n",
       "    </tr>\n",
       "    <tr>\n",
       "      <th>1</th>\n",
       "      <td>91</td>\n",
       "      <td>41</td>\n",
       "      <td>84</td>\n",
       "      <td>141</td>\n",
       "      <td>57</td>\n",
       "      <td>9</td>\n",
       "      <td>149</td>\n",
       "      <td>45</td>\n",
       "      <td>19</td>\n",
       "      <td>143</td>\n",
       "      <td>170</td>\n",
       "      <td>330</td>\n",
       "      <td>158</td>\n",
       "      <td>72</td>\n",
       "      <td>9</td>\n",
       "      <td>14</td>\n",
       "      <td>189</td>\n",
       "      <td>199</td>\n",
       "      <td>van</td>\n",
       "    </tr>\n",
       "    <tr>\n",
       "      <th>2</th>\n",
       "      <td>104</td>\n",
       "      <td>50</td>\n",
       "      <td>106</td>\n",
       "      <td>209</td>\n",
       "      <td>66</td>\n",
       "      <td>10</td>\n",
       "      <td>207</td>\n",
       "      <td>32</td>\n",
       "      <td>23</td>\n",
       "      <td>158</td>\n",
       "      <td>223</td>\n",
       "      <td>635</td>\n",
       "      <td>220</td>\n",
       "      <td>73</td>\n",
       "      <td>14</td>\n",
       "      <td>9</td>\n",
       "      <td>188</td>\n",
       "      <td>196</td>\n",
       "      <td>saab</td>\n",
       "    </tr>\n",
       "  </tbody>\n",
       "</table>\n",
       "</div>"
      ],
      "text/plain": [
       "   Comp  Circ  D.Circ  Rad.Ra  Pr.Axis.Ra  Max.L.Ra  Scat.Ra  Elong  \\\n",
       "0    95    48      83     178          72        10      162     42   \n",
       "1    91    41      84     141          57         9      149     45   \n",
       "2   104    50     106     209          66        10      207     32   \n",
       "\n",
       "   Pr.Axis.Rect  Max.L.Rect  Sc.Var.Maxis  Sc.Var.maxis  Ra.Gyr  Skew.Maxis  \\\n",
       "0            20         159           176           379     184          70   \n",
       "1            19         143           170           330     158          72   \n",
       "2            23         158           223           635     220          73   \n",
       "\n",
       "   Skew.maxis  Kurt.maxis  Kurt.Maxis  Holl.Ra Class  \n",
       "0           6          16         187      197   van  \n",
       "1           9          14         189      199   van  \n",
       "2          14           9         188      196  saab  "
      ]
     },
     "execution_count": 23,
     "metadata": {},
     "output_type": "execute_result"
    }
   ],
   "source": [
    "vehicle[0:3]"
   ]
  },
  {
   "cell_type": "code",
   "execution_count": 24,
   "metadata": {},
   "outputs": [
    {
     "data": {
      "text/html": [
       "<div>\n",
       "<style>\n",
       "    .dataframe thead tr:only-child th {\n",
       "        text-align: right;\n",
       "    }\n",
       "\n",
       "    .dataframe thead th {\n",
       "        text-align: left;\n",
       "    }\n",
       "\n",
       "    .dataframe tbody tr th {\n",
       "        vertical-align: top;\n",
       "    }\n",
       "</style>\n",
       "<table border=\"1\" class=\"dataframe\">\n",
       "  <thead>\n",
       "    <tr style=\"text-align: right;\">\n",
       "      <th></th>\n",
       "      <th>Comp</th>\n",
       "      <th>Circ</th>\n",
       "      <th>D.Circ</th>\n",
       "      <th>Rad.Ra</th>\n",
       "      <th>Pr.Axis.Ra</th>\n",
       "      <th>Max.L.Ra</th>\n",
       "      <th>Scat.Ra</th>\n",
       "      <th>Elong</th>\n",
       "      <th>Pr.Axis.Rect</th>\n",
       "      <th>Max.L.Rect</th>\n",
       "      <th>Sc.Var.Maxis</th>\n",
       "      <th>Sc.Var.maxis</th>\n",
       "      <th>Ra.Gyr</th>\n",
       "      <th>Skew.Maxis</th>\n",
       "      <th>Skew.maxis</th>\n",
       "      <th>Kurt.maxis</th>\n",
       "      <th>Kurt.Maxis</th>\n",
       "      <th>Holl.Ra</th>\n",
       "      <th>Class</th>\n",
       "    </tr>\n",
       "  </thead>\n",
       "  <tbody>\n",
       "    <tr>\n",
       "      <th>10</th>\n",
       "      <td>86</td>\n",
       "      <td>36</td>\n",
       "      <td>70</td>\n",
       "      <td>143</td>\n",
       "      <td>61</td>\n",
       "      <td>9</td>\n",
       "      <td>133</td>\n",
       "      <td>50</td>\n",
       "      <td>18</td>\n",
       "      <td>130</td>\n",
       "      <td>153</td>\n",
       "      <td>266</td>\n",
       "      <td>127</td>\n",
       "      <td>66</td>\n",
       "      <td>2</td>\n",
       "      <td>10</td>\n",
       "      <td>194</td>\n",
       "      <td>202</td>\n",
       "      <td>van</td>\n",
       "    </tr>\n",
       "    <tr>\n",
       "      <th>11</th>\n",
       "      <td>90</td>\n",
       "      <td>34</td>\n",
       "      <td>66</td>\n",
       "      <td>136</td>\n",
       "      <td>55</td>\n",
       "      <td>6</td>\n",
       "      <td>123</td>\n",
       "      <td>54</td>\n",
       "      <td>17</td>\n",
       "      <td>118</td>\n",
       "      <td>148</td>\n",
       "      <td>224</td>\n",
       "      <td>118</td>\n",
       "      <td>65</td>\n",
       "      <td>5</td>\n",
       "      <td>26</td>\n",
       "      <td>196</td>\n",
       "      <td>202</td>\n",
       "      <td>saab</td>\n",
       "    </tr>\n",
       "    <tr>\n",
       "      <th>12</th>\n",
       "      <td>88</td>\n",
       "      <td>46</td>\n",
       "      <td>74</td>\n",
       "      <td>171</td>\n",
       "      <td>68</td>\n",
       "      <td>6</td>\n",
       "      <td>152</td>\n",
       "      <td>43</td>\n",
       "      <td>19</td>\n",
       "      <td>148</td>\n",
       "      <td>180</td>\n",
       "      <td>349</td>\n",
       "      <td>192</td>\n",
       "      <td>71</td>\n",
       "      <td>5</td>\n",
       "      <td>11</td>\n",
       "      <td>189</td>\n",
       "      <td>195</td>\n",
       "      <td>bus</td>\n",
       "    </tr>\n",
       "    <tr>\n",
       "      <th>13</th>\n",
       "      <td>89</td>\n",
       "      <td>42</td>\n",
       "      <td>85</td>\n",
       "      <td>144</td>\n",
       "      <td>58</td>\n",
       "      <td>10</td>\n",
       "      <td>152</td>\n",
       "      <td>44</td>\n",
       "      <td>19</td>\n",
       "      <td>144</td>\n",
       "      <td>173</td>\n",
       "      <td>345</td>\n",
       "      <td>161</td>\n",
       "      <td>72</td>\n",
       "      <td>8</td>\n",
       "      <td>13</td>\n",
       "      <td>187</td>\n",
       "      <td>197</td>\n",
       "      <td>van</td>\n",
       "    </tr>\n",
       "    <tr>\n",
       "      <th>14</th>\n",
       "      <td>94</td>\n",
       "      <td>49</td>\n",
       "      <td>79</td>\n",
       "      <td>203</td>\n",
       "      <td>71</td>\n",
       "      <td>5</td>\n",
       "      <td>174</td>\n",
       "      <td>37</td>\n",
       "      <td>21</td>\n",
       "      <td>154</td>\n",
       "      <td>196</td>\n",
       "      <td>465</td>\n",
       "      <td>206</td>\n",
       "      <td>71</td>\n",
       "      <td>6</td>\n",
       "      <td>2</td>\n",
       "      <td>197</td>\n",
       "      <td>199</td>\n",
       "      <td>bus</td>\n",
       "    </tr>\n",
       "  </tbody>\n",
       "</table>\n",
       "</div>"
      ],
      "text/plain": [
       "    Comp  Circ  D.Circ  Rad.Ra  Pr.Axis.Ra  Max.L.Ra  Scat.Ra  Elong  \\\n",
       "10    86    36      70     143          61         9      133     50   \n",
       "11    90    34      66     136          55         6      123     54   \n",
       "12    88    46      74     171          68         6      152     43   \n",
       "13    89    42      85     144          58        10      152     44   \n",
       "14    94    49      79     203          71         5      174     37   \n",
       "\n",
       "    Pr.Axis.Rect  Max.L.Rect  Sc.Var.Maxis  Sc.Var.maxis  Ra.Gyr  Skew.Maxis  \\\n",
       "10            18         130           153           266     127          66   \n",
       "11            17         118           148           224     118          65   \n",
       "12            19         148           180           349     192          71   \n",
       "13            19         144           173           345     161          72   \n",
       "14            21         154           196           465     206          71   \n",
       "\n",
       "    Skew.maxis  Kurt.maxis  Kurt.Maxis  Holl.Ra Class  \n",
       "10           2          10         194      202   van  \n",
       "11           5          26         196      202  saab  \n",
       "12           5          11         189      195   bus  \n",
       "13           8          13         187      197   van  \n",
       "14           6           2         197      199   bus  "
      ]
     },
     "execution_count": 24,
     "metadata": {},
     "output_type": "execute_result"
    }
   ],
   "source": [
    "vehicle[10:15]"
   ]
  },
  {
   "cell_type": "markdown",
   "metadata": {},
   "source": [
    "### Selection By Label"
   ]
  },
  {
   "cell_type": "code",
   "execution_count": 79,
   "metadata": {},
   "outputs": [
    {
     "data": {
      "text/plain": [
       "0       95\n",
       "1       91\n",
       "2      104\n",
       "3       93\n",
       "4       85\n",
       "5      107\n",
       "6       97\n",
       "7       90\n",
       "8       86\n",
       "9       93\n",
       "10      86\n",
       "11      90\n",
       "12      88\n",
       "13      89\n",
       "14      94\n",
       "15      96\n",
       "16      89\n",
       "17      99\n",
       "18     104\n",
       "19     101\n",
       "20      84\n",
       "21      84\n",
       "22      94\n",
       "23      87\n",
       "24      99\n",
       "25      85\n",
       "26      83\n",
       "27     107\n",
       "28     102\n",
       "29      80\n",
       "      ... \n",
       "816     90\n",
       "817    104\n",
       "818     95\n",
       "819     93\n",
       "820     87\n",
       "821    104\n",
       "822     95\n",
       "823    105\n",
       "824    106\n",
       "825     86\n",
       "826     95\n",
       "827     99\n",
       "828     89\n",
       "829     95\n",
       "830     97\n",
       "831    100\n",
       "832    108\n",
       "833     92\n",
       "834     82\n",
       "835    111\n",
       "836     87\n",
       "837     94\n",
       "838     95\n",
       "839     90\n",
       "840     93\n",
       "841     93\n",
       "842     89\n",
       "843    106\n",
       "844     86\n",
       "845     85\n",
       "Name: Comp, Length: 846, dtype: int64"
      ]
     },
     "execution_count": 79,
     "metadata": {},
     "output_type": "execute_result"
    }
   ],
   "source": [
    "#For Getting Cross Section using Labels\n",
    "vehicle['Comp']"
   ]
  },
  {
   "cell_type": "code",
   "execution_count": 80,
   "metadata": {},
   "outputs": [
    {
     "data": {
      "text/html": [
       "<div>\n",
       "<style>\n",
       "    .dataframe thead tr:only-child th {\n",
       "        text-align: right;\n",
       "    }\n",
       "\n",
       "    .dataframe thead th {\n",
       "        text-align: left;\n",
       "    }\n",
       "\n",
       "    .dataframe tbody tr th {\n",
       "        vertical-align: top;\n",
       "    }\n",
       "</style>\n",
       "<table border=\"1\" class=\"dataframe\">\n",
       "  <thead>\n",
       "    <tr style=\"text-align: right;\">\n",
       "      <th></th>\n",
       "      <th>A</th>\n",
       "      <th>B</th>\n",
       "    </tr>\n",
       "  </thead>\n",
       "  <tbody>\n",
       "    <tr>\n",
       "      <th>a</th>\n",
       "      <td>1</td>\n",
       "      <td>2</td>\n",
       "    </tr>\n",
       "    <tr>\n",
       "      <th>12.6</th>\n",
       "      <td>4</td>\n",
       "      <td>5</td>\n",
       "    </tr>\n",
       "    <tr>\n",
       "      <th>4.8</th>\n",
       "      <td>7</td>\n",
       "      <td>8</td>\n",
       "    </tr>\n",
       "    <tr>\n",
       "      <th>4.8</th>\n",
       "      <td>7</td>\n",
       "      <td>8</td>\n",
       "    </tr>\n",
       "  </tbody>\n",
       "</table>\n",
       "</div>"
      ],
      "text/plain": [
       "      A  B\n",
       "a     1  2\n",
       "12.6  4  5\n",
       "4.8   7  8\n",
       "4.8   7  8"
      ]
     },
     "execution_count": 80,
     "metadata": {},
     "output_type": "execute_result"
    }
   ],
   "source": [
    "#For Selecting multiple Columns\n",
    "df.loc[:,['A','B']]"
   ]
  },
  {
   "cell_type": "markdown",
   "metadata": {},
   "source": [
    "### Selection By Position"
   ]
  },
  {
   "cell_type": "code",
   "execution_count": 81,
   "metadata": {},
   "outputs": [
    {
     "data": {
      "text/plain": [
       "A     7\n",
       "B     8\n",
       "C    10\n",
       "Name: 4.8, dtype: int32"
      ]
     },
     "execution_count": 81,
     "metadata": {},
     "output_type": "execute_result"
    }
   ],
   "source": [
    "#Select via the position of the passed integers\n",
    "df.iloc[3]"
   ]
  },
  {
   "cell_type": "code",
   "execution_count": 82,
   "metadata": {},
   "outputs": [
    {
     "data": {
      "text/html": [
       "<div>\n",
       "<style>\n",
       "    .dataframe thead tr:only-child th {\n",
       "        text-align: right;\n",
       "    }\n",
       "\n",
       "    .dataframe thead th {\n",
       "        text-align: left;\n",
       "    }\n",
       "\n",
       "    .dataframe tbody tr th {\n",
       "        vertical-align: top;\n",
       "    }\n",
       "</style>\n",
       "<table border=\"1\" class=\"dataframe\">\n",
       "  <thead>\n",
       "    <tr style=\"text-align: right;\">\n",
       "      <th></th>\n",
       "      <th>Comp</th>\n",
       "      <th>Circ</th>\n",
       "    </tr>\n",
       "  </thead>\n",
       "  <tbody>\n",
       "    <tr>\n",
       "      <th>3</th>\n",
       "      <td>93</td>\n",
       "      <td>41</td>\n",
       "    </tr>\n",
       "    <tr>\n",
       "      <th>4</th>\n",
       "      <td>85</td>\n",
       "      <td>44</td>\n",
       "    </tr>\n",
       "  </tbody>\n",
       "</table>\n",
       "</div>"
      ],
      "text/plain": [
       "   Comp  Circ\n",
       "3    93    41\n",
       "4    85    44"
      ]
     },
     "execution_count": 82,
     "metadata": {},
     "output_type": "execute_result"
    }
   ],
   "source": [
    "#By integer slices, acting similar to numpy/python\n",
    "vehicle.iloc[3:5,0:2]"
   ]
  },
  {
   "cell_type": "code",
   "execution_count": 83,
   "metadata": {},
   "outputs": [
    {
     "data": {
      "text/html": [
       "<div>\n",
       "<style>\n",
       "    .dataframe thead tr:only-child th {\n",
       "        text-align: right;\n",
       "    }\n",
       "\n",
       "    .dataframe thead th {\n",
       "        text-align: left;\n",
       "    }\n",
       "\n",
       "    .dataframe tbody tr th {\n",
       "        vertical-align: top;\n",
       "    }\n",
       "</style>\n",
       "<table border=\"1\" class=\"dataframe\">\n",
       "  <thead>\n",
       "    <tr style=\"text-align: right;\">\n",
       "      <th></th>\n",
       "      <th>Comp</th>\n",
       "      <th>D.Circ</th>\n",
       "    </tr>\n",
       "  </thead>\n",
       "  <tbody>\n",
       "    <tr>\n",
       "      <th>1</th>\n",
       "      <td>91</td>\n",
       "      <td>84</td>\n",
       "    </tr>\n",
       "    <tr>\n",
       "      <th>2</th>\n",
       "      <td>104</td>\n",
       "      <td>106</td>\n",
       "    </tr>\n",
       "    <tr>\n",
       "      <th>4</th>\n",
       "      <td>85</td>\n",
       "      <td>70</td>\n",
       "    </tr>\n",
       "  </tbody>\n",
       "</table>\n",
       "</div>"
      ],
      "text/plain": [
       "   Comp  D.Circ\n",
       "1    91      84\n",
       "2   104     106\n",
       "4    85      70"
      ]
     },
     "execution_count": 83,
     "metadata": {},
     "output_type": "execute_result"
    }
   ],
   "source": [
    "#By lists of integer position locations, similar to the numpy/python style\n",
    "vehicle.iloc[[1,2,4],[0,2]]"
   ]
  },
  {
   "cell_type": "code",
   "execution_count": 84,
   "metadata": {},
   "outputs": [
    {
     "data": {
      "text/html": [
       "<div>\n",
       "<style>\n",
       "    .dataframe thead tr:only-child th {\n",
       "        text-align: right;\n",
       "    }\n",
       "\n",
       "    .dataframe thead th {\n",
       "        text-align: left;\n",
       "    }\n",
       "\n",
       "    .dataframe tbody tr th {\n",
       "        vertical-align: top;\n",
       "    }\n",
       "</style>\n",
       "<table border=\"1\" class=\"dataframe\">\n",
       "  <thead>\n",
       "    <tr style=\"text-align: right;\">\n",
       "      <th></th>\n",
       "      <th>A</th>\n",
       "      <th>B</th>\n",
       "      <th>C</th>\n",
       "    </tr>\n",
       "  </thead>\n",
       "  <tbody>\n",
       "    <tr>\n",
       "      <th>12.6</th>\n",
       "      <td>4</td>\n",
       "      <td>5</td>\n",
       "      <td>6</td>\n",
       "    </tr>\n",
       "    <tr>\n",
       "      <th>4.8</th>\n",
       "      <td>7</td>\n",
       "      <td>8</td>\n",
       "      <td>9</td>\n",
       "    </tr>\n",
       "  </tbody>\n",
       "</table>\n",
       "</div>"
      ],
      "text/plain": [
       "      A  B  C\n",
       "12.6  4  5  6\n",
       "4.8   7  8  9"
      ]
     },
     "execution_count": 84,
     "metadata": {},
     "output_type": "execute_result"
    }
   ],
   "source": [
    "#For slicing rows explicitly\n",
    "df.iloc[1:3,:]"
   ]
  },
  {
   "cell_type": "code",
   "execution_count": 85,
   "metadata": {},
   "outputs": [
    {
     "data": {
      "text/html": [
       "<div>\n",
       "<style>\n",
       "    .dataframe thead tr:only-child th {\n",
       "        text-align: right;\n",
       "    }\n",
       "\n",
       "    .dataframe thead th {\n",
       "        text-align: left;\n",
       "    }\n",
       "\n",
       "    .dataframe tbody tr th {\n",
       "        vertical-align: top;\n",
       "    }\n",
       "</style>\n",
       "<table border=\"1\" class=\"dataframe\">\n",
       "  <thead>\n",
       "    <tr style=\"text-align: right;\">\n",
       "      <th></th>\n",
       "      <th>B</th>\n",
       "      <th>C</th>\n",
       "    </tr>\n",
       "  </thead>\n",
       "  <tbody>\n",
       "    <tr>\n",
       "      <th>a</th>\n",
       "      <td>2</td>\n",
       "      <td>3</td>\n",
       "    </tr>\n",
       "    <tr>\n",
       "      <th>12.6</th>\n",
       "      <td>5</td>\n",
       "      <td>6</td>\n",
       "    </tr>\n",
       "    <tr>\n",
       "      <th>4.8</th>\n",
       "      <td>8</td>\n",
       "      <td>9</td>\n",
       "    </tr>\n",
       "    <tr>\n",
       "      <th>4.8</th>\n",
       "      <td>8</td>\n",
       "      <td>10</td>\n",
       "    </tr>\n",
       "  </tbody>\n",
       "</table>\n",
       "</div>"
      ],
      "text/plain": [
       "      B   C\n",
       "a     2   3\n",
       "12.6  5   6\n",
       "4.8   8   9\n",
       "4.8   8  10"
      ]
     },
     "execution_count": 85,
     "metadata": {},
     "output_type": "execute_result"
    }
   ],
   "source": [
    "#For slicing cols explicitly\n",
    "df.iloc[:,1:4]"
   ]
  },
  {
   "cell_type": "markdown",
   "metadata": {},
   "source": [
    "### Conditional Selection"
   ]
  },
  {
   "cell_type": "code",
   "execution_count": 86,
   "metadata": {},
   "outputs": [
    {
     "data": {
      "text/html": [
       "<div>\n",
       "<style>\n",
       "    .dataframe thead tr:only-child th {\n",
       "        text-align: right;\n",
       "    }\n",
       "\n",
       "    .dataframe thead th {\n",
       "        text-align: left;\n",
       "    }\n",
       "\n",
       "    .dataframe tbody tr th {\n",
       "        vertical-align: top;\n",
       "    }\n",
       "</style>\n",
       "<table border=\"1\" class=\"dataframe\">\n",
       "  <thead>\n",
       "    <tr style=\"text-align: right;\">\n",
       "      <th></th>\n",
       "      <th>A</th>\n",
       "      <th>B</th>\n",
       "      <th>C</th>\n",
       "    </tr>\n",
       "  </thead>\n",
       "  <tbody>\n",
       "    <tr>\n",
       "      <th>12.6</th>\n",
       "      <td>4</td>\n",
       "      <td>5</td>\n",
       "      <td>6</td>\n",
       "    </tr>\n",
       "    <tr>\n",
       "      <th>4.8</th>\n",
       "      <td>7</td>\n",
       "      <td>8</td>\n",
       "      <td>9</td>\n",
       "    </tr>\n",
       "    <tr>\n",
       "      <th>4.8</th>\n",
       "      <td>7</td>\n",
       "      <td>8</td>\n",
       "      <td>10</td>\n",
       "    </tr>\n",
       "  </tbody>\n",
       "</table>\n",
       "</div>"
      ],
      "text/plain": [
       "      A  B   C\n",
       "12.6  4  5   6\n",
       "4.8   7  8   9\n",
       "4.8   7  8  10"
      ]
     },
     "execution_count": 86,
     "metadata": {},
     "output_type": "execute_result"
    }
   ],
   "source": [
    "df[df.A >= 4]"
   ]
  },
  {
   "cell_type": "code",
   "execution_count": 87,
   "metadata": {},
   "outputs": [
    {
     "data": {
      "text/html": [
       "<div>\n",
       "<style>\n",
       "    .dataframe thead tr:only-child th {\n",
       "        text-align: right;\n",
       "    }\n",
       "\n",
       "    .dataframe thead th {\n",
       "        text-align: left;\n",
       "    }\n",
       "\n",
       "    .dataframe tbody tr th {\n",
       "        vertical-align: top;\n",
       "    }\n",
       "</style>\n",
       "<table border=\"1\" class=\"dataframe\">\n",
       "  <thead>\n",
       "    <tr style=\"text-align: right;\">\n",
       "      <th></th>\n",
       "      <th>A</th>\n",
       "      <th>B</th>\n",
       "      <th>C</th>\n",
       "    </tr>\n",
       "  </thead>\n",
       "  <tbody>\n",
       "    <tr>\n",
       "      <th>a</th>\n",
       "      <td>1</td>\n",
       "      <td>2</td>\n",
       "      <td>3</td>\n",
       "    </tr>\n",
       "    <tr>\n",
       "      <th>12.6</th>\n",
       "      <td>4</td>\n",
       "      <td>5</td>\n",
       "      <td>6</td>\n",
       "    </tr>\n",
       "    <tr>\n",
       "      <th>4.8</th>\n",
       "      <td>7</td>\n",
       "      <td>8</td>\n",
       "      <td>9</td>\n",
       "    </tr>\n",
       "    <tr>\n",
       "      <th>4.8</th>\n",
       "      <td>7</td>\n",
       "      <td>8</td>\n",
       "      <td>10</td>\n",
       "    </tr>\n",
       "  </tbody>\n",
       "</table>\n",
       "</div>"
      ],
      "text/plain": [
       "      A  B   C\n",
       "a     1  2   3\n",
       "12.6  4  5   6\n",
       "4.8   7  8   9\n",
       "4.8   7  8  10"
      ]
     },
     "execution_count": 87,
     "metadata": {},
     "output_type": "execute_result"
    }
   ],
   "source": [
    "#Selecting values from a DataFrame where a boolean condition is met.\n",
    "df[df>0]"
   ]
  },
  {
   "cell_type": "markdown",
   "metadata": {},
   "source": [
    "### Creating a Series by passing a list of values, letting pandas create a default integer index"
   ]
  },
  {
   "cell_type": "code",
   "execution_count": 88,
   "metadata": {},
   "outputs": [
    {
     "name": "stdout",
     "output_type": "stream",
     "text": [
      "0    1.0\n",
      "1    3.0\n",
      "2    5.0\n",
      "3    NaN\n",
      "4    6.0\n",
      "5    8.0\n",
      "dtype: float64\n",
      "DatetimeIndex(['2013-01-01', '2013-01-02', '2013-01-03', '2013-01-04',\n",
      "               '2013-01-05', '2013-01-06'],\n",
      "              dtype='datetime64[ns]', freq='D')\n",
      "Int64Index([2013, 2013, 2013, 2013, 2013, 2013], dtype='int64') Int64Index([1, 1, 1, 1, 1, 1], dtype='int64') Int64Index([1, 2, 3, 4, 5, 6], dtype='int64')\n"
     ]
    }
   ],
   "source": [
    "s = pd.Series([1,3,5,np.nan,6,8])\n",
    "print(s)\n",
    "dates = pd.date_range('20130101',periods=6)\n",
    "print(dates)\n",
    "print (dates.year, dates.month, dates.day)"
   ]
  },
  {
   "cell_type": "markdown",
   "metadata": {},
   "source": [
    "### Creating Dataframe using dictionary"
   ]
  },
  {
   "cell_type": "code",
   "execution_count": 43,
   "metadata": {},
   "outputs": [
    {
     "data": {
      "text/html": [
       "<div>\n",
       "<style>\n",
       "    .dataframe thead tr:only-child th {\n",
       "        text-align: right;\n",
       "    }\n",
       "\n",
       "    .dataframe thead th {\n",
       "        text-align: left;\n",
       "    }\n",
       "\n",
       "    .dataframe tbody tr th {\n",
       "        vertical-align: top;\n",
       "    }\n",
       "</style>\n",
       "<table border=\"1\" class=\"dataframe\">\n",
       "  <thead>\n",
       "    <tr style=\"text-align: right;\">\n",
       "      <th></th>\n",
       "      <th>A</th>\n",
       "      <th>B</th>\n",
       "      <th>C</th>\n",
       "      <th>D</th>\n",
       "    </tr>\n",
       "  </thead>\n",
       "  <tbody>\n",
       "    <tr>\n",
       "      <th>2013-01-01</th>\n",
       "      <td>0.755834</td>\n",
       "      <td>0.404793</td>\n",
       "      <td>1.822382</td>\n",
       "      <td>-0.955992</td>\n",
       "    </tr>\n",
       "    <tr>\n",
       "      <th>2013-01-02</th>\n",
       "      <td>-1.645617</td>\n",
       "      <td>1.569196</td>\n",
       "      <td>1.467623</td>\n",
       "      <td>-1.014437</td>\n",
       "    </tr>\n",
       "    <tr>\n",
       "      <th>2013-01-03</th>\n",
       "      <td>-0.068905</td>\n",
       "      <td>-0.619607</td>\n",
       "      <td>0.528225</td>\n",
       "      <td>-0.064088</td>\n",
       "    </tr>\n",
       "    <tr>\n",
       "      <th>2013-01-04</th>\n",
       "      <td>-0.681733</td>\n",
       "      <td>0.539411</td>\n",
       "      <td>-0.243706</td>\n",
       "      <td>-0.644320</td>\n",
       "    </tr>\n",
       "    <tr>\n",
       "      <th>2013-01-05</th>\n",
       "      <td>0.517208</td>\n",
       "      <td>1.782710</td>\n",
       "      <td>0.398762</td>\n",
       "      <td>0.038437</td>\n",
       "    </tr>\n",
       "    <tr>\n",
       "      <th>2013-01-06</th>\n",
       "      <td>0.897487</td>\n",
       "      <td>-0.755765</td>\n",
       "      <td>0.194728</td>\n",
       "      <td>0.531924</td>\n",
       "    </tr>\n",
       "  </tbody>\n",
       "</table>\n",
       "</div>"
      ],
      "text/plain": [
       "                   A         B         C         D\n",
       "2013-01-01  0.755834  0.404793  1.822382 -0.955992\n",
       "2013-01-02 -1.645617  1.569196  1.467623 -1.014437\n",
       "2013-01-03 -0.068905 -0.619607  0.528225 -0.064088\n",
       "2013-01-04 -0.681733  0.539411 -0.243706 -0.644320\n",
       "2013-01-05  0.517208  1.782710  0.398762  0.038437\n",
       "2013-01-06  0.897487 -0.755765  0.194728  0.531924"
      ]
     },
     "execution_count": 43,
     "metadata": {},
     "output_type": "execute_result"
    }
   ],
   "source": [
    "df = pd.DataFrame(np.random.randn(6,4), index=dates, columns=list('ABCD'))\n",
    "df"
   ]
  },
  {
   "cell_type": "code",
   "execution_count": null,
   "metadata": {},
   "outputs": [],
   "source": []
  }
 ],
 "metadata": {
  "kernelspec": {
   "display_name": "Python 3",
   "language": "python",
   "name": "python3"
  },
  "language_info": {
   "codemirror_mode": {
    "name": "ipython",
    "version": 3
   },
   "file_extension": ".py",
   "mimetype": "text/x-python",
   "name": "python",
   "nbconvert_exporter": "python",
   "pygments_lexer": "ipython3",
   "version": "3.6.7"
  }
 },
 "nbformat": 4,
 "nbformat_minor": 2
}
