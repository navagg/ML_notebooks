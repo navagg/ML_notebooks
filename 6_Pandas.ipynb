{
 "cells": [
  {
   "cell_type": "markdown",
   "metadata": {},
   "source": [
    "## This Notebook is used to understand Pandas module \n",
    "### This is Part 1 of the Pandas Notebook\n",
    "Dr. Naveen Aggarwal\n",
    "\n",
    "#### Panel + Data = Pandas\n",
    "<li> It provides well-defined data structures and their functions.<BR>\n",
    "<li> It translates complex operations by using simple commands.<BR>\n",
    "<li> Easy to group, filtering, concatenating data, Well, organized way of doing time-series functionality.<BR>\n",
    "<li> Sorting, Aggregations, Indexing and re-indexing, and Iterations.<BR>\n",
    "<li> Reshape the data and its structure,<BR>\n",
    "<li> Quick slice, and dice the data based on our necessity.<BR>\n",
    "<li> Data manipulation capabilities are very similar to SQL.<BR>\n",
    "<li> Handling data for various aspects like missing data, cleaning, and manipulating data is with a simple line of code.<BR>\n",
    "   \n",
    "Since it is very powerful it can handle Tabular data, Ordered and Unordered time series data, and fit for Un-labelled data."
   ]
  },
  {
   "cell_type": "code",
   "execution_count": 1,
   "metadata": {},
   "outputs": [],
   "source": [
    "import numpy as np\n",
    "import pandas as pd"
   ]
  },
  {
   "cell_type": "markdown",
   "metadata": {},
   "source": [
    "### Creating Structured Array using np array"
   ]
  },
  {
   "cell_type": "code",
   "execution_count": 2,
   "metadata": {},
   "outputs": [
    {
     "name": "stdout",
     "output_type": "stream",
     "text": [
      "[(1, 1.) (1, 1.) (1, 1.)]\n",
      "[1 1 1]\n",
      "[1. 1. 1.]\n"
     ]
    }
   ],
   "source": [
    "# A structured array\n",
    "# Structured arrays allow users to manipulate the data by named fields: \n",
    "#in the example below, a structured array of three tuples is created. \n",
    "#The first element of each tuple will be called ‘first’ and will be of type int, \n",
    "#while the second element will be named ‘second’ and will be a float.\n",
    "my_array = np.ones(3, dtype=([('first', int), ('second', float)]))\n",
    "# Print the structured array\n",
    "print(my_array)\n",
    "print(my_array['first'])\n",
    "print(my_array['second'])"
   ]
  },
  {
   "cell_type": "code",
   "execution_count": 3,
   "metadata": {},
   "outputs": [
    {
     "name": "stdout",
     "output_type": "stream",
     "text": [
      "[(1, 1.) (1, 1.) (1, 1.)]\n",
      "1\n",
      "[1. 1. 1.]\n"
     ]
    }
   ],
   "source": [
    "# A record array\n",
    "my_array2 = my_array.view(np.recarray)\n",
    "# Print the record array\n",
    "print(my_array2)\n",
    "print(my_array2.first[0])\n",
    "print(my_array2.second)"
   ]
  },
  {
   "cell_type": "markdown",
   "metadata": {},
   "source": [
    "#### Series and DataFrame\n",
    "“Series” and “DataFrame” are the primary “Data Structures” components of pandas. Series is a kind of dictionary and collection of series, if you merging the series, we could construct the dataframe. Data Frame is a structured dataset, and you can play with that.\n",
    "\n",
    "##### Series\n",
    "One Dimensional Array with Fixed Length.\n",
    "##### DataFrame\n",
    "<li>Two-Dimensional Array\n",
    "<li>Fixed Length\n",
    "<li>Rectangular table of data (Column and Rows)"
   ]
  },
  {
   "cell_type": "markdown",
   "metadata": {},
   "source": [
    "### Creating a Series by passing a list of values, letting pandas create a default integer index"
   ]
  },
  {
   "cell_type": "code",
   "execution_count": 4,
   "metadata": {},
   "outputs": [
    {
     "name": "stdout",
     "output_type": "stream",
     "text": [
      "0    1.0\n",
      "1    3.0\n",
      "2    5.0\n",
      "3    NaN\n",
      "4    6.0\n",
      "5    8.0\n",
      "dtype: float64\n",
      "DatetimeIndex(['2021-01-01', '2021-01-02', '2021-01-03', '2021-01-04',\n",
      "               '2021-01-05', '2021-01-06', '2021-01-07', '2021-01-08'],\n",
      "              dtype='datetime64[ns]', freq='D')\n",
      "Int64Index([2021, 2021, 2021, 2021, 2021, 2021, 2021, 2021], dtype='int64') Int64Index([1, 1, 1, 1, 1, 1, 1, 1], dtype='int64') Int64Index([1, 2, 3, 4, 5, 6, 7, 8], dtype='int64')\n"
     ]
    }
   ],
   "source": [
    "s = pd.Series([1,3,5,np.nan,6,8])\n",
    "print(s)\n",
    "dates = pd.date_range('20210101',periods=8)\n",
    "print(dates)\n",
    "print (dates.year, dates.month, dates.day)"
   ]
  },
  {
   "cell_type": "markdown",
   "metadata": {},
   "source": [
    "### Creating Dataframe using numpy array"
   ]
  },
  {
   "cell_type": "code",
   "execution_count": 5,
   "metadata": {},
   "outputs": [
    {
     "data": {
      "text/html": [
       "<div>\n",
       "<style scoped>\n",
       "    .dataframe tbody tr th:only-of-type {\n",
       "        vertical-align: middle;\n",
       "    }\n",
       "\n",
       "    .dataframe tbody tr th {\n",
       "        vertical-align: top;\n",
       "    }\n",
       "\n",
       "    .dataframe thead th {\n",
       "        text-align: right;\n",
       "    }\n",
       "</style>\n",
       "<table border=\"1\" class=\"dataframe\">\n",
       "  <thead>\n",
       "    <tr style=\"text-align: right;\">\n",
       "      <th></th>\n",
       "      <th>A</th>\n",
       "      <th>B</th>\n",
       "      <th>C</th>\n",
       "      <th>D</th>\n",
       "    </tr>\n",
       "  </thead>\n",
       "  <tbody>\n",
       "    <tr>\n",
       "      <th>2021-01-01</th>\n",
       "      <td>0.546456</td>\n",
       "      <td>0.036446</td>\n",
       "      <td>0.502399</td>\n",
       "      <td>0.281760</td>\n",
       "    </tr>\n",
       "    <tr>\n",
       "      <th>2021-01-02</th>\n",
       "      <td>0.515786</td>\n",
       "      <td>0.219523</td>\n",
       "      <td>0.590055</td>\n",
       "      <td>0.681974</td>\n",
       "    </tr>\n",
       "    <tr>\n",
       "      <th>2021-01-03</th>\n",
       "      <td>-0.907503</td>\n",
       "      <td>0.354732</td>\n",
       "      <td>0.738543</td>\n",
       "      <td>-0.685204</td>\n",
       "    </tr>\n",
       "    <tr>\n",
       "      <th>2021-01-04</th>\n",
       "      <td>1.545319</td>\n",
       "      <td>-0.157066</td>\n",
       "      <td>1.100779</td>\n",
       "      <td>-0.251812</td>\n",
       "    </tr>\n",
       "    <tr>\n",
       "      <th>2021-01-05</th>\n",
       "      <td>-0.599846</td>\n",
       "      <td>1.224695</td>\n",
       "      <td>1.514243</td>\n",
       "      <td>0.193338</td>\n",
       "    </tr>\n",
       "    <tr>\n",
       "      <th>2021-01-06</th>\n",
       "      <td>0.289228</td>\n",
       "      <td>-0.609655</td>\n",
       "      <td>-0.128982</td>\n",
       "      <td>0.123187</td>\n",
       "    </tr>\n",
       "    <tr>\n",
       "      <th>2021-01-07</th>\n",
       "      <td>0.846669</td>\n",
       "      <td>0.814712</td>\n",
       "      <td>-0.252372</td>\n",
       "      <td>0.041894</td>\n",
       "    </tr>\n",
       "    <tr>\n",
       "      <th>2021-01-08</th>\n",
       "      <td>-1.656294</td>\n",
       "      <td>0.409162</td>\n",
       "      <td>0.518735</td>\n",
       "      <td>-1.314966</td>\n",
       "    </tr>\n",
       "  </tbody>\n",
       "</table>\n",
       "</div>"
      ],
      "text/plain": [
       "                   A         B         C         D\n",
       "2021-01-01  0.546456  0.036446  0.502399  0.281760\n",
       "2021-01-02  0.515786  0.219523  0.590055  0.681974\n",
       "2021-01-03 -0.907503  0.354732  0.738543 -0.685204\n",
       "2021-01-04  1.545319 -0.157066  1.100779 -0.251812\n",
       "2021-01-05 -0.599846  1.224695  1.514243  0.193338\n",
       "2021-01-06  0.289228 -0.609655 -0.128982  0.123187\n",
       "2021-01-07  0.846669  0.814712 -0.252372  0.041894\n",
       "2021-01-08 -1.656294  0.409162  0.518735 -1.314966"
      ]
     },
     "execution_count": 5,
     "metadata": {},
     "output_type": "execute_result"
    }
   ],
   "source": [
    "df = pd.DataFrame(np.random.randn(8,4), index=dates, columns=list('ABCD'))\n",
    "df"
   ]
  },
  {
   "cell_type": "markdown",
   "metadata": {},
   "source": [
    "### Creating Dataframe from np array"
   ]
  },
  {
   "cell_type": "code",
   "execution_count": 6,
   "metadata": {},
   "outputs": [
    {
     "name": "stdout",
     "output_type": "stream",
     "text": [
      "     Col1 Col2\n",
      "Row1    1    2\n",
      "Row2    3    4\n"
     ]
    }
   ],
   "source": [
    "data = np.array([['','Col1','Col2'],\n",
    "                 ['Row1',1,2],\n",
    "                ['Row2',3,4]])\n",
    "                \n",
    "print(pd.DataFrame(data=data[1:,1:],\n",
    "                  index=data[1:,0],\n",
    "                  columns=data[0,1:]))\n",
    "#df=pd.DataFrame(data=data[1:,1:],\n",
    "#                  index=data[1:,0],\n",
    "#                  columns=data[0,1:])\n",
    "#print(df.index)\n",
    "#print(df.columns)\n",
    "#print(df)"
   ]
  },
  {
   "cell_type": "markdown",
   "metadata": {},
   "source": [
    "### Creating a DataFrame by passing a dict of objects that can be converted to series-like.\n"
   ]
  },
  {
   "cell_type": "code",
   "execution_count": 7,
   "metadata": {},
   "outputs": [
    {
     "name": "stdout",
     "output_type": "stream",
     "text": [
      "     A          B    C  D    E\n",
      "0  1.0 2013-01-02  1.0  3  foo\n",
      "1  1.0 2013-01-02  1.0  3  foo\n",
      "2  1.0 2013-01-02  1.0  3  foo\n",
      "3  1.0 2013-01-02  1.0  3  foo\n",
      "4  1.0 2013-01-02  1.0  3  foo\n"
     ]
    },
    {
     "data": {
      "text/plain": [
       "A           float64\n",
       "B    datetime64[ns]\n",
       "C           float32\n",
       "D             int32\n",
       "E            object\n",
       "dtype: object"
      ]
     },
     "execution_count": 7,
     "metadata": {},
     "output_type": "execute_result"
    }
   ],
   "source": [
    "df2 = pd.DataFrame({ 'A' : 1.,\n",
    "   ...:              'B' : pd.Timestamp('20130102'),\n",
    "   ...:              'C' : pd.Series(1,index=range(5),dtype='float32'),\n",
    "   ...:              'D' : np.array([3] * 5,dtype='int32'),\n",
    "   ...:              'E' : 'foo' })\n",
    "print(df2)\n",
    "df2.dtypes"
   ]
  },
  {
   "cell_type": "markdown",
   "metadata": {},
   "source": [
    "### Creating Dataframes from array, dictionary and series"
   ]
  },
  {
   "cell_type": "code",
   "execution_count": 8,
   "metadata": {},
   "outputs": [
    {
     "name": "stdout",
     "output_type": "stream",
     "text": [
      "Data Frame From Array\n",
      "    0  1  2\n",
      "0  1  2  3\n",
      "1  4  5  6\n"
     ]
    }
   ],
   "source": [
    "# Take a 2D array as input to your DataFrame \n",
    "my_2darray = np.array([[1, 2, 3], [4, 5, 6]])\n",
    "print(\"Data Frame From Array\\n\", pd.DataFrame(my_2darray))"
   ]
  },
  {
   "cell_type": "code",
   "execution_count": 9,
   "metadata": {},
   "outputs": [
    {
     "name": "stdout",
     "output_type": "stream",
     "text": [
      "Data Frame From Dictionary\n",
      "    A  B  3\n",
      "0  1  1  2\n",
      "1  3  2  4\n"
     ]
    }
   ],
   "source": [
    "# Take a dictionary as input to your DataFrame \n",
    "my_dict = {'A': ['1', '3'], 'B': ['1', '2'], 3: ['2', '4']}\n",
    "print(\"Data Frame From Dictionary\\n\",pd.DataFrame(my_dict))"
   ]
  },
  {
   "cell_type": "code",
   "execution_count": 10,
   "metadata": {},
   "outputs": [
    {
     "name": "stdout",
     "output_type": "stream",
     "text": [
      "Data Frame From another dataframe\n",
      "    A\n",
      "0  4\n",
      "1  5\n",
      "2  6\n",
      "3  7\n"
     ]
    }
   ],
   "source": [
    "# Take a DataFrame as input to your DataFrame \n",
    "my_df = pd.DataFrame(data=[4,5,6,7], index=range(0,4), columns=['A'])\n",
    "print(\"Data Frame From another dataframe\\n\",pd.DataFrame(my_df))"
   ]
  },
  {
   "cell_type": "code",
   "execution_count": 11,
   "metadata": {},
   "outputs": [
    {
     "name": "stdout",
     "output_type": "stream",
     "text": [
      "Data Frame From Series\n",
      "                         0\n",
      "United Kingdom     London\n",
      "India           New Delhi\n"
     ]
    }
   ],
   "source": [
    "# Take a Series as input to your DataFrame\n",
    "my_series = pd.Series({\"United Kingdom\":\"London\", \"India\":\"New Delhi\"})\n",
    "print(\"Data Frame From Series\\n\",pd.DataFrame(my_series))"
   ]
  },
  {
   "cell_type": "markdown",
   "metadata": {},
   "source": [
    "### Shape and Length Property"
   ]
  },
  {
   "cell_type": "code",
   "execution_count": 12,
   "metadata": {},
   "outputs": [
    {
     "name": "stdout",
     "output_type": "stream",
     "text": [
      "3\n",
      "(2, 3)\n",
      "2\n"
     ]
    }
   ],
   "source": [
    "df = pd.DataFrame(np.array([[1, 2, 3], [4, 5, 6]]))\n",
    "\n",
    "# Use the `shape` property\n",
    "print(df.shape[1])\n",
    "print(df.shape)\n",
    "# Or use the `len()` function with the `index` property\n",
    "print(len(df.index))"
   ]
  },
  {
   "cell_type": "code",
   "execution_count": 13,
   "metadata": {},
   "outputs": [
    {
     "data": {
      "text/plain": [
       "[0, 1, 2]"
      ]
     },
     "execution_count": 13,
     "metadata": {},
     "output_type": "execute_result"
    }
   ],
   "source": [
    "list(df.columns.values)"
   ]
  },
  {
   "cell_type": "markdown",
   "metadata": {},
   "source": [
    "### Accesing elements of the dataframe"
   ]
  },
  {
   "cell_type": "code",
   "execution_count": 14,
   "metadata": {},
   "outputs": [
    {
     "name": "stdout",
     "output_type": "stream",
     "text": [
      "   A  B  C\n",
      "0  1  2  3\n",
      "1  4  5  6\n",
      "2  7  8  9\n",
      "Using iloc[] 1\n",
      "Using loc[] 2\n"
     ]
    }
   ],
   "source": [
    "df = pd.DataFrame(data=[[1,2,3],[4,5,6],[7,8,9]], columns=['A', 'B','C'])\n",
    "print(df)\n",
    "\n",
    "# Using `iloc[]`\n",
    "print(\"Using iloc[]\",df.iloc[0][0])\n",
    "\n",
    "# Using `loc[]`\n",
    "print(\"Using loc[]\", df.loc[0]['B'])\n",
    "\n",
    "# Using `at[]`\n",
    "#print(\"Using at[]\", df.at[1,'C'])\n",
    "\n",
    "# Using `iat[]`\n",
    "#print(\"Using iat[]\", df.iat[2,2])\n",
    "\n",
    "# Using `get_value(index, column)`\n",
    "#print(df.get_value(1, 'A'))"
   ]
  },
  {
   "cell_type": "markdown",
   "metadata": {},
   "source": [
    "### Adding and Accesing an index to dataframe"
   ]
  },
  {
   "cell_type": "code",
   "execution_count": 15,
   "metadata": {},
   "outputs": [
    {
     "name": "stdout",
     "output_type": "stream",
     "text": [
      "   48  49  50\n",
      "2   1   2   3\n",
      "A   4   5   6\n",
      "4   7   8   9\n"
     ]
    }
   ],
   "source": [
    "df = pd.DataFrame(data=np.array([[1, 2, 3], \n",
    "                                 [4, 5, 6], \n",
    "                                 [7, 8, 9]]), \n",
    "                  index= [2, 'A', 4], \n",
    "                  columns=[48, 49, 50])\n",
    "\n",
    "print(df)"
   ]
  },
  {
   "cell_type": "code",
   "execution_count": 16,
   "metadata": {},
   "outputs": [
    {
     "name": "stdout",
     "output_type": "stream",
     "text": [
      "Accesing you loc\n",
      " 48    1\n",
      "49    2\n",
      "50    3\n",
      "Name: 2, dtype: int32\n",
      "Accessing you iloc\n",
      " 48    7\n",
      "49    8\n",
      "50    9\n",
      "Name: 4, dtype: int32\n"
     ]
    }
   ],
   "source": [
    "# Pass `2` to `loc`\n",
    "print(\"Accesing you loc\\n\",df.loc[2])\n",
    "\n",
    "# Pass `2` to `iloc`\n",
    "print(\"Accessing you iloc\\n\",df.iloc[2])\n",
    "\n",
    "# Pass `2` to `ix`\n",
    "#print(\"Accesing you ix\\n\",df.ix[2])"
   ]
  },
  {
   "cell_type": "markdown",
   "metadata": {},
   "source": [
    "### Adding a row to data frame"
   ]
  },
  {
   "cell_type": "code",
   "execution_count": 18,
   "metadata": {},
   "outputs": [
    {
     "name": "stdout",
     "output_type": "stream",
     "text": [
      "      48  49  50\n",
      "1.0    1   2   3\n",
      "12.6   4   5   6\n",
      "4.8    7   8   9\n",
      "      48  49  50\n",
      "1.0    1   2   3\n",
      "12.6   4   5   6\n",
      "4.8   60  50  40\n",
      "      48  49  50\n",
      "1.0    1   2   3\n",
      "12.6   4   5   6\n",
      "4.8   60  50  40\n",
      "2.0   11  12  13\n"
     ]
    }
   ],
   "source": [
    "df = pd.DataFrame(data=np.array([[1, 2, 3], \n",
    "                                 [4, 5, 6], \n",
    "                                 [7, 8, 9]]), \n",
    "                  index= [1, 12.6, 4.8], \n",
    "                  columns=[48, 49, 50])\n",
    "\n",
    "print(df)\n",
    "# There's No index labeled `2`, \n",
    "#so you will change the index at position `2`\n",
    "df.iloc[2] = [60, 50, 40]\n",
    "print(df)\n",
    "\n",
    "# This will make an index labeled `2` \n",
    "#and add the new values\n",
    "df.loc[2] = [11, 12, 13]\n",
    "print(df)"
   ]
  },
  {
   "cell_type": "markdown",
   "metadata": {},
   "source": [
    "### Adding a Column to data frame"
   ]
  },
  {
   "cell_type": "code",
   "execution_count": 19,
   "metadata": {},
   "outputs": [
    {
     "name": "stdout",
     "output_type": "stream",
     "text": [
      "   A  B  C\n",
      "0  1  2  3\n",
      "1  4  5  6\n",
      "2  7  8  9\n",
      "After Adding the Column\n",
      "    A  B  C  D\n",
      "0  1  2  3  0\n",
      "1  4  5  6  1\n",
      "2  7  8  9  2\n"
     ]
    }
   ],
   "source": [
    "df = pd.DataFrame(data=np.array([[1, 2, 3], \n",
    "                                 [4, 5, 6], \n",
    "                                 [7, 8, 9]]), \n",
    "                  columns=['A', 'B', 'C'])\n",
    "\n",
    "print(df)\n",
    "\n",
    "# Use `.index`\n",
    "df['D'] = df.index\n",
    "\n",
    "# Print `df`\n",
    "print(\"After Adding the Column\\n\", df)"
   ]
  },
  {
   "cell_type": "markdown",
   "metadata": {},
   "source": [
    "### Another way of adding column"
   ]
  },
  {
   "cell_type": "code",
   "execution_count": 20,
   "metadata": {},
   "outputs": [
    {
     "name": "stdout",
     "output_type": "stream",
     "text": [
      "After Adding another Column\n",
      "    A  B  C  D   E\n",
      "0  1  2  3  0  11\n",
      "1  4  5  6  1  12\n",
      "2  7  8  9  2  13\n",
      "After Adding another Column\n",
      "    A  B  C  D   E  3\n",
      "0  1  2  3  0  11  5\n",
      "1  4  5  6  1  12  6\n",
      "2  7  8  9  2  13  7\n"
     ]
    }
   ],
   "source": [
    "df['E']=[11,12,13]\n",
    "\n",
    "# Print `df`\n",
    "print(\"After Adding another Column\\n\", df)\n",
    "\n",
    "df.loc[:, 3] = pd.Series(['5', '6', '7'], index=df.index)\n",
    "# Print `df`\n",
    "print(\"After Adding another Column\\n\", df)\n"
   ]
  },
  {
   "cell_type": "markdown",
   "metadata": {},
   "source": [
    "### Resetting the index"
   ]
  },
  {
   "cell_type": "code",
   "execution_count": 23,
   "metadata": {},
   "outputs": [
    {
     "name": "stdout",
     "output_type": "stream",
     "text": [
      "    A  B  C\n",
      "20  1  2  3\n",
      "30  4  5  6\n",
      "40  7  8  9\n",
      "   index  A  B  C\n",
      "0     20  1  2  3\n",
      "1     30  4  5  6\n",
      "2     40  7  8  9\n",
      "   A  B  C\n",
      "0  1  2  3\n",
      "1  4  5  6\n",
      "2  7  8  9\n",
      "    A  B  C\n",
      "20  1  2  3\n",
      "30  4  5  6\n",
      "40  7  8  9\n"
     ]
    }
   ],
   "source": [
    "# Check out the weird index of your dataframe\n",
    "df = pd.DataFrame(data=np.array([[1, 2, 3], \n",
    "                                 [4, 5, 6], \n",
    "                                 [7, 8, 9]]), \n",
    "                  index=[20,30,40],\n",
    "                  columns=['A', 'B', 'C'])\n",
    "\n",
    "print(df)\n",
    "\n",
    "print(df.reset_index())\n",
    "# Use `reset_index()` to reset the values\n",
    "print(df.reset_index(drop=True))\n",
    "\n",
    "# Use `reset_index()` to reset the values\n",
    "df.reset_index(inplace=False)\n",
    "print(df)\n"
   ]
  },
  {
   "cell_type": "markdown",
   "metadata": {},
   "source": [
    "### Deleting the Column"
   ]
  },
  {
   "cell_type": "code",
   "execution_count": 24,
   "metadata": {},
   "outputs": [
    {
     "name": "stdout",
     "output_type": "stream",
     "text": [
      "      A  B  C\n",
      "2.5   1  2  3\n",
      "12.6  4  5  6\n",
      "4.8   7  8  9\n",
      "After Droping the Column \n",
      "       B  C\n",
      "2.5   2  3\n",
      "12.6  5  6\n",
      "4.8   8  9\n",
      "After Dropping another Column\n",
      "      B\n",
      "2.5   2\n",
      "12.6  5\n",
      "4.8   8\n"
     ]
    }
   ],
   "source": [
    "df = pd.DataFrame(data=np.array([[1, 2, 3], [4, 5, 6], [7, 8, 9]]), \n",
    "                  index= [2.5, 12.6, 4.8], \n",
    "                  columns=['A','B','C'])\n",
    "                  \n",
    "print(df)\n",
    "# Drop the column with label 'A'\n",
    "# Meaning of axis attribute: Whether to drop labels from the index (0 or ‘index’) or columns (1 or ‘columns’).\n",
    "df.drop('A',axis=1, inplace=True)\n",
    "print(\"After Droping the Column \\n\",df)\n",
    "# Drop the column at position 2\n",
    "print(\"After Dropping another Column\")\n",
    "print(df.drop(df.columns[1], axis=1))"
   ]
  },
  {
   "cell_type": "markdown",
   "metadata": {},
   "source": [
    "### Deleting the Row"
   ]
  },
  {
   "cell_type": "code",
   "execution_count": 25,
   "metadata": {},
   "outputs": [
    {
     "name": "stdout",
     "output_type": "stream",
     "text": [
      "      48  49  50\n",
      "2.5    1   2   3\n",
      "12.6   4   5   6\n",
      "4.8    7   8   9\n",
      "4.8    7   8  10\n",
      "\n",
      "\n",
      "      48  49  50\n",
      "2.5    1   2   3\n",
      "12.6   4   5   6\n",
      "4.8    7   8  10\n",
      "\n",
      "Drop the index at position 1\n",
      "     48  49  50\n",
      "2.5   1   2   3\n",
      "4.8   7   8  10\n"
     ]
    }
   ],
   "source": [
    "df = pd.DataFrame(data=np.array([[1, 2, 3], \n",
    "                                 [4, 5, 6], \n",
    "                                 [7, 8, 9], \n",
    "                                 [7, 8, 10]]), \n",
    "                  index= [2.5, 12.6, 4.8, 4.8], \n",
    "                  columns=[48, 49, 50])\n",
    "                  \n",
    "\n",
    "# Check out your DataFrame `df`\n",
    "print(df)\n",
    "print(\"\\n\")\n",
    "# Drop the duplicates in `df`\n",
    "df=pd.DataFrame(data=df.drop_duplicates([48], keep='last'))\n",
    "print(df)\n",
    "\n",
    "print(\"\\nDrop the index at position 1\")\n",
    "print(df.drop(df.index[1]))\n"
   ]
  },
  {
   "cell_type": "markdown",
   "metadata": {},
   "source": [
    "### Renaming the Index or Coulmns of Dataframe"
   ]
  },
  {
   "cell_type": "code",
   "execution_count": 26,
   "metadata": {},
   "outputs": [
    {
     "name": "stdout",
     "output_type": "stream",
     "text": [
      "      48  49  50\n",
      "2.5    1   2   3\n",
      "12.6   4   5   6\n",
      "4.8    7   8   9\n",
      "4.8    7   8  10\n",
      "After Renaming the Columns\n",
      "       A  B   C\n",
      "2.5   1  2   3\n",
      "12.6  4  5   6\n",
      "4.8   7  8   9\n",
      "4.8   7  8  10\n",
      "After Renaming the Index\n",
      "       A  B   C\n",
      "a     1  2   3\n",
      "12.6  4  5   6\n",
      "4.8   7  8   9\n",
      "4.8   7  8  10\n"
     ]
    }
   ],
   "source": [
    "df = pd.DataFrame(data=np.array([[1, 2, 3], \n",
    "                                 [4, 5, 6], \n",
    "                                 [7, 8, 9], \n",
    "                                 [7, 8, 10]]), \n",
    "                  index= [2.5, 12.6, 4.8, 4.8], \n",
    "                  columns=[48, 49, 50])\n",
    "\n",
    "print(df)\n",
    "# Define the new names of your columns\n",
    "newcols = {\n",
    "    48: 'A', \n",
    "    49: 'B', \n",
    "    50: 'C'\n",
    "}\n",
    "\n",
    "# Use `rename()` to rename your columns\n",
    "df.rename(columns=newcols, inplace=True)\n",
    "\n",
    "print(\"After Renaming the Columns\\n\", df)\n",
    "\n",
    "# Rename your index\n",
    "df=pd.DataFrame(data=df.rename(index={2.5: 'a'}))\n",
    "\n",
    "print(\"After Renaming the Index\\n\", df)"
   ]
  },
  {
   "cell_type": "markdown",
   "metadata": {},
   "source": [
    "### Basic Operations on data"
   ]
  },
  {
   "cell_type": "code",
   "execution_count": 27,
   "metadata": {},
   "outputs": [
    {
     "name": "stdout",
     "output_type": "stream",
     "text": [
      "      A  B   C\n",
      "a     1  2   3\n",
      "12.6  4  5   6\n",
      "4.8   7  8   9\n",
      "4.8   7  8  10\n"
     ]
    },
    {
     "data": {
      "text/html": [
       "<div>\n",
       "<style scoped>\n",
       "    .dataframe tbody tr th:only-of-type {\n",
       "        vertical-align: middle;\n",
       "    }\n",
       "\n",
       "    .dataframe tbody tr th {\n",
       "        vertical-align: top;\n",
       "    }\n",
       "\n",
       "    .dataframe thead th {\n",
       "        text-align: right;\n",
       "    }\n",
       "</style>\n",
       "<table border=\"1\" class=\"dataframe\">\n",
       "  <thead>\n",
       "    <tr style=\"text-align: right;\">\n",
       "      <th></th>\n",
       "      <th>a</th>\n",
       "      <th>12.6</th>\n",
       "      <th>4.8</th>\n",
       "      <th>4.8</th>\n",
       "    </tr>\n",
       "  </thead>\n",
       "  <tbody>\n",
       "    <tr>\n",
       "      <th>A</th>\n",
       "      <td>1</td>\n",
       "      <td>4</td>\n",
       "      <td>7</td>\n",
       "      <td>7</td>\n",
       "    </tr>\n",
       "    <tr>\n",
       "      <th>B</th>\n",
       "      <td>2</td>\n",
       "      <td>5</td>\n",
       "      <td>8</td>\n",
       "      <td>8</td>\n",
       "    </tr>\n",
       "    <tr>\n",
       "      <th>C</th>\n",
       "      <td>3</td>\n",
       "      <td>6</td>\n",
       "      <td>9</td>\n",
       "      <td>10</td>\n",
       "    </tr>\n",
       "  </tbody>\n",
       "</table>\n",
       "</div>"
      ],
      "text/plain": [
       "   a  12.6  4.8  4.8\n",
       "A  1     4    7    7\n",
       "B  2     5    8    8\n",
       "C  3     6    9   10"
      ]
     },
     "execution_count": 27,
     "metadata": {},
     "output_type": "execute_result"
    }
   ],
   "source": [
    "print(df)\n",
    "df.T # Transpose of data"
   ]
  },
  {
   "cell_type": "code",
   "execution_count": 28,
   "metadata": {},
   "outputs": [
    {
     "data": {
      "text/html": [
       "<div>\n",
       "<style scoped>\n",
       "    .dataframe tbody tr th:only-of-type {\n",
       "        vertical-align: middle;\n",
       "    }\n",
       "\n",
       "    .dataframe tbody tr th {\n",
       "        vertical-align: top;\n",
       "    }\n",
       "\n",
       "    .dataframe thead th {\n",
       "        text-align: right;\n",
       "    }\n",
       "</style>\n",
       "<table border=\"1\" class=\"dataframe\">\n",
       "  <thead>\n",
       "    <tr style=\"text-align: right;\">\n",
       "      <th></th>\n",
       "      <th>C</th>\n",
       "      <th>B</th>\n",
       "      <th>A</th>\n",
       "    </tr>\n",
       "  </thead>\n",
       "  <tbody>\n",
       "    <tr>\n",
       "      <th>a</th>\n",
       "      <td>3</td>\n",
       "      <td>2</td>\n",
       "      <td>1</td>\n",
       "    </tr>\n",
       "    <tr>\n",
       "      <th>12.6</th>\n",
       "      <td>6</td>\n",
       "      <td>5</td>\n",
       "      <td>4</td>\n",
       "    </tr>\n",
       "    <tr>\n",
       "      <th>4.8</th>\n",
       "      <td>9</td>\n",
       "      <td>8</td>\n",
       "      <td>7</td>\n",
       "    </tr>\n",
       "    <tr>\n",
       "      <th>4.8</th>\n",
       "      <td>10</td>\n",
       "      <td>8</td>\n",
       "      <td>7</td>\n",
       "    </tr>\n",
       "  </tbody>\n",
       "</table>\n",
       "</div>"
      ],
      "text/plain": [
       "       C  B  A\n",
       "a      3  2  1\n",
       "12.6   6  5  4\n",
       "4.8    9  8  7\n",
       "4.8   10  8  7"
      ]
     },
     "execution_count": 28,
     "metadata": {},
     "output_type": "execute_result"
    }
   ],
   "source": [
    "df.sort_index(axis=1, ascending=False)  #Sorting of Columns"
   ]
  },
  {
   "cell_type": "code",
   "execution_count": 29,
   "metadata": {},
   "outputs": [
    {
     "data": {
      "text/html": [
       "<div>\n",
       "<style scoped>\n",
       "    .dataframe tbody tr th:only-of-type {\n",
       "        vertical-align: middle;\n",
       "    }\n",
       "\n",
       "    .dataframe tbody tr th {\n",
       "        vertical-align: top;\n",
       "    }\n",
       "\n",
       "    .dataframe thead th {\n",
       "        text-align: right;\n",
       "    }\n",
       "</style>\n",
       "<table border=\"1\" class=\"dataframe\">\n",
       "  <thead>\n",
       "    <tr style=\"text-align: right;\">\n",
       "      <th></th>\n",
       "      <th>A</th>\n",
       "      <th>B</th>\n",
       "      <th>C</th>\n",
       "    </tr>\n",
       "  </thead>\n",
       "  <tbody>\n",
       "    <tr>\n",
       "      <th>a</th>\n",
       "      <td>1</td>\n",
       "      <td>2</td>\n",
       "      <td>3</td>\n",
       "    </tr>\n",
       "    <tr>\n",
       "      <th>12.6</th>\n",
       "      <td>4</td>\n",
       "      <td>5</td>\n",
       "      <td>6</td>\n",
       "    </tr>\n",
       "    <tr>\n",
       "      <th>4.8</th>\n",
       "      <td>7</td>\n",
       "      <td>8</td>\n",
       "      <td>9</td>\n",
       "    </tr>\n",
       "    <tr>\n",
       "      <th>4.8</th>\n",
       "      <td>7</td>\n",
       "      <td>8</td>\n",
       "      <td>10</td>\n",
       "    </tr>\n",
       "  </tbody>\n",
       "</table>\n",
       "</div>"
      ],
      "text/plain": [
       "      A  B   C\n",
       "a     1  2   3\n",
       "12.6  4  5   6\n",
       "4.8   7  8   9\n",
       "4.8   7  8  10"
      ]
     },
     "execution_count": 29,
     "metadata": {},
     "output_type": "execute_result"
    }
   ],
   "source": [
    "df.sort_values(by='B') #Sorting of rows by Column"
   ]
  },
  {
   "cell_type": "code",
   "execution_count": 30,
   "metadata": {},
   "outputs": [
    {
     "data": {
      "text/html": [
       "<div>\n",
       "<style scoped>\n",
       "    .dataframe tbody tr th:only-of-type {\n",
       "        vertical-align: middle;\n",
       "    }\n",
       "\n",
       "    .dataframe tbody tr th {\n",
       "        vertical-align: top;\n",
       "    }\n",
       "\n",
       "    .dataframe thead th {\n",
       "        text-align: right;\n",
       "    }\n",
       "</style>\n",
       "<table border=\"1\" class=\"dataframe\">\n",
       "  <thead>\n",
       "    <tr style=\"text-align: right;\">\n",
       "      <th></th>\n",
       "      <th>A</th>\n",
       "      <th>B</th>\n",
       "    </tr>\n",
       "  </thead>\n",
       "  <tbody>\n",
       "    <tr>\n",
       "      <th>a</th>\n",
       "      <td>1</td>\n",
       "      <td>2</td>\n",
       "    </tr>\n",
       "    <tr>\n",
       "      <th>12.6</th>\n",
       "      <td>4</td>\n",
       "      <td>5</td>\n",
       "    </tr>\n",
       "    <tr>\n",
       "      <th>4.8</th>\n",
       "      <td>7</td>\n",
       "      <td>8</td>\n",
       "    </tr>\n",
       "    <tr>\n",
       "      <th>4.8</th>\n",
       "      <td>7</td>\n",
       "      <td>8</td>\n",
       "    </tr>\n",
       "  </tbody>\n",
       "</table>\n",
       "</div>"
      ],
      "text/plain": [
       "      A  B\n",
       "a     1  2\n",
       "12.6  4  5\n",
       "4.8   7  8\n",
       "4.8   7  8"
      ]
     },
     "execution_count": 30,
     "metadata": {},
     "output_type": "execute_result"
    }
   ],
   "source": [
    "#For Selecting multiple Columns\n",
    "df.loc[:,['A','B']]"
   ]
  },
  {
   "cell_type": "code",
   "execution_count": 31,
   "metadata": {},
   "outputs": [
    {
     "data": {
      "text/html": [
       "<div>\n",
       "<style scoped>\n",
       "    .dataframe tbody tr th:only-of-type {\n",
       "        vertical-align: middle;\n",
       "    }\n",
       "\n",
       "    .dataframe tbody tr th {\n",
       "        vertical-align: top;\n",
       "    }\n",
       "\n",
       "    .dataframe thead th {\n",
       "        text-align: right;\n",
       "    }\n",
       "</style>\n",
       "<table border=\"1\" class=\"dataframe\">\n",
       "  <thead>\n",
       "    <tr style=\"text-align: right;\">\n",
       "      <th></th>\n",
       "      <th>A</th>\n",
       "      <th>B</th>\n",
       "      <th>C</th>\n",
       "    </tr>\n",
       "  </thead>\n",
       "  <tbody>\n",
       "    <tr>\n",
       "      <th>12.6</th>\n",
       "      <td>4</td>\n",
       "      <td>5</td>\n",
       "      <td>6</td>\n",
       "    </tr>\n",
       "    <tr>\n",
       "      <th>4.8</th>\n",
       "      <td>7</td>\n",
       "      <td>8</td>\n",
       "      <td>9</td>\n",
       "    </tr>\n",
       "  </tbody>\n",
       "</table>\n",
       "</div>"
      ],
      "text/plain": [
       "      A  B  C\n",
       "12.6  4  5  6\n",
       "4.8   7  8  9"
      ]
     },
     "execution_count": 31,
     "metadata": {},
     "output_type": "execute_result"
    }
   ],
   "source": [
    "#For slicing rows explicitly\n",
    "df.iloc[1:3,:]"
   ]
  },
  {
   "cell_type": "code",
   "execution_count": 32,
   "metadata": {},
   "outputs": [
    {
     "data": {
      "text/html": [
       "<div>\n",
       "<style scoped>\n",
       "    .dataframe tbody tr th:only-of-type {\n",
       "        vertical-align: middle;\n",
       "    }\n",
       "\n",
       "    .dataframe tbody tr th {\n",
       "        vertical-align: top;\n",
       "    }\n",
       "\n",
       "    .dataframe thead th {\n",
       "        text-align: right;\n",
       "    }\n",
       "</style>\n",
       "<table border=\"1\" class=\"dataframe\">\n",
       "  <thead>\n",
       "    <tr style=\"text-align: right;\">\n",
       "      <th></th>\n",
       "      <th>B</th>\n",
       "      <th>C</th>\n",
       "    </tr>\n",
       "  </thead>\n",
       "  <tbody>\n",
       "    <tr>\n",
       "      <th>a</th>\n",
       "      <td>2</td>\n",
       "      <td>3</td>\n",
       "    </tr>\n",
       "    <tr>\n",
       "      <th>12.6</th>\n",
       "      <td>5</td>\n",
       "      <td>6</td>\n",
       "    </tr>\n",
       "    <tr>\n",
       "      <th>4.8</th>\n",
       "      <td>8</td>\n",
       "      <td>9</td>\n",
       "    </tr>\n",
       "    <tr>\n",
       "      <th>4.8</th>\n",
       "      <td>8</td>\n",
       "      <td>10</td>\n",
       "    </tr>\n",
       "  </tbody>\n",
       "</table>\n",
       "</div>"
      ],
      "text/plain": [
       "      B   C\n",
       "a     2   3\n",
       "12.6  5   6\n",
       "4.8   8   9\n",
       "4.8   8  10"
      ]
     },
     "execution_count": 32,
     "metadata": {},
     "output_type": "execute_result"
    }
   ],
   "source": [
    "#For slicing cols explicitly\n",
    "df.iloc[:,1:4]"
   ]
  },
  {
   "cell_type": "markdown",
   "metadata": {},
   "source": [
    "### Conditional Selection"
   ]
  },
  {
   "cell_type": "code",
   "execution_count": 33,
   "metadata": {},
   "outputs": [
    {
     "data": {
      "text/html": [
       "<div>\n",
       "<style scoped>\n",
       "    .dataframe tbody tr th:only-of-type {\n",
       "        vertical-align: middle;\n",
       "    }\n",
       "\n",
       "    .dataframe tbody tr th {\n",
       "        vertical-align: top;\n",
       "    }\n",
       "\n",
       "    .dataframe thead th {\n",
       "        text-align: right;\n",
       "    }\n",
       "</style>\n",
       "<table border=\"1\" class=\"dataframe\">\n",
       "  <thead>\n",
       "    <tr style=\"text-align: right;\">\n",
       "      <th></th>\n",
       "      <th>A</th>\n",
       "      <th>B</th>\n",
       "      <th>C</th>\n",
       "    </tr>\n",
       "  </thead>\n",
       "  <tbody>\n",
       "    <tr>\n",
       "      <th>12.6</th>\n",
       "      <td>4</td>\n",
       "      <td>5</td>\n",
       "      <td>6</td>\n",
       "    </tr>\n",
       "  </tbody>\n",
       "</table>\n",
       "</div>"
      ],
      "text/plain": [
       "      A  B  C\n",
       "12.6  4  5  6"
      ]
     },
     "execution_count": 33,
     "metadata": {},
     "output_type": "execute_result"
    }
   ],
   "source": [
    "#df[df.A >= 4]\n",
    "df[(df.A>=4) & (df.B<8)]\n",
    "#| for or"
   ]
  },
  {
   "cell_type": "code",
   "execution_count": 34,
   "metadata": {},
   "outputs": [
    {
     "data": {
      "text/html": [
       "<div>\n",
       "<style scoped>\n",
       "    .dataframe tbody tr th:only-of-type {\n",
       "        vertical-align: middle;\n",
       "    }\n",
       "\n",
       "    .dataframe tbody tr th {\n",
       "        vertical-align: top;\n",
       "    }\n",
       "\n",
       "    .dataframe thead th {\n",
       "        text-align: right;\n",
       "    }\n",
       "</style>\n",
       "<table border=\"1\" class=\"dataframe\">\n",
       "  <thead>\n",
       "    <tr style=\"text-align: right;\">\n",
       "      <th></th>\n",
       "      <th>A</th>\n",
       "      <th>B</th>\n",
       "      <th>C</th>\n",
       "    </tr>\n",
       "  </thead>\n",
       "  <tbody>\n",
       "    <tr>\n",
       "      <th>a</th>\n",
       "      <td>1</td>\n",
       "      <td>2</td>\n",
       "      <td>3</td>\n",
       "    </tr>\n",
       "    <tr>\n",
       "      <th>12.6</th>\n",
       "      <td>4</td>\n",
       "      <td>5</td>\n",
       "      <td>6</td>\n",
       "    </tr>\n",
       "    <tr>\n",
       "      <th>4.8</th>\n",
       "      <td>7</td>\n",
       "      <td>8</td>\n",
       "      <td>9</td>\n",
       "    </tr>\n",
       "    <tr>\n",
       "      <th>4.8</th>\n",
       "      <td>7</td>\n",
       "      <td>8</td>\n",
       "      <td>10</td>\n",
       "    </tr>\n",
       "  </tbody>\n",
       "</table>\n",
       "</div>"
      ],
      "text/plain": [
       "      A  B   C\n",
       "a     1  2   3\n",
       "12.6  4  5   6\n",
       "4.8   7  8   9\n",
       "4.8   7  8  10"
      ]
     },
     "execution_count": 34,
     "metadata": {},
     "output_type": "execute_result"
    }
   ],
   "source": [
    "#Selecting values from a DataFrame where a boolean condition is met.\n",
    "df[df>0]"
   ]
  },
  {
   "cell_type": "markdown",
   "metadata": {},
   "source": [
    "### Combining Data Frames\n",
    "1. Concatenation\n",
    "2. Merging\n",
    "3. Joining"
   ]
  },
  {
   "cell_type": "markdown",
   "metadata": {},
   "source": [
    "#### Lets take two data frames employee1 and employee2"
   ]
  },
  {
   "cell_type": "code",
   "execution_count": 35,
   "metadata": {},
   "outputs": [
    {
     "data": {
      "text/html": [
       "<div>\n",
       "<style scoped>\n",
       "    .dataframe tbody tr th:only-of-type {\n",
       "        vertical-align: middle;\n",
       "    }\n",
       "\n",
       "    .dataframe tbody tr th {\n",
       "        vertical-align: top;\n",
       "    }\n",
       "\n",
       "    .dataframe thead th {\n",
       "        text-align: right;\n",
       "    }\n",
       "</style>\n",
       "<table border=\"1\" class=\"dataframe\">\n",
       "  <thead>\n",
       "    <tr style=\"text-align: right;\">\n",
       "      <th></th>\n",
       "      <th>Eno</th>\n",
       "      <th>Empname</th>\n",
       "    </tr>\n",
       "  </thead>\n",
       "  <tbody>\n",
       "    <tr>\n",
       "      <th>0</th>\n",
       "      <td>100</td>\n",
       "      <td>Raja</td>\n",
       "    </tr>\n",
       "    <tr>\n",
       "      <th>1</th>\n",
       "      <td>101</td>\n",
       "      <td>Babu</td>\n",
       "    </tr>\n",
       "    <tr>\n",
       "      <th>2</th>\n",
       "      <td>102</td>\n",
       "      <td>Kumar</td>\n",
       "    </tr>\n",
       "    <tr>\n",
       "      <th>3</th>\n",
       "      <td>103</td>\n",
       "      <td>Karthik</td>\n",
       "    </tr>\n",
       "    <tr>\n",
       "      <th>4</th>\n",
       "      <td>104</td>\n",
       "      <td>Rajesh</td>\n",
       "    </tr>\n",
       "    <tr>\n",
       "      <th>5</th>\n",
       "      <td>105</td>\n",
       "      <td>Raju</td>\n",
       "    </tr>\n",
       "  </tbody>\n",
       "</table>\n",
       "</div>"
      ],
      "text/plain": [
       "   Eno  Empname\n",
       "0  100     Raja\n",
       "1  101     Babu\n",
       "2  102    Kumar\n",
       "3  103  Karthik\n",
       "4  104   Rajesh\n",
       "5  105     Raju"
      ]
     },
     "execution_count": 35,
     "metadata": {},
     "output_type": "execute_result"
    }
   ],
   "source": [
    "Eno=[100, 101,102, 103, 104,105]\n",
    "Empname= ['Raja', 'Babu', 'Kumar','Karthik','Rajesh','Raju']\n",
    "Eno_Series = pd.Series(Eno)\n",
    "Empname_Series = pd.Series(Empname)\n",
    "df = { 'Eno': Eno_Series, 'Empname': Empname_Series }\n",
    "employee1 = pd.DataFrame(df)\n",
    "employee1"
   ]
  },
  {
   "cell_type": "code",
   "execution_count": 36,
   "metadata": {
    "scrolled": true
   },
   "outputs": [
    {
     "data": {
      "text/html": [
       "<div>\n",
       "<style scoped>\n",
       "    .dataframe tbody tr th:only-of-type {\n",
       "        vertical-align: middle;\n",
       "    }\n",
       "\n",
       "    .dataframe tbody tr th {\n",
       "        vertical-align: top;\n",
       "    }\n",
       "\n",
       "    .dataframe thead th {\n",
       "        text-align: right;\n",
       "    }\n",
       "</style>\n",
       "<table border=\"1\" class=\"dataframe\">\n",
       "  <thead>\n",
       "    <tr style=\"text-align: right;\">\n",
       "      <th></th>\n",
       "      <th>Eno</th>\n",
       "      <th>Empname</th>\n",
       "    </tr>\n",
       "  </thead>\n",
       "  <tbody>\n",
       "    <tr>\n",
       "      <th>0</th>\n",
       "      <td>106</td>\n",
       "      <td>Jack</td>\n",
       "    </tr>\n",
       "    <tr>\n",
       "      <th>1</th>\n",
       "      <td>107</td>\n",
       "      <td>John</td>\n",
       "    </tr>\n",
       "    <tr>\n",
       "      <th>2</th>\n",
       "      <td>108</td>\n",
       "      <td>Peter</td>\n",
       "    </tr>\n",
       "    <tr>\n",
       "      <th>3</th>\n",
       "      <td>109</td>\n",
       "      <td>David</td>\n",
       "    </tr>\n",
       "    <tr>\n",
       "      <th>4</th>\n",
       "      <td>110</td>\n",
       "      <td>Davis</td>\n",
       "    </tr>\n",
       "  </tbody>\n",
       "</table>\n",
       "</div>"
      ],
      "text/plain": [
       "   Eno Empname\n",
       "0  106    Jack\n",
       "1  107    John\n",
       "2  108   Peter\n",
       "3  109   David\n",
       "4  110   Davis"
      ]
     },
     "execution_count": 36,
     "metadata": {},
     "output_type": "execute_result"
    }
   ],
   "source": [
    "Eno1=[106, 107,108, 109, 110]\n",
    "Empname1= ['Jack', 'John', 'Peter','David','Davis']\n",
    "Eno_Series1 = pd.Series(Eno1)\n",
    "Empname_Series1 = pd.Series(Empname1)\n",
    "df = { 'Eno': Eno_Series1, 'Empname': Empname_Series1 }\n",
    "employee2 = pd.DataFrame(df)\n",
    "employee2"
   ]
  },
  {
   "cell_type": "markdown",
   "metadata": {},
   "source": [
    "#### Concatenation"
   ]
  },
  {
   "cell_type": "code",
   "execution_count": 37,
   "metadata": {},
   "outputs": [
    {
     "data": {
      "text/html": [
       "<div>\n",
       "<style scoped>\n",
       "    .dataframe tbody tr th:only-of-type {\n",
       "        vertical-align: middle;\n",
       "    }\n",
       "\n",
       "    .dataframe tbody tr th {\n",
       "        vertical-align: top;\n",
       "    }\n",
       "\n",
       "    .dataframe thead th {\n",
       "        text-align: right;\n",
       "    }\n",
       "</style>\n",
       "<table border=\"1\" class=\"dataframe\">\n",
       "  <thead>\n",
       "    <tr style=\"text-align: right;\">\n",
       "      <th></th>\n",
       "      <th>Eno</th>\n",
       "      <th>Empname</th>\n",
       "    </tr>\n",
       "  </thead>\n",
       "  <tbody>\n",
       "    <tr>\n",
       "      <th>0</th>\n",
       "      <td>100</td>\n",
       "      <td>Raja</td>\n",
       "    </tr>\n",
       "    <tr>\n",
       "      <th>1</th>\n",
       "      <td>101</td>\n",
       "      <td>Babu</td>\n",
       "    </tr>\n",
       "    <tr>\n",
       "      <th>2</th>\n",
       "      <td>102</td>\n",
       "      <td>Kumar</td>\n",
       "    </tr>\n",
       "    <tr>\n",
       "      <th>3</th>\n",
       "      <td>103</td>\n",
       "      <td>Karthik</td>\n",
       "    </tr>\n",
       "    <tr>\n",
       "      <th>4</th>\n",
       "      <td>104</td>\n",
       "      <td>Rajesh</td>\n",
       "    </tr>\n",
       "    <tr>\n",
       "      <th>5</th>\n",
       "      <td>105</td>\n",
       "      <td>Raju</td>\n",
       "    </tr>\n",
       "    <tr>\n",
       "      <th>6</th>\n",
       "      <td>106</td>\n",
       "      <td>Jack</td>\n",
       "    </tr>\n",
       "    <tr>\n",
       "      <th>7</th>\n",
       "      <td>107</td>\n",
       "      <td>John</td>\n",
       "    </tr>\n",
       "    <tr>\n",
       "      <th>8</th>\n",
       "      <td>108</td>\n",
       "      <td>Peter</td>\n",
       "    </tr>\n",
       "    <tr>\n",
       "      <th>9</th>\n",
       "      <td>109</td>\n",
       "      <td>David</td>\n",
       "    </tr>\n",
       "    <tr>\n",
       "      <th>10</th>\n",
       "      <td>110</td>\n",
       "      <td>Davis</td>\n",
       "    </tr>\n",
       "  </tbody>\n",
       "</table>\n",
       "</div>"
      ],
      "text/plain": [
       "    Eno  Empname\n",
       "0   100     Raja\n",
       "1   101     Babu\n",
       "2   102    Kumar\n",
       "3   103  Karthik\n",
       "4   104   Rajesh\n",
       "5   105     Raju\n",
       "6   106     Jack\n",
       "7   107     John\n",
       "8   108    Peter\n",
       "9   109    David\n",
       "10  110    Davis"
      ]
     },
     "execution_count": 37,
     "metadata": {},
     "output_type": "execute_result"
    }
   ],
   "source": [
    "df_concat = pd.concat([employee1, employee2], ignore_index=True)\n",
    "df_concat"
   ]
  },
  {
   "cell_type": "markdown",
   "metadata": {},
   "source": [
    "#### Concatenation with Key Option"
   ]
  },
  {
   "cell_type": "code",
   "execution_count": 38,
   "metadata": {},
   "outputs": [
    {
     "data": {
      "text/html": [
       "<div>\n",
       "<style scoped>\n",
       "    .dataframe tbody tr th:only-of-type {\n",
       "        vertical-align: middle;\n",
       "    }\n",
       "\n",
       "    .dataframe tbody tr th {\n",
       "        vertical-align: top;\n",
       "    }\n",
       "\n",
       "    .dataframe thead th {\n",
       "        text-align: right;\n",
       "    }\n",
       "</style>\n",
       "<table border=\"1\" class=\"dataframe\">\n",
       "  <thead>\n",
       "    <tr style=\"text-align: right;\">\n",
       "      <th></th>\n",
       "      <th></th>\n",
       "      <th>Eno</th>\n",
       "      <th>Empname</th>\n",
       "    </tr>\n",
       "  </thead>\n",
       "  <tbody>\n",
       "    <tr>\n",
       "      <th rowspan=\"6\" valign=\"top\">Section-A</th>\n",
       "      <th>0</th>\n",
       "      <td>100</td>\n",
       "      <td>Raja</td>\n",
       "    </tr>\n",
       "    <tr>\n",
       "      <th>1</th>\n",
       "      <td>101</td>\n",
       "      <td>Babu</td>\n",
       "    </tr>\n",
       "    <tr>\n",
       "      <th>2</th>\n",
       "      <td>102</td>\n",
       "      <td>Kumar</td>\n",
       "    </tr>\n",
       "    <tr>\n",
       "      <th>3</th>\n",
       "      <td>103</td>\n",
       "      <td>Karthik</td>\n",
       "    </tr>\n",
       "    <tr>\n",
       "      <th>4</th>\n",
       "      <td>104</td>\n",
       "      <td>Rajesh</td>\n",
       "    </tr>\n",
       "    <tr>\n",
       "      <th>5</th>\n",
       "      <td>105</td>\n",
       "      <td>Raju</td>\n",
       "    </tr>\n",
       "    <tr>\n",
       "      <th rowspan=\"5\" valign=\"top\">Section-B</th>\n",
       "      <th>0</th>\n",
       "      <td>106</td>\n",
       "      <td>Jack</td>\n",
       "    </tr>\n",
       "    <tr>\n",
       "      <th>1</th>\n",
       "      <td>107</td>\n",
       "      <td>John</td>\n",
       "    </tr>\n",
       "    <tr>\n",
       "      <th>2</th>\n",
       "      <td>108</td>\n",
       "      <td>Peter</td>\n",
       "    </tr>\n",
       "    <tr>\n",
       "      <th>3</th>\n",
       "      <td>109</td>\n",
       "      <td>David</td>\n",
       "    </tr>\n",
       "    <tr>\n",
       "      <th>4</th>\n",
       "      <td>110</td>\n",
       "      <td>Davis</td>\n",
       "    </tr>\n",
       "  </tbody>\n",
       "</table>\n",
       "</div>"
      ],
      "text/plain": [
       "             Eno  Empname\n",
       "Section-A 0  100     Raja\n",
       "          1  101     Babu\n",
       "          2  102    Kumar\n",
       "          3  103  Karthik\n",
       "          4  104   Rajesh\n",
       "          5  105     Raju\n",
       "Section-B 0  106     Jack\n",
       "          1  107     John\n",
       "          2  108    Peter\n",
       "          3  109    David\n",
       "          4  110    Davis"
      ]
     },
     "execution_count": 38,
     "metadata": {},
     "output_type": "execute_result"
    }
   ],
   "source": [
    "frames_collection = [employee1,employee2]\n",
    "df_concat_keys = pd.concat(frames_collection, keys=['Section-A', 'Section-B'])\n",
    "df_concat_keys"
   ]
  },
  {
   "cell_type": "markdown",
   "metadata": {},
   "source": [
    "#### Merging\n",
    "Lets define a new dataframe designation and merge it with employee2"
   ]
  },
  {
   "cell_type": "code",
   "execution_count": 39,
   "metadata": {},
   "outputs": [
    {
     "data": {
      "text/html": [
       "<div>\n",
       "<style scoped>\n",
       "    .dataframe tbody tr th:only-of-type {\n",
       "        vertical-align: middle;\n",
       "    }\n",
       "\n",
       "    .dataframe tbody tr th {\n",
       "        vertical-align: top;\n",
       "    }\n",
       "\n",
       "    .dataframe thead th {\n",
       "        text-align: right;\n",
       "    }\n",
       "</style>\n",
       "<table border=\"1\" class=\"dataframe\">\n",
       "  <thead>\n",
       "    <tr style=\"text-align: right;\">\n",
       "      <th></th>\n",
       "      <th>Eno</th>\n",
       "      <th>Designation</th>\n",
       "    </tr>\n",
       "  </thead>\n",
       "  <tbody>\n",
       "    <tr>\n",
       "      <th>0</th>\n",
       "      <td>106</td>\n",
       "      <td>Programmer</td>\n",
       "    </tr>\n",
       "    <tr>\n",
       "      <th>1</th>\n",
       "      <td>107</td>\n",
       "      <td>Architect</td>\n",
       "    </tr>\n",
       "    <tr>\n",
       "      <th>2</th>\n",
       "      <td>108</td>\n",
       "      <td>Project Manager</td>\n",
       "    </tr>\n",
       "    <tr>\n",
       "      <th>3</th>\n",
       "      <td>109</td>\n",
       "      <td>Data Scientists</td>\n",
       "    </tr>\n",
       "    <tr>\n",
       "      <th>4</th>\n",
       "      <td>110</td>\n",
       "      <td>Business Analyst</td>\n",
       "    </tr>\n",
       "  </tbody>\n",
       "</table>\n",
       "</div>"
      ],
      "text/plain": [
       "   Eno       Designation\n",
       "0  106        Programmer\n",
       "1  107         Architect\n",
       "2  108   Project Manager\n",
       "3  109   Data Scientists\n",
       "4  110  Business Analyst"
      ]
     },
     "execution_count": 39,
     "metadata": {},
     "output_type": "execute_result"
    }
   ],
   "source": [
    "Eno1=[106, 107,108, 109, 110]\n",
    "Designation= ['Programmer', 'Architect', 'Project Manager','Data Scientists','Business Analyst']\n",
    "Eno_Series1 = pd.Series(Eno1)\n",
    "Designation_Series1 = pd.Series(Designation)\n",
    "df = { 'Eno': Eno_Series1, 'Designation': Designation_Series1 }\n",
    "Designation_df = pd.DataFrame(df)\n",
    "Designation_df"
   ]
  },
  {
   "cell_type": "code",
   "execution_count": 40,
   "metadata": {},
   "outputs": [
    {
     "data": {
      "text/html": [
       "<div>\n",
       "<style scoped>\n",
       "    .dataframe tbody tr th:only-of-type {\n",
       "        vertical-align: middle;\n",
       "    }\n",
       "\n",
       "    .dataframe tbody tr th {\n",
       "        vertical-align: top;\n",
       "    }\n",
       "\n",
       "    .dataframe thead th {\n",
       "        text-align: right;\n",
       "    }\n",
       "</style>\n",
       "<table border=\"1\" class=\"dataframe\">\n",
       "  <thead>\n",
       "    <tr style=\"text-align: right;\">\n",
       "      <th></th>\n",
       "      <th>Eno</th>\n",
       "      <th>Empname</th>\n",
       "      <th>Designation</th>\n",
       "    </tr>\n",
       "  </thead>\n",
       "  <tbody>\n",
       "    <tr>\n",
       "      <th>0</th>\n",
       "      <td>106</td>\n",
       "      <td>Jack</td>\n",
       "      <td>Programmer</td>\n",
       "    </tr>\n",
       "    <tr>\n",
       "      <th>1</th>\n",
       "      <td>107</td>\n",
       "      <td>John</td>\n",
       "      <td>Architect</td>\n",
       "    </tr>\n",
       "    <tr>\n",
       "      <th>2</th>\n",
       "      <td>108</td>\n",
       "      <td>Peter</td>\n",
       "      <td>Project Manager</td>\n",
       "    </tr>\n",
       "    <tr>\n",
       "      <th>3</th>\n",
       "      <td>109</td>\n",
       "      <td>David</td>\n",
       "      <td>Data Scientists</td>\n",
       "    </tr>\n",
       "    <tr>\n",
       "      <th>4</th>\n",
       "      <td>110</td>\n",
       "      <td>Davis</td>\n",
       "      <td>Business Analyst</td>\n",
       "    </tr>\n",
       "  </tbody>\n",
       "</table>\n",
       "</div>"
      ],
      "text/plain": [
       "   Eno Empname       Designation\n",
       "0  106    Jack        Programmer\n",
       "1  107    John         Architect\n",
       "2  108   Peter   Project Manager\n",
       "3  109   David   Data Scientists\n",
       "4  110   Davis  Business Analyst"
      ]
     },
     "execution_count": 40,
     "metadata": {},
     "output_type": "execute_result"
    }
   ],
   "source": [
    "df_merge_columns = pd.merge(employee2, Designation_df, on='Eno')\n",
    "df_merge_columns"
   ]
  },
  {
   "cell_type": "markdown",
   "metadata": {},
   "source": [
    "### Join Oparations"
   ]
  },
  {
   "cell_type": "code",
   "execution_count": 41,
   "metadata": {},
   "outputs": [
    {
     "name": "stdout",
     "output_type": "stream",
     "text": [
      "   Eno   Ename0\n",
      "0  100    David\n",
      "1  101     John\n",
      "2  102      Raj\n",
      "3  103     Jack\n",
      "4  104  Shantha \n",
      "###########################\n",
      "    Eno  Salary   Designation\n",
      "0  100    1000     Developer\n",
      "1  101    1200  Sr.Developer\n",
      "2  102    1500  Project Lead\n",
      "3  103    1750            PM\n",
      "4  105    2000            SM\n"
     ]
    }
   ],
   "source": [
    "#Defining two dataframes\n",
    "\n",
    "df1 = pd.DataFrame({'Eno': [100,101,102,103,104],'Ename0': ['David', 'John', 'Raj', 'Jack','Shantha']})\n",
    "\n",
    "df2 = pd.DataFrame({'Eno': [100,101,102,103,105],'Salary': [1000, 1200, 1500, 1750,2000],\n",
    "                                       'Designation': ['Developer', 'Sr.Developer', 'Project Lead', 'PM','SM']})\n",
    "\n",
    "print(df1,\"\\n###########################\\n\",df2)"
   ]
  },
  {
   "cell_type": "markdown",
   "metadata": {},
   "source": [
    "#### Simple Join, By default, it is left Join"
   ]
  },
  {
   "cell_type": "code",
   "execution_count": 42,
   "metadata": {},
   "outputs": [
    {
     "data": {
      "text/html": [
       "<div>\n",
       "<style scoped>\n",
       "    .dataframe tbody tr th:only-of-type {\n",
       "        vertical-align: middle;\n",
       "    }\n",
       "\n",
       "    .dataframe tbody tr th {\n",
       "        vertical-align: top;\n",
       "    }\n",
       "\n",
       "    .dataframe thead th {\n",
       "        text-align: right;\n",
       "    }\n",
       "</style>\n",
       "<table border=\"1\" class=\"dataframe\">\n",
       "  <thead>\n",
       "    <tr style=\"text-align: right;\">\n",
       "      <th></th>\n",
       "      <th>Eno_df1</th>\n",
       "      <th>Ename0</th>\n",
       "      <th>Eno_df2</th>\n",
       "      <th>Salary</th>\n",
       "      <th>Designation</th>\n",
       "    </tr>\n",
       "  </thead>\n",
       "  <tbody>\n",
       "    <tr>\n",
       "      <th>0</th>\n",
       "      <td>100</td>\n",
       "      <td>David</td>\n",
       "      <td>100</td>\n",
       "      <td>1000</td>\n",
       "      <td>Developer</td>\n",
       "    </tr>\n",
       "    <tr>\n",
       "      <th>1</th>\n",
       "      <td>101</td>\n",
       "      <td>John</td>\n",
       "      <td>101</td>\n",
       "      <td>1200</td>\n",
       "      <td>Sr.Developer</td>\n",
       "    </tr>\n",
       "    <tr>\n",
       "      <th>2</th>\n",
       "      <td>102</td>\n",
       "      <td>Raj</td>\n",
       "      <td>102</td>\n",
       "      <td>1500</td>\n",
       "      <td>Project Lead</td>\n",
       "    </tr>\n",
       "    <tr>\n",
       "      <th>3</th>\n",
       "      <td>103</td>\n",
       "      <td>Jack</td>\n",
       "      <td>103</td>\n",
       "      <td>1750</td>\n",
       "      <td>PM</td>\n",
       "    </tr>\n",
       "    <tr>\n",
       "      <th>4</th>\n",
       "      <td>104</td>\n",
       "      <td>Shantha</td>\n",
       "      <td>105</td>\n",
       "      <td>2000</td>\n",
       "      <td>SM</td>\n",
       "    </tr>\n",
       "  </tbody>\n",
       "</table>\n",
       "</div>"
      ],
      "text/plain": [
       "   Eno_df1   Ename0  Eno_df2  Salary   Designation\n",
       "0      100    David      100    1000     Developer\n",
       "1      101     John      101    1200  Sr.Developer\n",
       "2      102      Raj      102    1500  Project Lead\n",
       "3      103     Jack      103    1750            PM\n",
       "4      104  Shantha      105    2000            SM"
      ]
     },
     "execution_count": 42,
     "metadata": {},
     "output_type": "execute_result"
    }
   ],
   "source": [
    "df1.join(df2, lsuffix='_df1', rsuffix='_df2')"
   ]
  },
  {
   "cell_type": "markdown",
   "metadata": {},
   "source": [
    "#### Other Joins"
   ]
  },
  {
   "cell_type": "code",
   "execution_count": 43,
   "metadata": {},
   "outputs": [
    {
     "name": "stdout",
     "output_type": "stream",
     "text": [
      "   Eno Ename0  Salary   Designation\n",
      "0  100  David    1000     Developer\n",
      "1  101   John    1200  Sr.Developer\n",
      "2  102    Raj    1500  Project Lead\n",
      "3  103   Jack    1750            PM\n",
      "\n",
      "##########################\n",
      "\n",
      "Full Outer\n",
      "   Eno   Ename0  Salary   Designation\n",
      "0  100    David  1000.0     Developer\n",
      "1  101     John  1200.0  Sr.Developer\n",
      "2  102      Raj  1500.0  Project Lead\n",
      "3  103     Jack  1750.0            PM\n",
      "4  104  Shantha     NaN           NaN\n",
      "5  105      NaN  2000.0            SM\n",
      "\n",
      "##########################\n",
      "\n",
      "Left Outer\n",
      "   Eno   Ename0  Salary   Designation\n",
      "0  100    David  1000.0     Developer\n",
      "1  101     John  1200.0  Sr.Developer\n",
      "2  102      Raj  1500.0  Project Lead\n",
      "3  103     Jack  1750.0            PM\n",
      "4  104  Shantha     NaN           NaN\n",
      "\n",
      "##########################\n",
      "\n",
      "Right Outer\n",
      "   Eno Ename0  Salary   Designation\n",
      "0  100  David    1000     Developer\n",
      "1  101   John    1200  Sr.Developer\n",
      "2  102    Raj    1500  Project Lead\n",
      "3  103   Jack    1750            PM\n",
      "4  105    NaN    2000            SM\n",
      "\n",
      "##########################\n",
      "\n",
      "Inner \n",
      "   Eno Ename0  Salary   Designation\n",
      "0  100  David    1000     Developer\n",
      "1  101   John    1200  Sr.Developer\n",
      "2  102    Raj    1500  Project Lead\n",
      "3  103   Jack    1750            PM\n",
      "\n",
      "##########################\n",
      "\n"
     ]
    }
   ],
   "source": [
    "df1 = pd.DataFrame({'Eno': [100,101,102,103,104],'Ename0': ['David', 'John', 'Raj', 'Jack','Shantha']})\n",
    "\n",
    "df2 = pd.DataFrame({'Eno': [100,101,102,103,105],'Salary': [1000, 1200, 1500, 1750,2000],\n",
    "                                       'Designation': ['Developer', 'Sr.Developer', 'Project Lead', 'PM','SM']})\n",
    "#Merging two dataframe using common data with common column available in both dataframe\n",
    "\n",
    "df_join = pd.merge(df1, df2, left_on='Eno', right_on='Eno')\n",
    "print(df_join)\n",
    "print(\"\\n##########################\\n\")\n",
    "\n",
    "# Full Outer-\"join\n",
    "print(\"Full Outer\")\n",
    "df_outer = pd.merge(df1, df2, on='Eno', how='outer')\n",
    "print(df_outer)\n",
    "print(\"\\n##########################\\n\")\n",
    "\n",
    "#Left-Outer-join\n",
    "print(\"Left Outer\")\n",
    "df_left = pd.merge(df1, df2, on='Eno', how='left')\n",
    "print(df_left)\n",
    "print(\"\\n##########################\\n\")\n",
    "\n",
    "#Right-Outer-join\n",
    "print(\"Right Outer\")\n",
    "df_right = pd.merge(df1, df2, on='Eno', how='right')\n",
    "print(df_right)\n",
    "print(\"\\n##########################\\n\")\n",
    "\n",
    "#Inner-join\n",
    "print(\"Inner \")\n",
    "df_inner = pd.merge(df1, df2, on='Eno', how='inner')\n",
    "print(df_inner)\n",
    "print(\"\\n##########################\\n\")"
   ]
  },
  {
   "cell_type": "code",
   "execution_count": null,
   "metadata": {},
   "outputs": [],
   "source": []
  }
 ],
 "metadata": {
  "kernelspec": {
   "display_name": "Python 3",
   "language": "python",
   "name": "python3"
  },
  "language_info": {
   "codemirror_mode": {
    "name": "ipython",
    "version": 3
   },
   "file_extension": ".py",
   "mimetype": "text/x-python",
   "name": "python",
   "nbconvert_exporter": "python",
   "pygments_lexer": "ipython3",
   "version": "3.6.12"
  }
 },
 "nbformat": 4,
 "nbformat_minor": 2
}
