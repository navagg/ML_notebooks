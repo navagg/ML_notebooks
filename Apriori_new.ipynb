{
 "cells": [
  {
   "cell_type": "markdown",
   "metadata": {},
   "source": [
    "#### This notebook is to understand the Apriori Algorithm"
   ]
  },
  {
   "cell_type": "code",
   "execution_count": 1,
   "metadata": {},
   "outputs": [],
   "source": [
    "from collections import Counter,OrderedDict"
   ]
  },
  {
   "cell_type": "code",
   "execution_count": 2,
   "metadata": {},
   "outputs": [],
   "source": [
    "# This Function is used to generate all the subset of any set\n",
    "def genSubsets(l):\n",
    "    powerSetSize = 2 ** len(l)\n",
    "    powerSet = []\n",
    "    for i in range(1,powerSetSize):\n",
    "        tempEle = []\n",
    "        for j in range(len(l)):\n",
    "            binFlagInd = i & (1 << j)\n",
    "            if binFlagInd:\n",
    "                tempEle.append(l[j])\n",
    "        powerSet.append(tempEle)\n",
    "    return powerSet"
   ]
  },
  {
   "cell_type": "code",
   "execution_count": 3,
   "metadata": {},
   "outputs": [],
   "source": [
    "# Apriori Algorithm Implementation\n",
    "def genCandidate(Fk1): #Fk1 indicates F(k-1), it is a list of lists\n",
    "    Ck = []\n",
    "    k1  = len(Fk1[0])\n",
    "\n",
    "    # COMBINE STEP\n",
    "    for i in range(len(Fk1)-1):\n",
    "        for j in range(i+1,len(Fk1)):\n",
    "            f1,f2 = Fk1[i],Fk1[j]\n",
    "\n",
    "            if f1[:len(f1)-1] == f2[:len(f2)-1] and f1[-1] < f2[-1]:\n",
    "                tempC = f1 + [f2[-1]]\n",
    "\n",
    "                # PRUNING STEP\n",
    "                subset = genSubsets(tempC)\n",
    "                appendSts = True\n",
    "                for item in subset:\n",
    "                    if len(item) == k1 and item not in Fk1:\n",
    "                        appendSts = False\n",
    "                if appendSts:\n",
    "                    Ck.append(tempC)              \n",
    "    return Ck"
   ]
  },
  {
   "cell_type": "code",
   "execution_count": 4,
   "metadata": {},
   "outputs": [],
   "source": [
    "\n",
    "    \n",
    "def initPass(txList): # list of transactions, most possibly a dict\n",
    "    allTx = [item for tx in txList for item in tx]\n",
    "    allTx.sort()\n",
    "    cntr =  OrderedDict()\n",
    "    for tx in allTx:\n",
    "        cntr[tx] = cntr.get(tx,0) + 1\n",
    "\n",
    "    return cntr\n",
    "\n"
   ]
  },
  {
   "cell_type": "code",
   "execution_count": 5,
   "metadata": {},
   "outputs": [],
   "source": [
    "def searchInT(t,candid):\n",
    "    found = True\n",
    "    for eachCandid in candid:\n",
    "        if eachCandid not in t:\n",
    "            found = False\n",
    "\n",
    "    return found\n"
   ]
  },
  {
   "cell_type": "code",
   "execution_count": 6,
   "metadata": {},
   "outputs": [],
   "source": [
    "def apriori(T,minSup):\n",
    "    finalSet = []\n",
    "    c1 = initPass(T)\n",
    "    f = [[item] for item in c1.keys() if c1[item]/len(T) >= minSup] # f1\n",
    "    \n",
    "    for item in f:\n",
    "        finalSet.append(item)\n",
    "\n",
    "    while len(f) != 0:\n",
    "        Ck = genCandidate(f)\n",
    "        # print(\"Ck\")\n",
    "        # print(Ck)\n",
    "        freqDict = {}\n",
    "        for t in T:\n",
    "            for candidate in Ck:\n",
    "                if searchInT(t,candidate):\n",
    "                    freqDict[tuple(candidate)] = freqDict.get(tuple(candidate),0) + 1\n",
    "        # print(\"freqDict\")\n",
    "        # print(freqDict)\n",
    "        f = []\n",
    "        for c in freqDict.keys():\n",
    "            if freqDict[c]/len(T)>= minSup:\n",
    "                f.append(list(c))\n",
    "\n",
    "        # print(\"f\")\n",
    "        # print(f)\n",
    "        if len(f) != 0:\n",
    "            f = sorted(f,key=lambda x : (len(x),*x))\n",
    "            for item in f:\n",
    "                finalSet.append(item)\n",
    "    # print(finalSet)\n",
    "    return finalSet"
   ]
  },
  {
   "cell_type": "code",
   "execution_count": 7,
   "metadata": {},
   "outputs": [
    {
     "name": "stdout",
     "output_type": "stream",
     "text": [
      "[['1'], ['2'], ['3'], ['5'], ['1', '2'], ['1', '3'], ['1', '5'], ['2', '3'], ['2', '5'], ['3', '5'], ['1', '2', '5'], ['2', '3', '5']]\n"
     ]
    }
   ],
   "source": [
    "T = [\n",
    "    ['1', '3', '4'],\n",
    "    ['2', '3', '5'],\n",
    "    ['1', '2', '3', '5'],\n",
    "    ['1','2','5']\n",
    "    ] \n",
    "\n",
    "print(apriori(T,0.5))"
   ]
  },
  {
   "cell_type": "code",
   "execution_count": 8,
   "metadata": {},
   "outputs": [],
   "source": [
    "T2=[['Bread', 'Milk'], \n",
    "            ['Bread', 'Diapers', 'Beer', 'Eggs'], \n",
    "            ['Milk', 'Diapers', 'Beer', 'Coke'], \n",
    "            ['Bread', 'Milk', 'Diapers', 'Beer'], \n",
    "            ['Bread', 'Milk', 'Diapers', 'Coke']]\n",
    "F=apriori(T2,0.5)"
   ]
  },
  {
   "cell_type": "code",
   "execution_count": 9,
   "metadata": {},
   "outputs": [
    {
     "name": "stdout",
     "output_type": "stream",
     "text": [
      "[['Beer'], ['Bread'], ['Diapers'], ['Milk'], ['Beer', 'Diapers'], ['Bread', 'Diapers'], ['Bread', 'Milk'], ['Diapers', 'Milk']]\n"
     ]
    }
   ],
   "source": [
    "print(F)"
   ]
  },
  {
   "cell_type": "code",
   "execution_count": 36,
   "metadata": {},
   "outputs": [],
   "source": []
  },
  {
   "cell_type": "code",
   "execution_count": null,
   "metadata": {},
   "outputs": [],
   "source": []
  },
  {
   "cell_type": "code",
   "execution_count": null,
   "metadata": {},
   "outputs": [],
   "source": []
  }
 ],
 "metadata": {
  "kernelspec": {
   "display_name": "Python 3",
   "language": "python",
   "name": "python3"
  },
  "language_info": {
   "codemirror_mode": {
    "name": "ipython",
    "version": 3
   },
   "file_extension": ".py",
   "mimetype": "text/x-python",
   "name": "python",
   "nbconvert_exporter": "python",
   "pygments_lexer": "ipython3",
   "version": "3.6.7"
  }
 },
 "nbformat": 4,
 "nbformat_minor": 2
}
