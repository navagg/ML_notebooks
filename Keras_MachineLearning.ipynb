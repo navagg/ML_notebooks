{
  "nbformat": 4,
  "nbformat_minor": 0,
  "metadata": {
    "kernelspec": {
      "display_name": "Python 3",
      "language": "python",
      "name": "python3"
    },
    "language_info": {
      "codemirror_mode": {
        "name": "ipython",
        "version": 3
      },
      "file_extension": ".py",
      "mimetype": "text/x-python",
      "name": "python",
      "nbconvert_exporter": "python",
      "pygments_lexer": "ipython3",
      "version": "3.6.7"
    },
    "colab": {
      "name": "Copy of Keras_MachineLearning.ipynb",
      "version": "0.3.2",
      "provenance": [],
      "include_colab_link": true
    }
  },
  "cells": [
    {
      "cell_type": "markdown",
      "metadata": {
        "id": "view-in-github",
        "colab_type": "text"
      },
      "source": [
        "<a href=\"https://colab.research.google.com/github/navagg/ML_notebooks/blob/master/Keras_MachineLearning.ipynb\" target=\"_parent\"><img src=\"https://colab.research.google.com/assets/colab-badge.svg\" alt=\"Open In Colab\"/></a>"
      ]
    },
    {
      "cell_type": "code",
      "metadata": {
        "id": "NnNGcTI6lWl9",
        "colab_type": "code",
        "outputId": "a013c008-aa4f-4d0f-f2ff-ec7a8186ae1a",
        "colab": {
          "base_uri": "https://localhost:8080/",
          "height": 34
        }
      },
      "source": [
        "%matplotlib inline \n",
        "# display figures in the notebook\n",
        "import matplotlib.pyplot as plt\n",
        "import numpy as np\n",
        "import keras\n",
        "from sklearn.datasets import load_digits\n",
        "\n",
        "digits = load_digits()"
      ],
      "execution_count": 0,
      "outputs": [
        {
          "output_type": "stream",
          "text": [
            "Using TensorFlow backend.\n"
          ],
          "name": "stderr"
        }
      ]
    },
    {
      "cell_type": "code",
      "metadata": {
        "id": "wlTL6pI-lWmE",
        "colab_type": "code",
        "outputId": "d671a646-f987-4400-82ee-0f46a7f9f3d8",
        "colab": {
          "base_uri": "https://localhost:8080/",
          "height": 226
        }
      },
      "source": [
        "sample_index = 75\n",
        "plt.figure(figsize=(3, 3))\n",
        "plt.imshow(digits.images[sample_index], cmap=plt.cm.gray_r,\n",
        "           interpolation='nearest')\n",
        "plt.title(\"image label: %d\" % digits.target[sample_index]);"
      ],
      "execution_count": 0,
      "outputs": [
        {
          "output_type": "display_data",
          "data": {
            "image/png": "[encoded data removed]",
            "text/plain": [
              "<Figure size 216x216 with 1 Axes>"
            ]
          },
          "metadata": {
            "tags": []
          }
        }
      ]
    },
    {
      "cell_type": "markdown",
      "metadata": {
        "id": "IxhGlyxtlWmK",
        "colab_type": "text"
      },
      "source": [
        "# Preprocessing\n",
        "1. normalization\n",
        "2. train/test split"
      ]
    },
    {
      "cell_type": "code",
      "metadata": {
        "id": "0ykF5K8-lWmM",
        "colab_type": "code",
        "colab": {}
      },
      "source": [
        "from sklearn import preprocessing\n",
        "from sklearn.model_selection import train_test_split\n",
        "\n",
        "data = np.asarray(digits.data, dtype='float32')\n",
        "target = np.asarray(digits.target, dtype='int32')\n",
        "\n",
        "X_train, X_test, y_train, y_test = train_test_split(\n",
        "    data, target, test_size=0.15, random_state=37)\n",
        "\n",
        "#print(X_train[:3])\n",
        "# mean = 0 ; standard deviation = 1.0\n",
        "scaler = preprocessing.StandardScaler()\n",
        "X_train = scaler.fit_transform(X_train)\n",
        "X_test = scaler.transform(X_test)\n",
        "\n",
        "#print(scaler.mean_)\n",
        "#print(scaler.scale_)"
      ],
      "execution_count": 0,
      "outputs": []
    },
    {
      "cell_type": "markdown",
      "metadata": {
        "id": "tnIBuMfZlWmQ",
        "colab_type": "text"
      },
      "source": [
        "#### Let's display the one of the transformed sample (after feature standardization):\n",
        "\n"
      ]
    },
    {
      "cell_type": "code",
      "metadata": {
        "id": "lpN8tlcylWmR",
        "colab_type": "code",
        "outputId": "7a238091-b282-4a7a-c554-c91620afdfef",
        "colab": {
          "base_uri": "https://localhost:8080/",
          "height": 242
        }
      },
      "source": [
        "sample_index = 75\n",
        "plt.figure(figsize=(3, 3))\n",
        "plt.imshow(X_train[sample_index].reshape(8, 8),\n",
        "           cmap=plt.cm.gray_r, interpolation='nearest')\n",
        "plt.title(\"transformed sample\\n(standardization)\");"
      ],
      "execution_count": 0,
      "outputs": [
        {
          "output_type": "display_data",
          "data": {
            "image/png": "[encoded data removed]",
            "text/plain": [
              "<Figure size 216x216 with 1 Axes>"
            ]
          },
          "metadata": {
            "tags": []
          }
        }
      ]
    },
    {
      "cell_type": "markdown",
      "metadata": {
        "id": "kj3SaRKVlWmV",
        "colab_type": "text"
      },
      "source": [
        "##### The scaler objects makes it possible to recover the original sample"
      ]
    },
    {
      "cell_type": "code",
      "metadata": {
        "id": "h8WiJSBnlWmX",
        "colab_type": "code",
        "outputId": "d76a4607-accc-41e5-8984-0df76004020b",
        "colab": {
          "base_uri": "https://localhost:8080/",
          "height": 227
        }
      },
      "source": [
        "plt.figure(figsize=(3, 3))\n",
        "plt.imshow(scaler.inverse_transform(X_train[sample_index]).reshape(8, 8),\n",
        "           cmap=plt.cm.gray_r, interpolation='nearest')\n",
        "plt.title(\"original sample\");"
      ],
      "execution_count": 0,
      "outputs": [
        {
          "output_type": "display_data",
          "data": {
            "image/png": "[encoded data removed]",
            "text/plain": [
              "<Figure size 216x216 with 1 Axes>"
            ]
          },
          "metadata": {
            "tags": []
          }
        }
      ]
    },
    {
      "cell_type": "code",
      "metadata": {
        "id": "dFDPkojilWmc",
        "colab_type": "code",
        "outputId": "a46f4913-ae9f-4e46-a062-9c2574af005c",
        "colab": {
          "base_uri": "https://localhost:8080/",
          "height": 54
        }
      },
      "source": [
        "print(X_train.shape, y_train.shape)\n",
        "print(X_test.shape, y_test.shape)"
      ],
      "execution_count": 0,
      "outputs": [
        {
          "output_type": "stream",
          "text": [
            "(1527, 64) (1527,)\n",
            "(270, 64) (270,)\n"
          ],
          "name": "stdout"
        }
      ]
    },
    {
      "cell_type": "markdown",
      "metadata": {
        "id": "9rAL-X9DlWmg",
        "colab_type": "text"
      },
      "source": [
        "#### Feed Forward NN with Keras\n",
        "###### Objectives of this section\n",
        "1. Experiment with different optimizers, activations, size of layers, initializations\n",
        "2. Keras Workflow\n",
        "3. To build a first neural network we need to turn the target variable into a vector \"one-hot-encoding\" representation. Here are the labels of the first samples in the training set encoded as integers:"
      ]
    },
    {
      "cell_type": "code",
      "metadata": {
        "id": "Mm_loO3VlWmh",
        "colab_type": "code",
        "outputId": "1cc5bcf9-aea6-4966-847e-fc9b810dd8e9",
        "colab": {
          "base_uri": "https://localhost:8080/",
          "height": 35
        }
      },
      "source": [
        "y_train[:3]"
      ],
      "execution_count": 0,
      "outputs": [
        {
          "output_type": "execute_result",
          "data": {
            "text/plain": [
              "array([2, 9, 5], dtype=int32)"
            ]
          },
          "metadata": {
            "tags": []
          },
          "execution_count": 7
        }
      ]
    },
    {
      "cell_type": "markdown",
      "metadata": {
        "id": "BsUgqsVglWml",
        "colab_type": "text"
      },
      "source": [
        "#####  Keras provides a utility function to convert integer-encoded categorical variables as one-hot encoded values:"
      ]
    },
    {
      "cell_type": "code",
      "metadata": {
        "id": "L72Ipon6lWmn",
        "colab_type": "code",
        "outputId": "a12daff4-4667-4a54-80a9-63c8740aac6f",
        "colab": {
          "base_uri": "https://localhost:8080/",
          "height": 72
        }
      },
      "source": [
        "\n",
        "from keras.utils.np_utils import to_categorical\n",
        "\n",
        "Y_train = to_categorical(y_train)\n",
        "Y_train[:3]"
      ],
      "execution_count": 0,
      "outputs": [
        {
          "output_type": "execute_result",
          "data": {
            "text/plain": [
              "array([[0., 0., 1., 0., 0., 0., 0., 0., 0., 0.],\n",
              "       [0., 0., 0., 0., 0., 0., 0., 0., 0., 1.],\n",
              "       [0., 0., 0., 0., 0., 1., 0., 0., 0., 0.]], dtype=float32)"
            ]
          },
          "metadata": {
            "tags": []
          },
          "execution_count": 8
        }
      ]
    },
    {
      "cell_type": "code",
      "metadata": {
        "id": "2x6sJrj5lWmq",
        "colab_type": "code",
        "outputId": "51b39834-3020-4cb5-c237-d606a23e18f8",
        "colab": {
          "base_uri": "https://localhost:8080/",
          "height": 563
        }
      },
      "source": [
        "from keras.models import Sequential\n",
        "from keras.layers.core import Dense, Activation\n",
        "from keras import optimizers\n",
        "\n",
        "N = X_train.shape[1]\n",
        "H = 100\n",
        "K = 10\n",
        "\n",
        "model = Sequential()\n",
        "model.add(Dense(H, input_dim=N))\n",
        "model.add(Activation(\"tanh\"))\n",
        "model.add(Dense(K))\n",
        "model.add(Activation(\"softmax\"))\n",
        "\n",
        "model.compile(optimizer=optimizers.Adam(lr=0.1),\n",
        "              loss='categorical_crossentropy', metrics=['accuracy'])\n",
        "\n",
        "model.fit(X_train, Y_train, epochs=15, batch_size=32);"
      ],
      "execution_count": 0,
      "outputs": [
        {
          "output_type": "stream",
          "text": [
            "Epoch 1/15\n",
            "1527/1527 [==============================] - 0s 161us/step - loss: 0.7448 - acc: 0.8317\n",
            "Epoch 2/15\n",
            "1527/1527 [==============================] - 0s 41us/step - loss: 0.2979 - acc: 0.9365\n",
            "Epoch 3/15\n",
            "1527/1527 [==============================] - 0s 42us/step - loss: 0.2827 - acc: 0.9443\n",
            "Epoch 4/15\n",
            "1527/1527 [==============================] - 0s 41us/step - loss: 0.3260 - acc: 0.9443\n",
            "Epoch 5/15\n",
            "1527/1527 [==============================] - 0s 40us/step - loss: 0.3923 - acc: 0.9365\n",
            "Epoch 6/15\n",
            "1527/1527 [==============================] - 0s 41us/step - loss: 0.2885 - acc: 0.9528\n",
            "Epoch 7/15\n",
            "1527/1527 [==============================] - 0s 42us/step - loss: 0.2998 - acc: 0.9587\n",
            "Epoch 8/15\n",
            "1527/1527 [==============================] - 0s 40us/step - loss: 0.2436 - acc: 0.9627\n",
            "Epoch 9/15\n",
            "1527/1527 [==============================] - 0s 45us/step - loss: 0.1990 - acc: 0.9666\n",
            "Epoch 10/15\n",
            "1527/1527 [==============================] - 0s 42us/step - loss: 0.2821 - acc: 0.9574\n",
            "Epoch 11/15\n",
            "1527/1527 [==============================] - 0s 47us/step - loss: 0.2311 - acc: 0.9705\n",
            "Epoch 12/15\n",
            "1527/1527 [==============================] - 0s 46us/step - loss: 0.2226 - acc: 0.9712\n",
            "Epoch 13/15\n",
            "1527/1527 [==============================] - 0s 47us/step - loss: 0.2713 - acc: 0.9620\n",
            "Epoch 14/15\n",
            "1527/1527 [==============================] - 0s 50us/step - loss: 0.2668 - acc: 0.9614\n",
            "Epoch 15/15\n",
            "1527/1527 [==============================] - 0s 44us/step - loss: 0.1616 - acc: 0.9725\n"
          ],
          "name": "stdout"
        }
      ]
    },
    {
      "cell_type": "code",
      "metadata": {
        "id": "NE2ENjA7qLud",
        "colab_type": "code",
        "colab": {}
      },
      "source": [
        ""
      ],
      "execution_count": 0,
      "outputs": []
    }
  ]
}