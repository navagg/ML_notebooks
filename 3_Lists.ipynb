{
 "cells": [
  {
   "cell_type": "markdown",
   "metadata": {},
   "source": [
    "### Lists Dictionaries and Tuples"
   ]
  },
  {
   "cell_type": "code",
   "execution_count": 1,
   "metadata": {},
   "outputs": [
    {
     "name": "stdout",
     "output_type": "stream",
     "text": [
      "[10, 20, 30, 40]\n",
      "['Amazon', 'Flipkart', 'Jabong', 'Myntra']\n"
     ]
    }
   ],
   "source": [
    "# This is a list of numbers\n",
    "first=[10,20,30,40]\n",
    "#This is a list of strings\n",
    "second=[\"Amazon\", 'Flipkart', \"Jabong\", 'Myntra']\n",
    "print(first)\n",
    "print(second)"
   ]
  },
  {
   "cell_type": "markdown",
   "metadata": {},
   "source": [
    "### The elements of a list don’t have to be the same type. The following list contains a string, a float, an integer, and (amazingly) another list"
   ]
  },
  {
   "cell_type": "code",
   "execution_count": 2,
   "metadata": {},
   "outputs": [
    {
     "name": "stdout",
     "output_type": "stream",
     "text": [
      "['hello', 2.0, 5, [10, 20]]\n"
     ]
    }
   ],
   "source": [
    "third=[\"hello\", 2.0, 5, [10, 20]]\n",
    "print(third)"
   ]
  },
  {
   "cell_type": "markdown",
   "metadata": {},
   "source": [
    "### A list within another list is said to be nested. \n",
    "### Finally, a list with no elements is called an empty list, It is denoted [ ].\n"
   ]
  },
  {
   "cell_type": "code",
   "execution_count": 3,
   "metadata": {},
   "outputs": [
    {
     "name": "stdout",
     "output_type": "stream",
     "text": [
      "[]\n"
     ]
    }
   ],
   "source": [
    "empty=[]\n",
    "print(empty)"
   ]
  },
  {
   "cell_type": "code",
   "execution_count": 4,
   "metadata": {},
   "outputs": [
    {
     "name": "stdout",
     "output_type": "stream",
     "text": [
      "10 Flipkart 5\n"
     ]
    }
   ],
   "source": [
    "print(first[0], second[1], third[2])"
   ]
  },
  {
   "cell_type": "code",
   "execution_count": 5,
   "metadata": {},
   "outputs": [
    {
     "ename": "TypeError",
     "evalue": "list indices must be integers or slices, not float",
     "output_type": "error",
     "traceback": [
      "\u001b[1;31m---------------------------------------------------------------------------\u001b[0m",
      "\u001b[1;31mTypeError\u001b[0m                                 Traceback (most recent call last)",
      "\u001b[1;32m<ipython-input-5-a6359cc43a0d>\u001b[0m in \u001b[0;36m<module>\u001b[1;34m()\u001b[0m\n\u001b[0;32m      1\u001b[0m \u001b[1;31m# Giving float as an index will give an error\u001b[0m\u001b[1;33m\u001b[0m\u001b[1;33m\u001b[0m\u001b[0m\n\u001b[1;32m----> 2\u001b[1;33m \u001b[0mprint\u001b[0m\u001b[1;33m(\u001b[0m\u001b[0mfirst\u001b[0m\u001b[1;33m[\u001b[0m\u001b[1;36m1.0\u001b[0m\u001b[1;33m]\u001b[0m\u001b[1;33m)\u001b[0m\u001b[1;33m\u001b[0m\u001b[0m\n\u001b[0m",
      "\u001b[1;31mTypeError\u001b[0m: list indices must be integers or slices, not float"
     ]
    }
   ],
   "source": [
    "# Giving float as an index will give an error\n",
    "print(first[1.0])"
   ]
  },
  {
   "cell_type": "markdown",
   "metadata": {},
   "source": [
    "### using Loop Variable: there are many ways"
   ]
  },
  {
   "cell_type": "code",
   "execution_count": 6,
   "metadata": {},
   "outputs": [
    {
     "name": "stdout",
     "output_type": "stream",
     "text": [
      "war\n",
      "famine\n",
      "pestilence\n",
      "death\n"
     ]
    }
   ],
   "source": [
    "horsemen = [\"war\", \"famine\", \"pestilence\", \"death\"] \n",
    "# First way\n",
    "for i in [0, 1, 2, 3]: \n",
    "    print(horsemen[i])"
   ]
  },
  {
   "cell_type": "code",
   "execution_count": 7,
   "metadata": {},
   "outputs": [
    {
     "name": "stdout",
     "output_type": "stream",
     "text": [
      "war\n",
      "famine\n",
      "pestilence\n",
      "death\n"
     ]
    }
   ],
   "source": [
    "#Second way\n",
    "for h in horsemen: \n",
    "    print(h)"
   ]
  },
  {
   "cell_type": "code",
   "execution_count": 8,
   "metadata": {},
   "outputs": [
    {
     "name": "stdout",
     "output_type": "stream",
     "text": [
      "war\n",
      "famine\n",
      "pestilence\n",
      "death\n"
     ]
    }
   ],
   "source": [
    "#Third way\n",
    "for i in range(len(horsemen)): \n",
    "    print(horsemen[i])"
   ]
  },
  {
   "cell_type": "code",
   "execution_count": 9,
   "metadata": {},
   "outputs": [
    {
     "name": "stdout",
     "output_type": "stream",
     "text": [
      "0 war\n",
      "1 famine\n",
      "2 pestilence\n",
      "3 death\n"
     ]
    }
   ],
   "source": [
    "#Fourth Way\n",
    "for (i, v) in enumerate(horsemen):  # enumerate gives both index and value\n",
    "    print(i, v)"
   ]
  },
  {
   "cell_type": "markdown",
   "metadata": {},
   "source": [
    "### Conditions in Lists"
   ]
  },
  {
   "cell_type": "code",
   "execution_count": 11,
   "metadata": {},
   "outputs": [
    {
     "name": "stdout",
     "output_type": "stream",
     "text": [
      "It is there\n"
     ]
    }
   ],
   "source": [
    "if 'war' in horsemen:\n",
    "    print(\"It is there\")"
   ]
  },
  {
   "cell_type": "code",
   "execution_count": 2,
   "metadata": {},
   "outputs": [],
   "source": [
    "if 50 in first:\n",
    "    print('It is there')"
   ]
  },
  {
   "cell_type": "markdown",
   "metadata": {},
   "source": [
    "### Accesing Nested Data"
   ]
  },
  {
   "cell_type": "code",
   "execution_count": 14,
   "metadata": {},
   "outputs": [
    {
     "name": "stdout",
     "output_type": "stream",
     "text": [
      "The number of students taking CompSci is 3\n"
     ]
    }
   ],
   "source": [
    "students = [ \n",
    "    (\"John\", [\"CompSci\", \"Physics\"]), \n",
    "    (\"Vusi\", [\"Maths\", \"CompSci\", \"Stats\"]), \n",
    "    (\"Jess\", [\"CompSci\", \"Accounting\", \"Economics\", \"Management\"]), \n",
    "    (\"Sarah\", [\"InfSys\", \"Accounting\", \"Economics\", \"CommLaw\"]), \n",
    "    (\"Zuki\", [\"Sociology\", \"Economics\", \"Law\", \"Stats\", \"Music\"]) ] \n",
    "# Count how many students are taking CompSci \n",
    "counter = 0 \n",
    "for (name, subjects) in students: \n",
    "    if \"CompSci\" in subjects: \n",
    "        counter += 1\n",
    "print(\"The number of students taking CompSci is\", counter)"
   ]
  },
  {
   "cell_type": "markdown",
   "metadata": {},
   "source": [
    "### Slicing the Data"
   ]
  },
  {
   "cell_type": "code",
   "execution_count": 15,
   "metadata": {},
   "outputs": [
    {
     "name": "stdout",
     "output_type": "stream",
     "text": [
      "['b', 'c']\n",
      "['a', 'b', 'c', 'd']\n",
      "['d', 'e', 'f']\n",
      "['a', 'b', 'c', 'd', 'e', 'f']\n"
     ]
    }
   ],
   "source": [
    "a_list = [\"a\", \"b\", \"c\", \"d\", \"e\", \"f\"] \n",
    "print(a_list[1:3]) \n",
    "print(a_list[:4])\n",
    "print(a_list[3:])\n",
    "print(a_list[:])"
   ]
  },
  {
   "cell_type": "markdown",
   "metadata": {},
   "source": [
    "### The + operator concatenates lists\n",
    "### The * operator repeats a list a given number of times"
   ]
  },
  {
   "cell_type": "code",
   "execution_count": 16,
   "metadata": {},
   "outputs": [
    {
     "name": "stdout",
     "output_type": "stream",
     "text": [
      "[10, 20, 30, 40, 'Amazon', 'Flipkart', 'Jabong', 'Myntra']\n",
      "[10, 20, 30, 40, 10, 20, 30, 40, 10, 20, 30, 40]\n"
     ]
    }
   ],
   "source": [
    "fourth=first+second\n",
    "print(fourth)\n",
    "fifth=first*3\n",
    "print(fifth)"
   ]
  },
  {
   "cell_type": "markdown",
   "metadata": {},
   "source": [
    "### Mutating the List (changing element of a List)"
   ]
  },
  {
   "cell_type": "code",
   "execution_count": 17,
   "metadata": {},
   "outputs": [
    {
     "name": "stdout",
     "output_type": "stream",
     "text": [
      "['T', 'E', 'X', 'T']\n"
     ]
    }
   ],
   "source": [
    "my_list = [\"T\", \"E\", \"S\", \"T\"] \n",
    "my_list[2] = \"X\" #Changing an element\n",
    "print(my_list)"
   ]
  },
  {
   "cell_type": "code",
   "execution_count": 20,
   "metadata": {},
   "outputs": [
    {
     "name": "stdout",
     "output_type": "stream",
     "text": [
      "['T', 'O', 'S', 'T']\n"
     ]
    }
   ],
   "source": [
    "my_list[1:3]=['O', 'S']\n",
    "print(my_list)"
   ]
  },
  {
   "cell_type": "code",
   "execution_count": 21,
   "metadata": {},
   "outputs": [
    {
     "name": "stdout",
     "output_type": "stream",
     "text": [
      "['T', 'T']\n"
     ]
    }
   ],
   "source": [
    "my_list[1:3]=[ ]  #Assigning empty list will remove elements\n",
    "print(my_list)"
   ]
  },
  {
   "cell_type": "code",
   "execution_count": 23,
   "metadata": {},
   "outputs": [
    {
     "name": "stdout",
     "output_type": "stream",
     "text": [
      "['T', 'O', 'S', 'T']\n"
     ]
    }
   ],
   "source": [
    "my_list[1:1]=['O', 'S'] #Adding elements to lists\n",
    "print(my_list)"
   ]
  },
  {
   "cell_type": "code",
   "execution_count": 24,
   "metadata": {},
   "outputs": [
    {
     "name": "stdout",
     "output_type": "stream",
     "text": [
      "['T', 'S', 'T']\n"
     ]
    }
   ],
   "source": [
    "del my_list[1] #Delete first elements to lists\n",
    "print(my_list)"
   ]
  },
  {
   "cell_type": "markdown",
   "metadata": {},
   "source": [
    "### Objects and references"
   ]
  },
  {
   "cell_type": "code",
   "execution_count": 25,
   "metadata": {},
   "outputs": [
    {
     "name": "stdout",
     "output_type": "stream",
     "text": [
      "True\n",
      "False\n"
     ]
    }
   ],
   "source": [
    "#For Strings\n",
    "a_string = \"banana\" \n",
    "b_string = \"banana\"\n",
    "a_list=[1,2,3]\n",
    "b_list=[1,2,3]\n",
    "print(a_string is b_string) \n",
    "print(a_list is b_list)"
   ]
  },
  {
   "cell_type": "code",
   "execution_count": 26,
   "metadata": {},
   "outputs": [
    {
     "name": "stdout",
     "output_type": "stream",
     "text": [
      "True\n"
     ]
    }
   ],
   "source": [
    "#Aliasing an Object\n",
    "b_list=a_list\n",
    "print(a_list is b_list)"
   ]
  },
  {
   "cell_type": "markdown",
   "metadata": {},
   "source": [
    "#### Aliasing an Object"
   ]
  },
  {
   "cell_type": "code",
   "execution_count": 27,
   "metadata": {},
   "outputs": [
    {
     "name": "stdout",
     "output_type": "stream",
     "text": [
      "[1, 4, 3]\n"
     ]
    }
   ],
   "source": [
    "#Changes in b will make changes in a as well\n",
    "b_list[1]=4\n",
    "print(a_list)"
   ]
  },
  {
   "cell_type": "markdown",
   "metadata": {},
   "source": [
    "#### Cloning an Object"
   ]
  },
  {
   "cell_type": "code",
   "execution_count": 34,
   "metadata": {},
   "outputs": [
    {
     "name": "stdout",
     "output_type": "stream",
     "text": [
      "[1, 4, 3]\n"
     ]
    }
   ],
   "source": [
    "c_list=a_list[:]\n",
    "print(c_list)"
   ]
  },
  {
   "cell_type": "code",
   "execution_count": 35,
   "metadata": {},
   "outputs": [
    {
     "name": "stdout",
     "output_type": "stream",
     "text": [
      "[1, 2, 3]\n",
      "[1, 4, 3]\n"
     ]
    }
   ],
   "source": [
    "# Changing c_list won't affect a_list\n",
    "c_list[1]=2\n",
    "print(c_list)\n",
    "print(a_list)"
   ]
  },
  {
   "cell_type": "markdown",
   "metadata": {},
   "source": [
    "### List Methods"
   ]
  },
  {
   "cell_type": "code",
   "execution_count": 36,
   "metadata": {},
   "outputs": [
    {
     "name": "stdout",
     "output_type": "stream",
     "text": [
      "[1, 2, 3, 4]\n"
     ]
    }
   ],
   "source": [
    "# Appending the List\n",
    "c_list.append(4)\n",
    "print(c_list)"
   ]
  },
  {
   "cell_type": "code",
   "execution_count": 37,
   "metadata": {},
   "outputs": [
    {
     "name": "stdout",
     "output_type": "stream",
     "text": [
      "[1, 2, 5, 3, 4]\n"
     ]
    }
   ],
   "source": [
    "# Inserting an element 5 at position 2\n",
    "c_list.insert(2,5)\n",
    "print(c_list)"
   ]
  },
  {
   "cell_type": "code",
   "execution_count": 38,
   "metadata": {},
   "outputs": [
    {
     "name": "stdout",
     "output_type": "stream",
     "text": [
      "[1, 2, 5, 3, 4, 5, 6]\n"
     ]
    }
   ],
   "source": [
    "# Extending the list\n",
    "c_list.extend([5,6])\n",
    "print(c_list)"
   ]
  },
  {
   "cell_type": "code",
   "execution_count": 39,
   "metadata": {},
   "outputs": [
    {
     "name": "stdout",
     "output_type": "stream",
     "text": [
      "2\n"
     ]
    }
   ],
   "source": [
    "# Counting the number of times a particular element\n",
    "print(c_list.count(5))"
   ]
  },
  {
   "cell_type": "code",
   "execution_count": 40,
   "metadata": {},
   "outputs": [
    {
     "name": "stdout",
     "output_type": "stream",
     "text": [
      "2\n"
     ]
    }
   ],
   "source": [
    "#Finding index of first 5 in the list\n",
    "print(c_list.index(5))"
   ]
  },
  {
   "cell_type": "code",
   "execution_count": 43,
   "metadata": {},
   "outputs": [
    {
     "name": "stdout",
     "output_type": "stream",
     "text": [
      "[6, 5, 4, 3, 5, 2, 1]\n"
     ]
    }
   ],
   "source": [
    "#reversing the List\n",
    "c_list.reverse()\n",
    "print(c_list)"
   ]
  },
  {
   "cell_type": "code",
   "execution_count": 44,
   "metadata": {},
   "outputs": [
    {
     "name": "stdout",
     "output_type": "stream",
     "text": [
      "[1, 2, 3, 4, 5, 5, 6]\n"
     ]
    }
   ],
   "source": [
    "#Sorting the list\n",
    "c_list.sort()\n",
    "print(c_list)"
   ]
  },
  {
   "cell_type": "code",
   "execution_count": 45,
   "metadata": {},
   "outputs": [
    {
     "name": "stdout",
     "output_type": "stream",
     "text": [
      "[1, 2, 3, 4, 5, 6]\n"
     ]
    }
   ],
   "source": [
    "#Removing the first 5 in the list\n",
    "c_list.remove(5)\n",
    "print(c_list)"
   ]
  },
  {
   "cell_type": "markdown",
   "metadata": {},
   "source": [
    "### Function can return a list"
   ]
  },
  {
   "cell_type": "code",
   "execution_count": 3,
   "metadata": {},
   "outputs": [
    {
     "name": "stdout",
     "output_type": "stream",
     "text": [
      "[2, 3, 5, 7, 11, 13, 17, 19, 23, 29, 31, 37, 41, 43, 47, 53, 59, 61, 67, 71, 73, 79, 83, 89, 97]\n"
     ]
    }
   ],
   "source": [
    "def is_prime(x):\n",
    "    if x < 2:\n",
    "        return False\n",
    "    else:\n",
    "        for n in range(2,x):\n",
    "            if x % n == 0:\n",
    "               return False\n",
    "        return True\n",
    "def primes_lessthan(n): \n",
    "    \"\"\" Return a list of all prime numbers less than n. \"\"\" \n",
    "    result = [] \n",
    "    for i in range(2, n): \n",
    "        if is_prime(i): \n",
    "            result.append(i) \n",
    "    return result\n",
    "r=primes_lessthan(100)\n",
    "print(r)"
   ]
  },
  {
   "cell_type": "markdown",
   "metadata": {},
   "source": [
    "### Lists and Strings"
   ]
  },
  {
   "cell_type": "code",
   "execution_count": 51,
   "metadata": {},
   "outputs": [
    {
     "name": "stdout",
     "output_type": "stream",
     "text": [
      "['The', 'rain', 'in', 'Spain...']\n"
     ]
    }
   ],
   "source": [
    "song = \"The rain in Spain...\" \n",
    "words = song.split() \n",
    "print(words) "
   ]
  },
  {
   "cell_type": "code",
   "execution_count": 52,
   "metadata": {},
   "outputs": [
    {
     "name": "stdout",
     "output_type": "stream",
     "text": [
      "['The r', 'n in Sp', 'n...']\n"
     ]
    }
   ],
   "source": [
    "print(song.split(\"ai\")) "
   ]
  },
  {
   "cell_type": "code",
   "execution_count": 54,
   "metadata": {},
   "outputs": [
    {
     "name": "stdout",
     "output_type": "stream",
     "text": [
      "The;rain;in;Spain...\n",
      "The --- rain --- in --- Spain...\n"
     ]
    }
   ],
   "source": [
    "glue = \";\" \n",
    "print(glue.join(words)) \n",
    "print(\" --- \".join(words))"
   ]
  },
  {
   "cell_type": "markdown",
   "metadata": {},
   "source": [
    "#### List and Range"
   ]
  },
  {
   "cell_type": "code",
   "execution_count": 56,
   "metadata": {},
   "outputs": [
    {
     "name": "stdout",
     "output_type": "stream",
     "text": [
      "['H', 'a', 'p', 'p', 'y', ' ', 'N', 'e', 'w', ' ', 'y', 'e', 'a', 'r']\n",
      "Happy New year\n"
     ]
    }
   ],
   "source": [
    "xs = list(\"Happy New year\")\n",
    "print(xs)\n",
    "print(\"\".join(xs)) "
   ]
  },
  {
   "cell_type": "code",
   "execution_count": 57,
   "metadata": {},
   "outputs": [
    {
     "name": "stdout",
     "output_type": "stream",
     "text": [
      "[0, 1, 2, 3, 4, 5, 6, 7, 8, 9]\n"
     ]
    }
   ],
   "source": [
    "# Call in the promise, to produce a list. \n",
    "print(list(range(10))) "
   ]
  },
  {
   "cell_type": "markdown",
   "metadata": {},
   "source": [
    "### Matrices"
   ]
  },
  {
   "cell_type": "code",
   "execution_count": 58,
   "metadata": {},
   "outputs": [
    {
     "name": "stdout",
     "output_type": "stream",
     "text": [
      "[4, 5, 6]\n"
     ]
    }
   ],
   "source": [
    "mx = [[1, 2, 3], [4, 5, 6], [7, 8, 9]] \n",
    "print(mx[1])"
   ]
  },
  {
   "cell_type": "code",
   "execution_count": 60,
   "metadata": {},
   "outputs": [
    {
     "name": "stdout",
     "output_type": "stream",
     "text": [
      "8\n"
     ]
    }
   ],
   "source": [
    "print(mx[2][1])"
   ]
  },
  {
   "cell_type": "markdown",
   "metadata": {},
   "source": [
    "### Tuples"
   ]
  },
  {
   "cell_type": "markdown",
   "metadata": {},
   "source": [
    "##### Tuples are used for grouping data using parentheses\n",
    "##### Tuples are useful for representing what other languages often call records .There is no description of what each of these fields means.\n",
    "##### Tuples support the same sequence operations as strings. \n",
    "##### But if we try to use item assignment to modify one of the elements of the tuple, we get an error, i.e. \n",
    "### They are immutable like strings"
   ]
  },
  {
   "cell_type": "code",
   "execution_count": 61,
   "metadata": {},
   "outputs": [
    {
     "name": "stdout",
     "output_type": "stream",
     "text": [
      "('Julia', 'Roberts', 1967, 'Duplicity', 2009, 'Actress', 'Atlanta, Georgia')\n"
     ]
    }
   ],
   "source": [
    "records = (\"Julia\", \"Roberts\", 1967, \"Duplicity\", 2009, \"Actress\", \"Atlanta, Georgia\")\n",
    "print (records)"
   ]
  },
  {
   "cell_type": "code",
   "execution_count": 63,
   "metadata": {},
   "outputs": [
    {
     "ename": "TypeError",
     "evalue": "'tuple' object does not support item assignment",
     "output_type": "error",
     "traceback": [
      "\u001b[1;31m---------------------------------------------------------------------------\u001b[0m",
      "\u001b[1;31mTypeError\u001b[0m                                 Traceback (most recent call last)",
      "\u001b[1;32m<ipython-input-63-05c392604887>\u001b[0m in \u001b[0;36m<module>\u001b[1;34m()\u001b[0m\n\u001b[1;32m----> 1\u001b[1;33m \u001b[0mrecords\u001b[0m\u001b[1;33m[\u001b[0m\u001b[1;36m4\u001b[0m\u001b[1;33m]\u001b[0m\u001b[1;33m=\u001b[0m\u001b[1;34m\"Eat Pray Love\"\u001b[0m\u001b[1;33m\u001b[0m\u001b[0m\n\u001b[0m\u001b[0;32m      2\u001b[0m \u001b[0mprint\u001b[0m\u001b[1;33m(\u001b[0m\u001b[0mrecords\u001b[0m\u001b[1;33m)\u001b[0m\u001b[1;33m\u001b[0m\u001b[0m\n",
      "\u001b[1;31mTypeError\u001b[0m: 'tuple' object does not support item assignment"
     ]
    }
   ],
   "source": [
    "#This way of assignment is not allowed and it will give error\n",
    "records[4]=\"Eat Pray Love\"\n",
    "print(records)"
   ]
  },
  {
   "cell_type": "code",
   "execution_count": 62,
   "metadata": {},
   "outputs": [
    {
     "name": "stdout",
     "output_type": "stream",
     "text": [
      "('Julia', 'Roberts', 1967, 'Eat Pray Love', 2010, 'Actress', 'Atlanta, Georgia')\n"
     ]
    }
   ],
   "source": [
    "# This is the way to modify the tuple by assigning again\n",
    "records= records[:3] + (\"Eat Pray Love\", 2010) + records[5:]\n",
    "print(records)"
   ]
  },
  {
   "cell_type": "code",
   "execution_count": 64,
   "metadata": {},
   "outputs": [
    {
     "data": {
      "text/plain": [
       "tuple"
      ]
     },
     "execution_count": 64,
     "metadata": {},
     "output_type": "execute_result"
    }
   ],
   "source": [
    "## To create a tuple with a single element, we have to include the final comma, \n",
    "##because without the final comma, Python treats the (5) below as an integer in parentheses\n",
    "tup=(5,)\n",
    "type(tup)"
   ]
  },
  {
   "cell_type": "markdown",
   "metadata": {},
   "source": [
    "### Tuple Packing and Unpacking"
   ]
  },
  {
   "cell_type": "code",
   "execution_count": 65,
   "metadata": {},
   "outputs": [
    {
     "name": "stdout",
     "output_type": "stream",
     "text": [
      "Bob 19 CS\n"
     ]
    }
   ],
   "source": [
    "## Tuple Packing\n",
    "b = (\"Bob\", 19, \"CS\") \n",
    "## Tuple Unpacking\n",
    "(name, age, studies) = b # tuple unpacking\n",
    "print(name, age, studies)"
   ]
  },
  {
   "cell_type": "markdown",
   "metadata": {},
   "source": [
    "### Tuples can be returned from a function"
   ]
  },
  {
   "cell_type": "code",
   "execution_count": 67,
   "metadata": {},
   "outputs": [
    {
     "name": "stdout",
     "output_type": "stream",
     "text": [
      "(25.12, 50.24)\n"
     ]
    }
   ],
   "source": [
    "def f(r): \n",
    "    \"\"\" Return (circumference, area) of a circle of radius r \"\"\" \n",
    "    c = 2 * 3.14 * r \n",
    "    a = 3.14 * r * r \n",
    "    return (c, a)\n",
    "print(f(4))"
   ]
  },
  {
   "cell_type": "markdown",
   "metadata": {},
   "source": [
    "## Dictionaries\n",
    "#### Dictionaries are yet another kind of compound type. \n",
    "#### Python’s built-in mapping type to map keys (immutable type), to values, (heterogeneous), \n",
    "#### just like the elements of a list or tuple. \n",
    "#### One way to create a dictionary is to start with the empty dictionary and add key:value pairs. \n",
    "#### The empty dictionary is denoted {}:\n"
   ]
  },
  {
   "cell_type": "code",
   "execution_count": 69,
   "metadata": {},
   "outputs": [
    {
     "name": "stdout",
     "output_type": "stream",
     "text": [
      "{'one': 'uno', 'two': 'dos'}\n"
     ]
    }
   ],
   "source": [
    "eng2sp = {} \n",
    "eng2sp[\"one\"] = \"uno\" \n",
    "eng2sp[\"two\"] = \"dos\"\n",
    "print(eng2sp) "
   ]
  },
  {
   "cell_type": "markdown",
   "metadata": {},
   "source": [
    "#### Another Example"
   ]
  },
  {
   "cell_type": "code",
   "execution_count": 73,
   "metadata": {},
   "outputs": [
    {
     "name": "stdout",
     "output_type": "stream",
     "text": [
      "{'money': 12, 'candy': 3, 'tissues': 75}\n",
      "3\n"
     ]
    }
   ],
   "source": [
    "purse = dict()\n",
    "purse['money'] = 12\n",
    "purse['candy'] = 3\n",
    "purse['tissues'] = 75\n",
    "print(purse) \n",
    "print(purse['candy'])"
   ]
  },
  {
   "cell_type": "code",
   "execution_count": 72,
   "metadata": {},
   "outputs": [
    {
     "name": "stdout",
     "output_type": "stream",
     "text": [
      "{'money': 12, 'candy': 7, 'tissues': 75}\n"
     ]
    }
   ],
   "source": [
    "purse['candy'] = purse['candy'] + 2\n",
    "print(purse)"
   ]
  },
  {
   "cell_type": "markdown",
   "metadata": {},
   "source": [
    "### Dictionary Operations"
   ]
  },
  {
   "cell_type": "code",
   "execution_count": 74,
   "metadata": {},
   "outputs": [
    {
     "name": "stdout",
     "output_type": "stream",
     "text": [
      "{'apples': 430, 'bananas': 312}\n"
     ]
    }
   ],
   "source": [
    "# Deleting an item\n",
    "inventory = {\"apples\": 430, \"bananas\": 312, \"pears\": 217}\n",
    "del inventory[\"pears\"] \n",
    "print(inventory) "
   ]
  },
  {
   "cell_type": "code",
   "execution_count": 75,
   "metadata": {},
   "outputs": [
    {
     "name": "stdout",
     "output_type": "stream",
     "text": [
      "{'apples': 430, 'bananas': 312, 'pears': 0}\n"
     ]
    }
   ],
   "source": [
    "# Adding an item\n",
    "inventory[\"pears\"] = 0 \n",
    "print(inventory) "
   ]
  },
  {
   "cell_type": "code",
   "execution_count": 76,
   "metadata": {},
   "outputs": [
    {
     "name": "stdout",
     "output_type": "stream",
     "text": [
      "{'apples': 430, 'bananas': 512, 'pears': 0}\n"
     ]
    }
   ],
   "source": [
    "# Changing an item\n",
    "inventory[\"bananas\"] += 200\n",
    "print(inventory) "
   ]
  },
  {
   "cell_type": "code",
   "execution_count": 77,
   "metadata": {},
   "outputs": [
    {
     "name": "stdout",
     "output_type": "stream",
     "text": [
      "3\n"
     ]
    }
   ],
   "source": [
    "# length of dictionary\n",
    "print(len(inventory))"
   ]
  },
  {
   "cell_type": "code",
   "execution_count": 78,
   "metadata": {},
   "outputs": [
    {
     "name": "stdout",
     "output_type": "stream",
     "text": [
      "{'apples': 430, 'bananas': 512, 'pears': 100}\n"
     ]
    }
   ],
   "source": [
    "# Making Aliases and Copy\n",
    "first=inventory\n",
    "second=inventory.copy()"
   ]
  },
  {
   "cell_type": "code",
   "execution_count": 80,
   "metadata": {},
   "outputs": [
    {
     "name": "stdout",
     "output_type": "stream",
     "text": [
      "{'apples': 430, 'bananas': 512, 'pears': 100}\n",
      "{'apples': 430, 'bananas': 512, 'pears': 100}\n",
      "{'apples': 430, 'bananas': 512, 'pears': 200}\n"
     ]
    }
   ],
   "source": [
    "# Now changing both and looking at effect on original\n",
    "first[\"pears\"]=100\n",
    "print(inventory)\n",
    "second[\"pears\"]=200\n",
    "print(inventory)\n",
    "print(second)"
   ]
  },
  {
   "cell_type": "markdown",
   "metadata": {},
   "source": [
    "#### Example to Count names in list"
   ]
  },
  {
   "cell_type": "code",
   "execution_count": 82,
   "metadata": {},
   "outputs": [
    {
     "name": "stdout",
     "output_type": "stream",
     "text": [
      "{'Raj': 2, 'Ramesh': 1, 'Zeenat': 1, 'Ram': 1}\n"
     ]
    }
   ],
   "source": [
    "counts = dict()\n",
    "names = ['Raj', 'Ramesh', 'Raj', 'Zeenat', 'Ram']\n",
    "for name in names :\n",
    "    if name not in counts:\n",
    "        counts[name] = 1\n",
    "    else :\n",
    "        counts[name] = counts[name] + 1\n",
    "print(counts)"
   ]
  },
  {
   "cell_type": "markdown",
   "metadata": {},
   "source": [
    "#### Example Fibonacci Series"
   ]
  },
  {
   "cell_type": "code",
   "execution_count": 92,
   "metadata": {},
   "outputs": [
    {
     "name": "stdout",
     "output_type": "stream",
     "text": [
      "55\n"
     ]
    }
   ],
   "source": [
    "alreadyknown = {0: 0, 1: 1}\n",
    "\n",
    "def fib(n): \n",
    "    #new_value=0\n",
    "    if n not in alreadyknown: \n",
    "        new_value = fib(n-1) + fib(n-2)\n",
    "        alreadyknown[n]=new_value\n",
    "    return alreadyknown[n]\n",
    "print(fib(10))"
   ]
  },
  {
   "cell_type": "code",
   "execution_count": null,
   "metadata": {},
   "outputs": [],
   "source": []
  }
 ],
 "metadata": {
  "kernelspec": {
   "display_name": "Python 3",
   "language": "python",
   "name": "python3"
  },
  "language_info": {
   "codemirror_mode": {
    "name": "ipython",
    "version": 3
   },
   "file_extension": ".py",
   "mimetype": "text/x-python",
   "name": "python",
   "nbconvert_exporter": "python",
   "pygments_lexer": "ipython3",
   "version": "3.6.2"
  }
 },
 "nbformat": 4,
 "nbformat_minor": 2
}
